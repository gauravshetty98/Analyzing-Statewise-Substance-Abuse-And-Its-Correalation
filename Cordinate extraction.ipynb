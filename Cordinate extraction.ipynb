{
 "cells": [
  {
   "cell_type": "markdown",
   "id": "922b7268",
   "metadata": {},
   "source": [
    "# Notebook for extracting latitude and longitude from address\n",
    "\n",
    "Datasets used in this notebook for extracting longitude and latitude:\n",
    "\n",
    "Rehabilitation Centers: https://www.samhsa.gov/data/report/2023-national-directory-of-drug-and-alcohol-use-treatment-facilities\n",
    "\n",
    "Mental Health Treatment Centers: https://www.samhsa.gov/data/report/2023-national-directory-of-mental-health-treatment-facilities"
   ]
  },
  {
   "cell_type": "markdown",
   "id": "07c9754d",
   "metadata": {},
   "source": [
    "## Installing GeoPy library"
   ]
  },
  {
   "cell_type": "code",
   "execution_count": null,
   "id": "5e4cb085",
   "metadata": {},
   "outputs": [],
   "source": [
    "!pip install geopy"
   ]
  },
  {
   "cell_type": "markdown",
   "id": "55396846",
   "metadata": {},
   "source": [
    "## Importing other required libraries"
   ]
  },
  {
   "cell_type": "code",
   "execution_count": 2,
   "id": "15ebb32b",
   "metadata": {},
   "outputs": [],
   "source": [
    "import os\n",
    "from os import path\n",
    "import pandas as pd\n",
    "import numpy as np\n",
    "from geopy.geocoders import Nominatim\n",
    "from geopy.extra.rate_limiter import RateLimiter"
   ]
  },
  {
   "cell_type": "markdown",
   "id": "b5498ad8",
   "metadata": {},
   "source": [
    "## Importing the dataset containing all the addresses for different rehab centers"
   ]
  },
  {
   "cell_type": "code",
   "execution_count": 4,
   "id": "82861b85",
   "metadata": {},
   "outputs": [],
   "source": [
    "!wget -q -O rehab_dir.xlsx https://github.com/gauravshetty98/Gaurav-GIS-Repo/raw/main/national-directory-su-facilities-2023.xlsx"
   ]
  },
  {
   "cell_type": "code",
   "execution_count": 5,
   "id": "183c1686",
   "metadata": {},
   "outputs": [
    {
     "name": "stdout",
     "output_type": "stream",
     "text": [
      "                                 Name1                                Name2  \\\n",
      "0       Shelby County Treatment Center                                  NaN   \n",
      "1  Lighthouse of Tallapoosa County Inc  Substance Abuse Rehab Program/Resid   \n",
      "2            South Central Alabama MHC                    Montezuma Complex   \n",
      "3        Anniston Fellowship House Inc                                  NaN   \n",
      "4               State Line Medical LLC                                  NaN   \n",
      "\n",
      "                Street1 Street2            City State    Zip         Phone  \\\n",
      "0  750 Highway 31 South     NaN       Alabaster    AL  35007  205-216-0200   \n",
      "1    36 Franklin Street     NaN  Alexander City    AL  35010  256-234-4894   \n",
      "2     205 Academy Drive     NaN       Andalusia    AL  36420  334-428-5050   \n",
      "3  106 East 22nd Street     NaN        Anniston    AL  36201  256-236-7229   \n",
      "4     26928 Main Street     NaN         Ardmore    AL  35739  256-374-6537   \n",
      "\n",
      "        Intake1 Intake2 Intake1a Intake2a  \\\n",
      "0           NaN     NaN      NaN      NaN   \n",
      "1           NaN     NaN      NaN      NaN   \n",
      "2  877-530-0002     NaN      NaN      NaN   \n",
      "3           NaN     NaN      NaN      NaN   \n",
      "4           NaN     NaN      NaN      NaN   \n",
      "\n",
      "                                   Service_code_info  \n",
      "0  SA DT SUMH * OP OD OIT OMB ORT * MU BU NU * PM...  \n",
      "1  SA HH SUMH * RES RL * BU * RPE PC * ACMA * AUR...  \n",
      "2  SA * OP RES ORT RS * PC * ACMA * AUPC * MOA * ...  \n",
      "3  SA HH * RES RL * RPE PC * ACMA * AURPE * MOA *...  \n",
      "4  SA DT * OP OD OMB ORT * BU * ACMA * AUPC * DB ...  \n",
      "(12744, 13)\n"
     ]
    }
   ],
   "source": [
    "rehab_dir = pd.read_excel('rehab_dir.xlsx', sheet_name = 0)\n",
    "print(rehab_dir.head())\n",
    "print(rehab_dir.shape)"
   ]
  },
  {
   "cell_type": "markdown",
   "id": "1d93274a",
   "metadata": {},
   "source": [
    "## Inititalizing GeoPy Nominatim"
   ]
  },
  {
   "cell_type": "code",
   "execution_count": 4,
   "id": "46de55f2",
   "metadata": {},
   "outputs": [
    {
     "name": "stdout",
     "output_type": "stream",
     "text": [
      "Latitude =  38.4237433 \n",
      "\n",
      "Longitude =  27.1428019\n"
     ]
    }
   ],
   "source": [
    "loc = Nominatim(user_agent=\"Geopy Library\")\n",
    "\n",
    "getLoc = loc.geocode(\"İzmir\")\n",
    "\n",
    "print(\"Latitude = \", getLoc.latitude, \"\\n\")\n",
    "print(\"Longitude = \", getLoc.longitude)"
   ]
  },
  {
   "cell_type": "markdown",
   "id": "6f871d0a",
   "metadata": {},
   "source": [
    "## Running a loop through the dataframe to extract latitude and longitude for each address"
   ]
  },
  {
   "cell_type": "code",
   "execution_count": 10,
   "id": "99d4f515",
   "metadata": {},
   "outputs": [
    {
     "name": "stdout",
     "output_type": "stream",
     "text": [
      "0\n",
      "1000\n",
      "2000\n",
      "3000\n",
      "4000\n",
      "5000\n",
      "not found:  5155\n",
      "6000\n",
      "7000\n",
      "not found:  7092\n",
      "8000\n",
      "9000\n",
      "10000\n",
      "11000\n",
      "12000\n",
      "12744\n",
      "12744\n"
     ]
    }
   ],
   "source": [
    "lat_list = []\n",
    "long_list = []\n",
    "geocode = RateLimiter(loc.geocode, min_delay_seconds=1/20)\n",
    "\n",
    "for i in range(0,rehab_dir.shape[0]):\n",
    "    try:\n",
    "        if len(str(rehab_dir.iloc[i,6])) == 4:\n",
    "            getLoc = loc.geocode(\"0\"+str(rehab_dir.iloc[i,6])+\" , united states\")\n",
    "            lat_list.append(getLoc.latitude)\n",
    "            long_list.append(getLoc.longitude)\n",
    "        else:\n",
    "            getLoc = loc.geocode(str(rehab_dir.iloc[i,6])+\" , united states\")\n",
    "            lat_list.append(getLoc.latitude)\n",
    "            long_list.append(getLoc.longitude)\n",
    "        if i % 1000 == 0:\n",
    "            print(i)\n",
    "    except:\n",
    "        lat_list.append(0)\n",
    "        long_list.append(0)\n",
    "        print(\"not found: \", i)\n",
    "\n",
    "print(len(lat_list))\n",
    "print(len(long_list))"
   ]
  },
  {
   "cell_type": "code",
   "execution_count": 11,
   "id": "b5eaa17a",
   "metadata": {},
   "outputs": [],
   "source": [
    "rehab_dir['lat'] = lat_list\n",
    "rehab_dir['long'] = long_list"
   ]
  },
  {
   "cell_type": "code",
   "execution_count": 10,
   "id": "90d2e737",
   "metadata": {},
   "outputs": [],
   "source": [
    "state_list = ['AL', 'AZ', 'AR', 'CA', 'CO', 'CT', 'DE', 'DC', 'FL', 'GA', 'ID',\n",
    "       'IL', 'IN', 'IA', 'KS', 'KY', 'LA', 'ME', 'MD', 'MA', 'MI', 'MN',\n",
    "       'MS', 'MO', 'MT', 'NE', 'NV', 'NH', 'NJ', 'NM', 'NY', 'NC', 'ND',\n",
    "       'OH', 'OK', 'OR', 'PA', 'RI', 'SC', 'SD', 'TN', 'TX', 'UT', 'VT',\n",
    "       'VA', 'WA', 'WV', 'WI', 'WY']\n"
   ]
  },
  {
   "cell_type": "markdown",
   "id": "d0c7f4df",
   "metadata": {},
   "source": [
    "## Removing all the rehab centers for states which we are not considering"
   ]
  },
  {
   "cell_type": "code",
   "execution_count": 25,
   "id": "c18ea0b6",
   "metadata": {},
   "outputs": [
    {
     "name": "stdout",
     "output_type": "stream",
     "text": [
      "[128, 129, 130, 131, 132, 133, 134, 135, 136, 137, 138, 139, 140, 141, 142, 143, 144, 145, 146, 147, 148, 149, 150, 151, 152, 153, 154, 155, 156, 157, 158, 159, 160, 161, 162, 163, 164, 165, 166, 167, 168, 169, 170, 171, 172, 173, 174, 175, 176, 177, 178, 179, 180, 181, 182, 183, 184, 185, 186, 187, 188, 189, 190, 191, 192, 193, 194, 195, 196, 197, 198, 3302, 3303, 3304, 3305, 3306, 3307, 3308, 3309, 3310, 3311, 3312, 3313, 3314, 3315, 3316, 3317, 3318, 3319, 3320, 3321, 3322, 3323, 3324, 3325, 3326, 3327, 3328, 3329, 3330, 3331, 3332, 3333, 3334, 3335, 3336, 3337, 3338, 3339, 3340, 3341, 3342, 3343, 3344, 3345, 3346, 3347, 3348, 3349, 3350, 3351, 3352, 3353, 3354, 3355, 3356, 3357, 3358, 3359, 3360, 3361, 3362, 3363, 3364, 3365, 3366, 3367, 3368, 3369, 3370, 3371, 3372, 3373, 3374, 3375, 3376, 3377, 3378, 3379, 3380, 3381, 3382, 3383, 9306, 10575, 10576, 10577, 10578, 10579, 10580, 10581, 10582, 10583, 10584, 10585, 10586, 10587, 10588, 10589, 10590, 10591, 10592, 10593, 10594, 10595, 10596, 10597, 10598, 10599, 10600, 10601, 10602, 10603, 10604, 10605, 10606, 10607, 10608, 10609, 10610, 10611, 10612, 10613, 10614, 10615, 10616, 10617, 10618, 10619, 10620, 10621, 10622, 10623, 10624, 10625, 10626, 10627, 10628, 10629, 10630, 10631, 10632, 10633, 10634, 10635, 10636, 10637, 10638]\n"
     ]
    }
   ],
   "source": [
    "count_list = []\n",
    "for i in range(rehab_dir.shape[0]):\n",
    "    if rehab_dir.iloc[i,5] not in state_list:\n",
    "        count_list.append(i)\n",
    "print(count_list)"
   ]
  },
  {
   "cell_type": "code",
   "execution_count": 27,
   "id": "8bdea032",
   "metadata": {},
   "outputs": [],
   "source": [
    "rehab_dir1 = rehab_dir.drop(index = count_list)\n",
    "rehab_dir1 = rehab_dir1.reset_index()"
   ]
  },
  {
   "cell_type": "markdown",
   "id": "b4383bb2",
   "metadata": {},
   "source": [
    "## Removing some outliers present in the rehab list"
   ]
  },
  {
   "cell_type": "code",
   "execution_count": 115,
   "id": "774b9a53",
   "metadata": {},
   "outputs": [],
   "source": [
    "outlier_list =[598, 611, 3757, 3761, 4076, 4757, 5002, 6939, 7813, 9128, 9763]"
   ]
  },
  {
   "cell_type": "code",
   "execution_count": 81,
   "id": "539ce5c5",
   "metadata": {},
   "outputs": [],
   "source": [
    "rehab_dir2 = rehab_dir1.drop(index = outlier_list)\n",
    "rehab_dir2 = rehab_dir2.reset_index()"
   ]
  },
  {
   "cell_type": "markdown",
   "id": "e6385f6b",
   "metadata": {},
   "source": [
    "## Storing the final dataframe in CSV format"
   ]
  },
  {
   "cell_type": "code",
   "execution_count": null,
   "id": "2df03f8d",
   "metadata": {},
   "outputs": [],
   "source": [
    "rehab_dir2.to_csv('rehab_dir_lat_long5.csv')"
   ]
  },
  {
   "cell_type": "markdown",
   "id": "92016641",
   "metadata": {},
   "source": [
    "## Repeating the process of mental health treatment centers"
   ]
  },
  {
   "cell_type": "code",
   "execution_count": 1,
   "id": "b00a15b8",
   "metadata": {},
   "outputs": [],
   "source": [
    "!wget -q -O mh_dir.xlsx https://github.com/gauravshetty98/Gaurav-GIS-Repo/raw/main/national-directory-mh-facilities-2023.xlsx"
   ]
  },
  {
   "cell_type": "code",
   "execution_count": 3,
   "id": "61639d84",
   "metadata": {},
   "outputs": [
    {
     "name": "stdout",
     "output_type": "stream",
     "text": [
      "                        Name1                                  Name2  \\\n",
      "0  SpectraCare Health Systems                    Henry County Clinic   \n",
      "1  SpectraCare Health Systems             Henry County Day Treatment   \n",
      "2   South Central Alabama MHC  Covington County Mental Health Center   \n",
      "3   South Central Alabama MHC                      Montezuma Complex   \n",
      "4           RMC Health System                Regional Medical Center   \n",
      "\n",
      "                     Street1 Street2       City State    Zip         Phone  \\\n",
      "0            219 Dothan Road     NaN  Abbeville    AL  36310  800-951-4357   \n",
      "1  1242 US Highway 431 South     NaN  Abbeville    AL  36310  800-951-4357   \n",
      "2      19815 Bay Branch Road     NaN  Andalusia    AL  36420  334-222-2523   \n",
      "3          205 Academy Drive     NaN  Andalusia    AL  36420  334-428-5050   \n",
      "4       400 East 10th Street     NaN   Anniston    AL  36207  256-235-5121   \n",
      "\n",
      "        Intake1       Intake2 Intake1a Intake2a  \\\n",
      "0           NaN           NaN      NaN      NaN   \n",
      "1  334-951-4357           NaN      NaN      NaN   \n",
      "2  877-530-0002           NaN      NaN      NaN   \n",
      "3  877-530-0002           NaN      NaN      NaN   \n",
      "4  256-235-5082  256-235-5482      NaN      NaN   \n",
      "\n",
      "                                   Service_code_info  \n",
      "0  SA MH SUMH * OP * CMHC * CHLOR FLUPH HALOP PER...  \n",
      "1  MH SUMH * OP * CMHC * CHLOR FLUPH HALOP PERPH ...  \n",
      "2  MH SUMH * OP * CMHC * FLUPH HALOP PERPH THIOT ...  \n",
      "3  SA MH SUMH * OP PHDT RES * MSMH * FLUPH HALOP ...  \n",
      "4  SA MH * HI * IPSY * CHLOR FLUPH HALOP LOXAP AR...  \n",
      "(8707, 13)\n"
     ]
    }
   ],
   "source": [
    "mh_dir = pd.read_excel('mh_dir.xlsx', sheet_name = 0)\n",
    "print(mh_dir.head())\n",
    "print(mh_dir.shape)"
   ]
  },
  {
   "cell_type": "markdown",
   "id": "8302dbc0",
   "metadata": {},
   "source": [
    "## Converting all the addresses into latitude and longitude"
   ]
  },
  {
   "cell_type": "code",
   "execution_count": 5,
   "id": "80ee4e4a",
   "metadata": {},
   "outputs": [
    {
     "name": "stdout",
     "output_type": "stream",
     "text": [
      "0\n",
      "not found:  116\n",
      "1000\n",
      "2000\n",
      "3000\n",
      "not found:  3160\n",
      "4000\n",
      "5000\n",
      "6000\n",
      "7000\n",
      "8000\n",
      "8707\n",
      "8707\n"
     ]
    }
   ],
   "source": [
    "lat_list = []\n",
    "long_list = []\n",
    "geocode = RateLimiter(loc.geocode, min_delay_seconds=1/20)\n",
    "\n",
    "for i in range(0,mh_dir.shape[0]):\n",
    "    try:\n",
    "        if len(str(mh_dir.iloc[i,6])) == 4:\n",
    "            getLoc = loc.geocode(\"0\"+str(mh_dir.iloc[i,6])+\" , united states\")\n",
    "            lat_list.append(getLoc.latitude)\n",
    "            long_list.append(getLoc.longitude)\n",
    "        else:\n",
    "            getLoc = loc.geocode(str(mh_dir.iloc[i,6])+\" , united states\")\n",
    "            lat_list.append(getLoc.latitude)\n",
    "            long_list.append(getLoc.longitude)\n",
    "        if i % 1000 == 0:\n",
    "            print(i)\n",
    "    except:\n",
    "        lat_list.append(0)\n",
    "        long_list.append(0)\n",
    "        print(\"not found: \", i)\n",
    "\n",
    "print(len(lat_list))\n",
    "print(len(long_list))"
   ]
  },
  {
   "cell_type": "code",
   "execution_count": 7,
   "id": "1c759479",
   "metadata": {},
   "outputs": [],
   "source": [
    "mh_dir['lat'] = lat_list\n",
    "mh_dir['long'] = long_list"
   ]
  },
  {
   "cell_type": "markdown",
   "id": "f30d7e06",
   "metadata": {},
   "source": [
    "## Removing states not used in final project"
   ]
  },
  {
   "cell_type": "code",
   "execution_count": 11,
   "id": "a2ac7f6a",
   "metadata": {},
   "outputs": [
    {
     "name": "stdout",
     "output_type": "stream",
     "text": [
      "[101, 102, 103, 104, 105, 106, 107, 108, 109, 110, 111, 112, 113, 114, 115, 116, 117, 118, 119, 120, 121, 122, 123, 124, 125, 126, 127, 128, 129, 130, 131, 132, 133, 134, 135, 136, 137, 138, 139, 140, 141, 142, 143, 144, 145, 146, 147, 148, 149, 150, 151, 152, 153, 154, 155, 156, 157, 158, 159, 160, 161, 162, 163, 164, 165, 166, 167, 168, 169, 170, 171, 172, 173, 174, 175, 176, 177, 178, 2177, 2178, 2179, 2180, 2181, 2182, 2183, 2184, 2185, 2186, 2187, 2188, 2189, 2190, 2191, 2192, 2193, 2194, 5857, 6976, 6977, 6978, 6979, 6980, 6981, 6982, 6983, 6984, 6985, 6986, 6987, 6988, 6989, 6990, 6991, 6992, 6993, 6994, 6995, 6996, 6997, 6998, 6999, 7000, 7001, 7002, 7003, 7004, 7005, 7006, 7007, 7008, 7009, 7010, 7011, 7012, 7642, 7643, 7644, 7645]\n"
     ]
    }
   ],
   "source": [
    "count_list = []\n",
    "for i in range(mh_dir.shape[0]):\n",
    "    if mh_dir.iloc[i,5] not in state_list:\n",
    "        count_list.append(i)\n",
    "print(count_list)"
   ]
  },
  {
   "cell_type": "code",
   "execution_count": 12,
   "id": "770737e6",
   "metadata": {},
   "outputs": [],
   "source": [
    "mh_dir1 = mh_dir.drop(index = count_list)\n",
    "mh_dir1 = mh_dir1.reset_index()"
   ]
  },
  {
   "cell_type": "markdown",
   "id": "bb9e381c",
   "metadata": {},
   "source": [
    "## Removing some outliers from the list"
   ]
  },
  {
   "cell_type": "code",
   "execution_count": 29,
   "id": "7a2a1d71",
   "metadata": {},
   "outputs": [],
   "source": [
    "outlier = [18, 1562, 2139, 2140, 2356, 2358, 3064, 4302, 4700, 8179]"
   ]
  },
  {
   "cell_type": "code",
   "execution_count": 30,
   "id": "cbd94f82",
   "metadata": {},
   "outputs": [],
   "source": [
    "mh_dir2 = mh_dir1.drop(index = outlier)\n",
    "mh_dir2 = mh_dir2.reset_index()"
   ]
  },
  {
   "cell_type": "markdown",
   "id": "0ba40431",
   "metadata": {},
   "source": [
    "## Converting the final dataframe to CSV"
   ]
  },
  {
   "cell_type": "code",
   "execution_count": 31,
   "id": "7637e5bf",
   "metadata": {},
   "outputs": [],
   "source": [
    "mh_dir2.to_csv('mental_health_centers2.csv')"
   ]
  }
 ],
 "metadata": {
  "kernelspec": {
   "display_name": "Python 3 (ipykernel)",
   "language": "python",
   "name": "python3"
  },
  "language_info": {
   "codemirror_mode": {
    "name": "ipython",
    "version": 3
   },
   "file_extension": ".py",
   "mimetype": "text/x-python",
   "name": "python",
   "nbconvert_exporter": "python",
   "pygments_lexer": "ipython3",
   "version": "3.11.4"
  }
 },
 "nbformat": 4,
 "nbformat_minor": 5
}
