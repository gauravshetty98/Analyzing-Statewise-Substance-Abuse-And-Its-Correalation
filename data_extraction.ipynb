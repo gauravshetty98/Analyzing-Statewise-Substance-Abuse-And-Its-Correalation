{
  "nbformat": 4,
  "nbformat_minor": 0,
  "metadata": {
    "colab": {
      "provenance": [],
      "toc_visible": true,
      "include_colab_link": true
    },
    "kernelspec": {
      "name": "python3",
      "display_name": "Python 3"
    },
    "language_info": {
      "name": "python"
    }
  },
  "cells": [
    {
      "cell_type": "markdown",
      "metadata": {
        "id": "view-in-github",
        "colab_type": "text"
      },
      "source": [
        "<a href=\"https://colab.research.google.com/github/gauravshetty98/Gaurav-GIS-Repo/blob/main/data_extraction.ipynb\" target=\"_parent\"><img src=\"https://colab.research.google.com/assets/colab-badge.svg\" alt=\"Open In Colab\"/></a>"
      ]
    },
    {
      "cell_type": "markdown",
      "source": [
        "### Data Extraction and Cleaning\n",
        "\n",
        "This notebook represents the steps to download the zip file from GitHub repository and extract the data from its content and create a single dataset.\n",
        "\n",
        "Dataset :  https://www.samhsa.gov/data/report/2021-nsduh-state-specific-tables\n",
        "\n",
        "The dataset contains state-wise PDFs with drug abuse and mental health information of the respective state.\n",
        "\n",
        "We start of by installing `tabula` library. This library is used to extract the tables from the PDFs.\n"
      ],
      "metadata": {
        "id": "N0uDqhGy89XW"
      }
    },
    {
      "cell_type": "code",
      "source": [
        "!pip install -q tabula-py"
      ],
      "metadata": {
        "id": "DtzQaJNsnbfJ"
      },
      "execution_count": 1,
      "outputs": []
    },
    {
      "cell_type": "markdown",
      "source": [
        "Once the library is installed, we move on to import all the required libraries. We make use of google drive to store the PDFs present in the dataset.\n",
        "\n",
        "**This notebook requires your google drive mounting to store dataset files. You can delete those files after running the notebook**\n",
        "\n"
      ],
      "metadata": {
        "id": "AdRWSGKy-V4u"
      }
    },
    {
      "cell_type": "code",
      "execution_count": 2,
      "metadata": {
        "colab": {
          "base_uri": "https://localhost:8080/"
        },
        "id": "inMGLPGG_0pB",
        "outputId": "01d5a305-7bea-4fcf-e1fd-114ea2668511"
      },
      "outputs": [
        {
          "output_type": "stream",
          "name": "stdout",
          "text": [
            "Drive already mounted at /content//gdrive; to attempt to forcibly remount, call drive.mount(\"/content//gdrive\", force_remount=True).\n"
          ]
        }
      ],
      "source": [
        "import os\n",
        "from os import path\n",
        "import tabula\n",
        "import pandas as pd\n",
        "import numpy as np\n",
        "\n",
        "from google.colab import drive\n",
        "\n",
        "drive.mount(\"/content//gdrive\")"
      ]
    },
    {
      "cell_type": "markdown",
      "source": [
        "### Creating folders for storing all the data\n",
        "\n",
        "`2021NSDUHsaeSpecificStatesTabs122022` is the name of the new folder. This folder will contain all the state wise PDFs.\n",
        "A `tables` folder is also present, which will contain all the tables extracted from each state PDF.\n",
        "\n"
      ],
      "metadata": {
        "id": "T6wxZ86J_Se8"
      }
    },
    {
      "cell_type": "code",
      "source": [
        "dir = \"//content//gdrive//My Drive//2021NSDUHsaeSpecificStatesTabs122022\"\n",
        "folder_name = \"tables\""
      ],
      "metadata": {
        "id": "MPr05FfuBYP6"
      },
      "execution_count": 3,
      "outputs": []
    },
    {
      "cell_type": "markdown",
      "source": [
        "Creating a new folder if it is not present"
      ],
      "metadata": {
        "id": "uQO1CHP6AuAw"
      }
    },
    {
      "cell_type": "code",
      "source": [
        "if os.path.exists(dir) == False:\n",
        "    os.mkdir(dir)\n",
        "    print(\"done\")\n",
        "if os.path.exists(dir+\"//\"+folder_name) == False:\n",
        "    os.mkdir(dir+\"//\"+folder_name)\n",
        "    print(\"done\")\n",
        "\n",
        "!ls \"//content//gdrive//My Drive//2021NSDUHsaeSpecificStatesTabs122022\""
      ],
      "metadata": {
        "id": "5gcfXPQ0C9bo",
        "outputId": "12b44653-8d69-4275-d520-eda82b3bf2aa",
        "colab": {
          "base_uri": "https://localhost:8080/"
        }
      },
      "execution_count": 4,
      "outputs": [
        {
          "output_type": "stream",
          "name": "stdout",
          "text": [
            "done\n",
            "done\n",
            "tables\n"
          ]
        }
      ]
    },
    {
      "cell_type": "markdown",
      "source": [
        "Downloading the zip file from GitHub and extracting it into the drive folder we created"
      ],
      "metadata": {
        "id": "eVbW17dQBBs2"
      }
    },
    {
      "cell_type": "code",
      "source": [
        "!wget \"https://github.com/gauravshetty98/Gaurav-GIS-Repo/raw/main/2021NSDUHsaeSpecificStatesTabs122022.zip\"\n",
        "!unzip /content/2021NSDUHsaeSpecificStatesTabs122022.zip -d \"//content//gdrive//My Drive//2021NSDUHsaeSpecificStatesTabs122022\""
      ],
      "metadata": {
        "colab": {
          "base_uri": "https://localhost:8080/"
        },
        "id": "wvVJlMZ65wZt",
        "outputId": "96026bd9-714f-43f8-e757-ef915d5ece58"
      },
      "execution_count": 5,
      "outputs": [
        {
          "output_type": "stream",
          "name": "stdout",
          "text": [
            "--2023-09-14 16:40:40--  https://github.com/gauravshetty98/Gaurav-GIS-Repo/raw/main/2021NSDUHsaeSpecificStatesTabs122022.zip\n",
            "Resolving github.com (github.com)... 140.82.114.3\n",
            "Connecting to github.com (github.com)|140.82.114.3|:443... connected.\n",
            "HTTP request sent, awaiting response... 302 Found\n",
            "Location: https://raw.githubusercontent.com/gauravshetty98/Gaurav-GIS-Repo/main/2021NSDUHsaeSpecificStatesTabs122022.zip [following]\n",
            "--2023-09-14 16:40:40--  https://raw.githubusercontent.com/gauravshetty98/Gaurav-GIS-Repo/main/2021NSDUHsaeSpecificStatesTabs122022.zip\n",
            "Resolving raw.githubusercontent.com (raw.githubusercontent.com)... 185.199.108.133, 185.199.109.133, 185.199.110.133, ...\n",
            "Connecting to raw.githubusercontent.com (raw.githubusercontent.com)|185.199.108.133|:443... connected.\n",
            "HTTP request sent, awaiting response... 200 OK\n",
            "Length: 13301032 (13M) [application/zip]\n",
            "Saving to: ‘2021NSDUHsaeSpecificStatesTabs122022.zip.7’\n",
            "\n",
            "2021NSDUHsaeSpecifi 100%[===================>]  12.68M  83.9MB/s    in 0.2s    \n",
            "\n",
            "2023-09-14 16:40:40 (83.9 MB/s) - ‘2021NSDUHsaeSpecificStatesTabs122022.zip.7’ saved [13301032/13301032]\n",
            "\n",
            "Archive:  /content/2021NSDUHsaeSpecificStatesTabs122022.zip\n",
            "   creating: //content//gdrive//My Drive//2021NSDUHsaeSpecificStatesTabs122022/images/\n",
            "  inflating: //content//gdrive//My Drive//2021NSDUHsaeSpecificStatesTabs122022/images/scaltoc.gif  \n",
            "  inflating: //content//gdrive//My Drive//2021NSDUHsaeSpecificStatesTabs122022/images/scaltop.gif  \n",
            "  inflating: //content//gdrive//My Drive//2021NSDUHsaeSpecificStatesTabs122022/NSDUHsaeAlabama2021.pdf  \n",
            "  inflating: //content//gdrive//My Drive//2021NSDUHsaeSpecificStatesTabs122022/NSDUHsaeAlaska2021.pdf  \n",
            "  inflating: //content//gdrive//My Drive//2021NSDUHsaeSpecificStatesTabs122022/NSDUHsaeArizona2021.pdf  \n",
            "  inflating: //content//gdrive//My Drive//2021NSDUHsaeSpecificStatesTabs122022/NSDUHsaeArkansas2021.pdf  \n",
            "  inflating: //content//gdrive//My Drive//2021NSDUHsaeSpecificStatesTabs122022/NSDUHsaeCalifornia2021.pdf  \n",
            "  inflating: //content//gdrive//My Drive//2021NSDUHsaeSpecificStatesTabs122022/NSDUHsaeColorado2021.pdf  \n",
            "  inflating: //content//gdrive//My Drive//2021NSDUHsaeSpecificStatesTabs122022/NSDUHsaeConnecticut2021.pdf  \n",
            "  inflating: //content//gdrive//My Drive//2021NSDUHsaeSpecificStatesTabs122022/NSDUHsaeDelaware2021.pdf  \n",
            "  inflating: //content//gdrive//My Drive//2021NSDUHsaeSpecificStatesTabs122022/NSDUHsaeDistrictOfCol2021.pdf  \n",
            "  inflating: //content//gdrive//My Drive//2021NSDUHsaeSpecificStatesTabs122022/NSDUHsaeFlorida2021.pdf  \n",
            "  inflating: //content//gdrive//My Drive//2021NSDUHsaeSpecificStatesTabs122022/NSDUHsaeGeorgia2021.pdf  \n",
            "  inflating: //content//gdrive//My Drive//2021NSDUHsaeSpecificStatesTabs122022/NSDUHsaeHawaii2021.pdf  \n",
            "  inflating: //content//gdrive//My Drive//2021NSDUHsaeSpecificStatesTabs122022/NSDUHsaeIdaho2021.pdf  \n",
            "  inflating: //content//gdrive//My Drive//2021NSDUHsaeSpecificStatesTabs122022/NSDUHsaeIllinois2021.pdf  \n",
            "  inflating: //content//gdrive//My Drive//2021NSDUHsaeSpecificStatesTabs122022/NSDUHsaeIndiana2021.pdf  \n",
            "  inflating: //content//gdrive//My Drive//2021NSDUHsaeSpecificStatesTabs122022/NSDUHsaeIowa2021.pdf  \n",
            "  inflating: //content//gdrive//My Drive//2021NSDUHsaeSpecificStatesTabs122022/NSDUHsaeKansas2021.pdf  \n",
            "  inflating: //content//gdrive//My Drive//2021NSDUHsaeSpecificStatesTabs122022/NSDUHsaeKentucky2021.pdf  \n",
            "  inflating: //content//gdrive//My Drive//2021NSDUHsaeSpecificStatesTabs122022/NSDUHsaeLouisiana2021.pdf  \n",
            "  inflating: //content//gdrive//My Drive//2021NSDUHsaeSpecificStatesTabs122022/NSDUHsaeMaine2021.pdf  \n",
            "  inflating: //content//gdrive//My Drive//2021NSDUHsaeSpecificStatesTabs122022/NSDUHsaeMaryland2021.pdf  \n",
            "  inflating: //content//gdrive//My Drive//2021NSDUHsaeSpecificStatesTabs122022/NSDUHsaeMassachusetts2021.pdf  \n",
            "  inflating: //content//gdrive//My Drive//2021NSDUHsaeSpecificStatesTabs122022/NSDUHsaeMichigan2021.pdf  \n",
            "  inflating: //content//gdrive//My Drive//2021NSDUHsaeSpecificStatesTabs122022/NSDUHsaeMidwest2021.pdf  \n",
            "  inflating: //content//gdrive//My Drive//2021NSDUHsaeSpecificStatesTabs122022/NSDUHsaeMinnesota2021.pdf  \n",
            "  inflating: //content//gdrive//My Drive//2021NSDUHsaeSpecificStatesTabs122022/NSDUHsaeMississippi2021.pdf  \n",
            "  inflating: //content//gdrive//My Drive//2021NSDUHsaeSpecificStatesTabs122022/NSDUHsaeMissouri2021.pdf  \n",
            "  inflating: //content//gdrive//My Drive//2021NSDUHsaeSpecificStatesTabs122022/NSDUHsaeMontana2021.pdf  \n",
            "  inflating: //content//gdrive//My Drive//2021NSDUHsaeSpecificStatesTabs122022/NSDUHsaeNational2021.pdf  \n",
            "  inflating: //content//gdrive//My Drive//2021NSDUHsaeSpecificStatesTabs122022/NSDUHsaeNebraska2021.pdf  \n",
            "  inflating: //content//gdrive//My Drive//2021NSDUHsaeSpecificStatesTabs122022/NSDUHsaeNevada2021.pdf  \n",
            "  inflating: //content//gdrive//My Drive//2021NSDUHsaeSpecificStatesTabs122022/NSDUHsaeNewHampshire2021.pdf  \n",
            "  inflating: //content//gdrive//My Drive//2021NSDUHsaeSpecificStatesTabs122022/NSDUHsaeNewJersey2021.pdf  \n",
            "  inflating: //content//gdrive//My Drive//2021NSDUHsaeSpecificStatesTabs122022/NSDUHsaeNewMexico2021.pdf  \n",
            "  inflating: //content//gdrive//My Drive//2021NSDUHsaeSpecificStatesTabs122022/NSDUHsaeNewYork2021.pdf  \n",
            "  inflating: //content//gdrive//My Drive//2021NSDUHsaeSpecificStatesTabs122022/NSDUHsaeNorthCarolina2021.pdf  \n",
            "  inflating: //content//gdrive//My Drive//2021NSDUHsaeSpecificStatesTabs122022/NSDUHsaeNorthDakota2021.pdf  \n",
            "  inflating: //content//gdrive//My Drive//2021NSDUHsaeSpecificStatesTabs122022/NSDUHsaeNortheast2021.pdf  \n",
            "  inflating: //content//gdrive//My Drive//2021NSDUHsaeSpecificStatesTabs122022/NSDUHsaeOhio2021.pdf  \n",
            "  inflating: //content//gdrive//My Drive//2021NSDUHsaeSpecificStatesTabs122022/NSDUHsaeOklahoma2021.pdf  \n",
            "  inflating: //content//gdrive//My Drive//2021NSDUHsaeSpecificStatesTabs122022/NSDUHsaeOregon2021.pdf  \n",
            "  inflating: //content//gdrive//My Drive//2021NSDUHsaeSpecificStatesTabs122022/NSDUHsaePennsylvania2021.pdf  \n",
            "  inflating: //content//gdrive//My Drive//2021NSDUHsaeSpecificStatesTabs122022/NSDUHsaeRhodeIsland2021.pdf  \n",
            "  inflating: //content//gdrive//My Drive//2021NSDUHsaeSpecificStatesTabs122022/NSDUHsaeSouth2021.pdf  \n",
            "  inflating: //content//gdrive//My Drive//2021NSDUHsaeSpecificStatesTabs122022/NSDUHsaeSouthCarolina2021.pdf  \n",
            "  inflating: //content//gdrive//My Drive//2021NSDUHsaeSpecificStatesTabs122022/NSDUHsaeSouthDakota2021.pdf  \n",
            "  inflating: //content//gdrive//My Drive//2021NSDUHsaeSpecificStatesTabs122022/NSDUHsaeSpecificStates2021.htm  \n",
            "  inflating: //content//gdrive//My Drive//2021NSDUHsaeSpecificStatesTabs122022/NSDUHsaeSpecificStatesTOC2021.htm  \n",
            "  inflating: //content//gdrive//My Drive//2021NSDUHsaeSpecificStatesTabs122022/NSDUHsaeTennessee2021.pdf  \n",
            "  inflating: //content//gdrive//My Drive//2021NSDUHsaeSpecificStatesTabs122022/NSDUHsaeTexas2021.pdf  \n",
            "  inflating: //content//gdrive//My Drive//2021NSDUHsaeSpecificStatesTabs122022/NSDUHsaeUtah2021.pdf  \n",
            "  inflating: //content//gdrive//My Drive//2021NSDUHsaeSpecificStatesTabs122022/NSDUHsaeVermont2021.pdf  \n",
            "  inflating: //content//gdrive//My Drive//2021NSDUHsaeSpecificStatesTabs122022/NSDUHsaeVirginia2021.pdf  \n",
            "  inflating: //content//gdrive//My Drive//2021NSDUHsaeSpecificStatesTabs122022/NSDUHsaeWashington2021.pdf  \n",
            "  inflating: //content//gdrive//My Drive//2021NSDUHsaeSpecificStatesTabs122022/NSDUHsaeWest2021.pdf  \n",
            "  inflating: //content//gdrive//My Drive//2021NSDUHsaeSpecificStatesTabs122022/NSDUHsaeWestVirginia2021.pdf  \n",
            "  inflating: //content//gdrive//My Drive//2021NSDUHsaeSpecificStatesTabs122022/NSDUHsaeWisconsin2021.pdf  \n",
            "  inflating: //content//gdrive//My Drive//2021NSDUHsaeSpecificStatesTabs122022/NSDUHsaeWyoming2021.pdf  \n"
          ]
        }
      ]
    },
    {
      "cell_type": "markdown",
      "source": [
        "### Concatenating all files and creating a single DataFrame\n",
        "\n",
        "We iterate through all PDF files present in the new directory and extract the tables present in the first two pages using `tabula.read_pdf()`\n",
        "\n",
        "We then concatenate the 2 extracted tables into a single dataframe and add a new column `states` to the dataframe.\n",
        "\n",
        "Finally, we convert the dataframe into csv and store it in the `tables` folder in google drive"
      ],
      "metadata": {
        "id": "25Xe8ePwCTVA"
      }
    },
    {
      "cell_type": "code",
      "source": [
        "ext = ('.pdf','.PDF')\n",
        "final_table = pd.DataFrame()\n",
        "for files in os.listdir(dir):\n",
        "    if files.endswith(ext):\n",
        "        print(files)\n",
        "        tables = tabula.read_pdf(dir + \"//\" + files,pages=[1,2]) #address of pdf file\n",
        "        filename = files.replace(\"NSDUHsae\",\"\").replace(\".pdf\",\"\").replace(\"2021\",\"\")\n",
        "        df1 = pd.DataFrame(tables[0])\n",
        "        df2 = pd.DataFrame(tables[1])\n",
        "        final_table = pd.concat([df1,df2])\n",
        "        final_table['states'] = filename\n",
        "        #print(final_table)\n",
        "        final_table.to_csv(os.path.join(dir + \"//\" + folder_name, filename+\".csv\"), index=False)\n",
        "        print(filename)\n",
        "    else:\n",
        "        print(\"Else: \", files)\n",
        "#final_table.to_csv(os.path.join(folder_name, \"FinalTable.csv\"), index=False)"
      ],
      "metadata": {
        "id": "XqxoTTrxFVMq",
        "colab": {
          "base_uri": "https://localhost:8080/"
        },
        "outputId": "dda8f7f0-262f-4bd6-cdb8-75ae5b4dfd7a"
      },
      "execution_count": 6,
      "outputs": [
        {
          "output_type": "stream",
          "name": "stdout",
          "text": [
            "Else:  tables\n",
            "Else:  images\n",
            "NSDUHsaeAlabama2021.pdf\n",
            "Alabama\n",
            "NSDUHsaeAlaska2021.pdf\n",
            "Alaska\n",
            "NSDUHsaeArizona2021.pdf\n",
            "Arizona\n",
            "NSDUHsaeArkansas2021.pdf\n",
            "Arkansas\n",
            "NSDUHsaeCalifornia2021.pdf\n",
            "California\n",
            "NSDUHsaeColorado2021.pdf\n",
            "Colorado\n",
            "NSDUHsaeConnecticut2021.pdf\n",
            "Connecticut\n",
            "NSDUHsaeDelaware2021.pdf\n",
            "Delaware\n",
            "NSDUHsaeDistrictOfCol2021.pdf\n",
            "DistrictOfCol\n",
            "NSDUHsaeFlorida2021.pdf\n",
            "Florida\n",
            "NSDUHsaeGeorgia2021.pdf\n",
            "Georgia\n",
            "NSDUHsaeHawaii2021.pdf\n",
            "Hawaii\n",
            "NSDUHsaeIdaho2021.pdf\n",
            "Idaho\n",
            "NSDUHsaeIllinois2021.pdf\n",
            "Illinois\n",
            "NSDUHsaeIndiana2021.pdf\n",
            "Indiana\n",
            "NSDUHsaeIowa2021.pdf\n",
            "Iowa\n",
            "NSDUHsaeKansas2021.pdf\n",
            "Kansas\n",
            "NSDUHsaeKentucky2021.pdf\n",
            "Kentucky\n",
            "NSDUHsaeLouisiana2021.pdf\n",
            "Louisiana\n",
            "NSDUHsaeMaine2021.pdf\n",
            "Maine\n",
            "NSDUHsaeMaryland2021.pdf\n",
            "Maryland\n",
            "NSDUHsaeMassachusetts2021.pdf\n",
            "Massachusetts\n",
            "NSDUHsaeMichigan2021.pdf\n",
            "Michigan\n",
            "NSDUHsaeMidwest2021.pdf\n",
            "Midwest\n",
            "NSDUHsaeMinnesota2021.pdf\n",
            "Minnesota\n",
            "NSDUHsaeMississippi2021.pdf\n",
            "Mississippi\n",
            "NSDUHsaeMissouri2021.pdf\n",
            "Missouri\n",
            "NSDUHsaeMontana2021.pdf\n",
            "Montana\n",
            "NSDUHsaeNational2021.pdf\n",
            "National\n",
            "NSDUHsaeNebraska2021.pdf\n",
            "Nebraska\n",
            "NSDUHsaeNevada2021.pdf\n",
            "Nevada\n",
            "NSDUHsaeNewHampshire2021.pdf\n",
            "NewHampshire\n",
            "NSDUHsaeNewJersey2021.pdf\n",
            "NewJersey\n",
            "NSDUHsaeNewMexico2021.pdf\n",
            "NewMexico\n",
            "NSDUHsaeNewYork2021.pdf\n",
            "NewYork\n",
            "NSDUHsaeNorthCarolina2021.pdf\n",
            "NorthCarolina\n",
            "NSDUHsaeNorthDakota2021.pdf\n",
            "NorthDakota\n",
            "NSDUHsaeNortheast2021.pdf\n",
            "Northeast\n",
            "NSDUHsaeOhio2021.pdf\n",
            "Ohio\n",
            "NSDUHsaeOklahoma2021.pdf\n",
            "Oklahoma\n",
            "NSDUHsaeOregon2021.pdf\n",
            "Oregon\n",
            "NSDUHsaePennsylvania2021.pdf\n",
            "Pennsylvania\n",
            "NSDUHsaeRhodeIsland2021.pdf\n",
            "RhodeIsland\n",
            "NSDUHsaeSouth2021.pdf\n",
            "South\n",
            "NSDUHsaeSouthCarolina2021.pdf\n",
            "SouthCarolina\n",
            "NSDUHsaeSouthDakota2021.pdf\n",
            "SouthDakota\n",
            "Else:  NSDUHsaeSpecificStates2021.htm\n",
            "Else:  NSDUHsaeSpecificStatesTOC2021.htm\n",
            "NSDUHsaeTennessee2021.pdf\n",
            "Tennessee\n",
            "NSDUHsaeTexas2021.pdf\n",
            "Texas\n",
            "NSDUHsaeUtah2021.pdf\n",
            "Utah\n",
            "NSDUHsaeVermont2021.pdf\n",
            "Vermont\n",
            "NSDUHsaeVirginia2021.pdf\n",
            "Virginia\n",
            "NSDUHsaeWashington2021.pdf\n",
            "Washington\n",
            "NSDUHsaeWest2021.pdf\n",
            "West\n",
            "NSDUHsaeWestVirginia2021.pdf\n",
            "WestVirginia\n",
            "NSDUHsaeWisconsin2021.pdf\n",
            "Wisconsin\n",
            "NSDUHsaeWyoming2021.pdf\n",
            "Wyoming\n"
          ]
        }
      ]
    },
    {
      "cell_type": "markdown",
      "source": [
        "Output shows all the CSVs extracted and stored state wise in the tables folder"
      ],
      "metadata": {
        "id": "Rtl2qIVbDh2e"
      }
    },
    {
      "cell_type": "code",
      "source": [
        "!ls \"//content//gdrive//My Drive//2021NSDUHsaeSpecificStatesTabs122022/tables\""
      ],
      "metadata": {
        "colab": {
          "base_uri": "https://localhost:8080/"
        },
        "id": "lRxOXHEnowiL",
        "outputId": "35a0f253-47a0-4d80-910e-54821de82392"
      },
      "execution_count": 7,
      "outputs": [
        {
          "output_type": "stream",
          "name": "stdout",
          "text": [
            "Alabama.csv\t   Indiana.csv\t      National.csv\t RhodeIsland.csv\n",
            "Alaska.csv\t   Iowa.csv\t      Nebraska.csv\t SouthCarolina.csv\n",
            "Arizona.csv\t   Kansas.csv\t      Nevada.csv\t South.csv\n",
            "Arkansas.csv\t   Kentucky.csv       NewHampshire.csv\t SouthDakota.csv\n",
            "California.csv\t   Louisiana.csv      NewJersey.csv\t Tennessee.csv\n",
            "Colorado.csv\t   Maine.csv\t      NewMexico.csv\t Texas.csv\n",
            "Connecticut.csv    Maryland.csv       NewYork.csv\t Utah.csv\n",
            "Delaware.csv\t   Massachusetts.csv  NorthCarolina.csv  Vermont.csv\n",
            "DistrictOfCol.csv  Michigan.csv       NorthDakota.csv\t Virginia.csv\n",
            "Florida.csv\t   Midwest.csv\t      Northeast.csv\t Washington.csv\n",
            "Georgia.csv\t   Minnesota.csv      Ohio.csv\t\t West.csv\n",
            "Hawaii.csv\t   Mississippi.csv    Oklahoma.csv\t WestVirginia.csv\n",
            "Idaho.csv\t   Missouri.csv       Oregon.csv\t Wisconsin.csv\n",
            "Illinois.csv\t   Montana.csv\t      Pennsylvania.csv\t Wyoming.csv\n"
          ]
        }
      ]
    },
    {
      "cell_type": "markdown",
      "source": [
        "All the CSVs are concatenated into a single dataframe."
      ],
      "metadata": {
        "id": "qOvsea8YDg2J"
      }
    },
    {
      "cell_type": "code",
      "source": [
        "final_dataset = pd.DataFrame()\n",
        "csv_path = dir + \"//\" + folder_name\n",
        "for tables in os.listdir(csv_path):\n",
        "  df3 = pd.read_csv(csv_path + \"//\" + tables)\n",
        "  final_dataset = pd.concat([final_dataset,df3])"
      ],
      "metadata": {
        "id": "0p6W5gMco9RR"
      },
      "execution_count": 8,
      "outputs": []
    },
    {
      "cell_type": "code",
      "source": [
        "print(final_dataset.head())\n",
        "print(final_dataset.shape)"
      ],
      "metadata": {
        "colab": {
          "base_uri": "https://localhost:8080/"
        },
        "id": "Eve4vIv732fx",
        "outputId": "009546a7-b8f2-4d76-a5bc-3f4aa9d9f979"
      },
      "execution_count": 9,
      "outputs": [
        {
          "output_type": "stream",
          "name": "stdout",
          "text": [
            "                                             Measure    12+ 12-17 18-25  26+  \\\n",
            "0                                      ILLICIT DRUGS    NaN   NaN   NaN  NaN   \n",
            "1              Illicit Drug Use in the Past Month1,2    403    17    98  288   \n",
            "2                     Marijuana Use in the Past Year    537    30   152  355   \n",
            "3                    Marijuana Use in the Past Month    315    16    90  209   \n",
            "4  Perceptions of Great Risk from Smoking Marijua...  1,128   105    83  940   \n",
            "\n",
            "     18+   states  \n",
            "0    NaN  Alabama  \n",
            "1    386  Alabama  \n",
            "2    507  Alabama  \n",
            "3    299  Alabama  \n",
            "4  1,023  Alabama  \n",
            "(2408, 7)\n"
          ]
        }
      ]
    },
    {
      "cell_type": "markdown",
      "source": [
        "---------------------\n",
        "## Data Cleaning\n",
        "\n",
        "Here we start with the data cleaning. We first replace all the `NaN` values with 0."
      ],
      "metadata": {
        "id": "Mod4cfH1Yd_o"
      }
    },
    {
      "cell_type": "code",
      "source": [
        "final_dataset = final_dataset.fillna(0)\n",
        "print(final_dataset.head())"
      ],
      "metadata": {
        "id": "xJvBC2vcOhLq",
        "outputId": "270055e1-4481-4537-c73a-41f9554daffc",
        "colab": {
          "base_uri": "https://localhost:8080/"
        }
      },
      "execution_count": 10,
      "outputs": [
        {
          "output_type": "stream",
          "name": "stdout",
          "text": [
            "                                             Measure    12+ 12-17 18-25  26+  \\\n",
            "0                                      ILLICIT DRUGS      0     0     0    0   \n",
            "1              Illicit Drug Use in the Past Month1,2    403    17    98  288   \n",
            "2                     Marijuana Use in the Past Year    537    30   152  355   \n",
            "3                    Marijuana Use in the Past Month    315    16    90  209   \n",
            "4  Perceptions of Great Risk from Smoking Marijua...  1,128   105    83  940   \n",
            "\n",
            "     18+   states  \n",
            "0      0  Alabama  \n",
            "1    386  Alabama  \n",
            "2    507  Alabama  \n",
            "3    299  Alabama  \n",
            "4  1,023  Alabama  \n"
          ]
        }
      ]
    },
    {
      "cell_type": "markdown",
      "source": [
        "### Dropping Empty Rows\n",
        "\n",
        "The dataset contains some rows which are empty and dont contain any necessary information. Here we search for those rows and drop them from the dataset"
      ],
      "metadata": {
        "id": "PuyO-6YAYygC"
      }
    },
    {
      "cell_type": "code",
      "source": [
        "row_list = list([])\n",
        "count = 0\n",
        "for i in range(0, final_dataset.shape[0]):\n",
        "  if list(final_dataset.iloc[i,1:6]) == list([0,0,0,0,0]):\n",
        "    final_dataset.iloc[i+1,0] = str(final_dataset.iloc[i,0]) + \" \" + str(final_dataset.iloc[i+1,0])\n",
        "    print(\"i: \",i, \"Shape: \", final_dataset.shape)\n",
        "    row_list.append(i)\n",
        "    count = count + 1\n",
        "    #print(final_dataset.iloc[i,:])\n",
        "    #final_dataset.drop([i], inplace= True)\n",
        "\n",
        "print(row_list)\n",
        "print(count)\n",
        "# new_df = pd.DataFrame([row for i, row in final_dataset.iterrows() if final_dataset.iloc[i,1:6] != list([0,0,0,0,0])])\n",
        "# new_df.head()\n"
      ],
      "metadata": {
        "id": "Hl469ou2OxAo",
        "outputId": "4cdf86cc-cedc-4972-b32a-9d79407c3ca9",
        "colab": {
          "base_uri": "https://localhost:8080/"
        }
      },
      "execution_count": 11,
      "outputs": [
        {
          "output_type": "stream",
          "name": "stdout",
          "text": [
            "i:  0 Shape:  (2408, 7)\n",
            "i:  5 Shape:  (2408, 7)\n",
            "i:  15 Shape:  (2408, 7)\n",
            "i:  18 Shape:  (2408, 7)\n",
            "i:  22 Shape:  (2408, 7)\n",
            "i:  26 Shape:  (2408, 7)\n",
            "i:  34 Shape:  (2408, 7)\n",
            "i:  43 Shape:  (2408, 7)\n",
            "i:  48 Shape:  (2408, 7)\n",
            "i:  58 Shape:  (2408, 7)\n",
            "i:  61 Shape:  (2408, 7)\n",
            "i:  65 Shape:  (2408, 7)\n",
            "i:  69 Shape:  (2408, 7)\n",
            "i:  77 Shape:  (2408, 7)\n",
            "i:  86 Shape:  (2408, 7)\n",
            "i:  91 Shape:  (2408, 7)\n",
            "i:  101 Shape:  (2408, 7)\n",
            "i:  104 Shape:  (2408, 7)\n",
            "i:  108 Shape:  (2408, 7)\n",
            "i:  112 Shape:  (2408, 7)\n",
            "i:  120 Shape:  (2408, 7)\n",
            "i:  129 Shape:  (2408, 7)\n",
            "i:  134 Shape:  (2408, 7)\n",
            "i:  144 Shape:  (2408, 7)\n",
            "i:  147 Shape:  (2408, 7)\n",
            "i:  151 Shape:  (2408, 7)\n",
            "i:  155 Shape:  (2408, 7)\n",
            "i:  163 Shape:  (2408, 7)\n",
            "i:  172 Shape:  (2408, 7)\n",
            "i:  177 Shape:  (2408, 7)\n",
            "i:  187 Shape:  (2408, 7)\n",
            "i:  190 Shape:  (2408, 7)\n",
            "i:  194 Shape:  (2408, 7)\n",
            "i:  198 Shape:  (2408, 7)\n",
            "i:  206 Shape:  (2408, 7)\n",
            "i:  215 Shape:  (2408, 7)\n",
            "i:  220 Shape:  (2408, 7)\n",
            "i:  230 Shape:  (2408, 7)\n",
            "i:  233 Shape:  (2408, 7)\n",
            "i:  237 Shape:  (2408, 7)\n",
            "i:  241 Shape:  (2408, 7)\n",
            "i:  249 Shape:  (2408, 7)\n",
            "i:  258 Shape:  (2408, 7)\n",
            "i:  263 Shape:  (2408, 7)\n",
            "i:  273 Shape:  (2408, 7)\n",
            "i:  276 Shape:  (2408, 7)\n",
            "i:  280 Shape:  (2408, 7)\n",
            "i:  284 Shape:  (2408, 7)\n",
            "i:  292 Shape:  (2408, 7)\n",
            "i:  301 Shape:  (2408, 7)\n",
            "i:  306 Shape:  (2408, 7)\n",
            "i:  316 Shape:  (2408, 7)\n",
            "i:  319 Shape:  (2408, 7)\n",
            "i:  323 Shape:  (2408, 7)\n",
            "i:  327 Shape:  (2408, 7)\n",
            "i:  335 Shape:  (2408, 7)\n",
            "i:  344 Shape:  (2408, 7)\n",
            "i:  349 Shape:  (2408, 7)\n",
            "i:  359 Shape:  (2408, 7)\n",
            "i:  362 Shape:  (2408, 7)\n",
            "i:  366 Shape:  (2408, 7)\n",
            "i:  370 Shape:  (2408, 7)\n",
            "i:  378 Shape:  (2408, 7)\n",
            "i:  387 Shape:  (2408, 7)\n",
            "i:  392 Shape:  (2408, 7)\n",
            "i:  402 Shape:  (2408, 7)\n",
            "i:  405 Shape:  (2408, 7)\n",
            "i:  409 Shape:  (2408, 7)\n",
            "i:  413 Shape:  (2408, 7)\n",
            "i:  421 Shape:  (2408, 7)\n",
            "i:  430 Shape:  (2408, 7)\n",
            "i:  435 Shape:  (2408, 7)\n",
            "i:  445 Shape:  (2408, 7)\n",
            "i:  448 Shape:  (2408, 7)\n",
            "i:  452 Shape:  (2408, 7)\n",
            "i:  456 Shape:  (2408, 7)\n",
            "i:  464 Shape:  (2408, 7)\n",
            "i:  473 Shape:  (2408, 7)\n",
            "i:  478 Shape:  (2408, 7)\n",
            "i:  488 Shape:  (2408, 7)\n",
            "i:  491 Shape:  (2408, 7)\n",
            "i:  495 Shape:  (2408, 7)\n",
            "i:  499 Shape:  (2408, 7)\n",
            "i:  507 Shape:  (2408, 7)\n",
            "i:  516 Shape:  (2408, 7)\n",
            "i:  521 Shape:  (2408, 7)\n",
            "i:  531 Shape:  (2408, 7)\n",
            "i:  534 Shape:  (2408, 7)\n",
            "i:  538 Shape:  (2408, 7)\n",
            "i:  542 Shape:  (2408, 7)\n",
            "i:  550 Shape:  (2408, 7)\n",
            "i:  559 Shape:  (2408, 7)\n",
            "i:  564 Shape:  (2408, 7)\n",
            "i:  574 Shape:  (2408, 7)\n",
            "i:  577 Shape:  (2408, 7)\n",
            "i:  581 Shape:  (2408, 7)\n",
            "i:  585 Shape:  (2408, 7)\n",
            "i:  593 Shape:  (2408, 7)\n",
            "i:  602 Shape:  (2408, 7)\n",
            "i:  607 Shape:  (2408, 7)\n",
            "i:  617 Shape:  (2408, 7)\n",
            "i:  620 Shape:  (2408, 7)\n",
            "i:  624 Shape:  (2408, 7)\n",
            "i:  628 Shape:  (2408, 7)\n",
            "i:  636 Shape:  (2408, 7)\n",
            "i:  645 Shape:  (2408, 7)\n",
            "i:  650 Shape:  (2408, 7)\n",
            "i:  660 Shape:  (2408, 7)\n",
            "i:  663 Shape:  (2408, 7)\n",
            "i:  667 Shape:  (2408, 7)\n",
            "i:  671 Shape:  (2408, 7)\n",
            "i:  679 Shape:  (2408, 7)\n",
            "i:  688 Shape:  (2408, 7)\n",
            "i:  693 Shape:  (2408, 7)\n",
            "i:  703 Shape:  (2408, 7)\n",
            "i:  706 Shape:  (2408, 7)\n",
            "i:  710 Shape:  (2408, 7)\n",
            "i:  714 Shape:  (2408, 7)\n",
            "i:  722 Shape:  (2408, 7)\n",
            "i:  731 Shape:  (2408, 7)\n",
            "i:  736 Shape:  (2408, 7)\n",
            "i:  746 Shape:  (2408, 7)\n",
            "i:  749 Shape:  (2408, 7)\n",
            "i:  753 Shape:  (2408, 7)\n",
            "i:  757 Shape:  (2408, 7)\n",
            "i:  765 Shape:  (2408, 7)\n",
            "i:  774 Shape:  (2408, 7)\n",
            "i:  779 Shape:  (2408, 7)\n",
            "i:  789 Shape:  (2408, 7)\n",
            "i:  792 Shape:  (2408, 7)\n",
            "i:  796 Shape:  (2408, 7)\n",
            "i:  800 Shape:  (2408, 7)\n",
            "i:  808 Shape:  (2408, 7)\n",
            "i:  817 Shape:  (2408, 7)\n",
            "i:  822 Shape:  (2408, 7)\n",
            "i:  832 Shape:  (2408, 7)\n",
            "i:  835 Shape:  (2408, 7)\n",
            "i:  839 Shape:  (2408, 7)\n",
            "i:  843 Shape:  (2408, 7)\n",
            "i:  851 Shape:  (2408, 7)\n",
            "i:  860 Shape:  (2408, 7)\n",
            "i:  865 Shape:  (2408, 7)\n",
            "i:  875 Shape:  (2408, 7)\n",
            "i:  878 Shape:  (2408, 7)\n",
            "i:  882 Shape:  (2408, 7)\n",
            "i:  886 Shape:  (2408, 7)\n",
            "i:  894 Shape:  (2408, 7)\n",
            "i:  903 Shape:  (2408, 7)\n",
            "i:  908 Shape:  (2408, 7)\n",
            "i:  918 Shape:  (2408, 7)\n",
            "i:  921 Shape:  (2408, 7)\n",
            "i:  925 Shape:  (2408, 7)\n",
            "i:  929 Shape:  (2408, 7)\n",
            "i:  937 Shape:  (2408, 7)\n",
            "i:  946 Shape:  (2408, 7)\n",
            "i:  951 Shape:  (2408, 7)\n",
            "i:  961 Shape:  (2408, 7)\n",
            "i:  964 Shape:  (2408, 7)\n",
            "i:  968 Shape:  (2408, 7)\n",
            "i:  972 Shape:  (2408, 7)\n",
            "i:  980 Shape:  (2408, 7)\n",
            "i:  989 Shape:  (2408, 7)\n",
            "i:  994 Shape:  (2408, 7)\n",
            "i:  1004 Shape:  (2408, 7)\n",
            "i:  1007 Shape:  (2408, 7)\n",
            "i:  1011 Shape:  (2408, 7)\n",
            "i:  1015 Shape:  (2408, 7)\n",
            "i:  1023 Shape:  (2408, 7)\n",
            "i:  1032 Shape:  (2408, 7)\n",
            "i:  1037 Shape:  (2408, 7)\n",
            "i:  1047 Shape:  (2408, 7)\n",
            "i:  1050 Shape:  (2408, 7)\n",
            "i:  1054 Shape:  (2408, 7)\n",
            "i:  1058 Shape:  (2408, 7)\n",
            "i:  1066 Shape:  (2408, 7)\n",
            "i:  1075 Shape:  (2408, 7)\n",
            "i:  1080 Shape:  (2408, 7)\n",
            "i:  1090 Shape:  (2408, 7)\n",
            "i:  1093 Shape:  (2408, 7)\n",
            "i:  1097 Shape:  (2408, 7)\n",
            "i:  1101 Shape:  (2408, 7)\n",
            "i:  1109 Shape:  (2408, 7)\n",
            "i:  1118 Shape:  (2408, 7)\n",
            "i:  1123 Shape:  (2408, 7)\n",
            "i:  1133 Shape:  (2408, 7)\n",
            "i:  1136 Shape:  (2408, 7)\n",
            "i:  1140 Shape:  (2408, 7)\n",
            "i:  1144 Shape:  (2408, 7)\n",
            "i:  1152 Shape:  (2408, 7)\n",
            "i:  1161 Shape:  (2408, 7)\n",
            "i:  1166 Shape:  (2408, 7)\n",
            "i:  1176 Shape:  (2408, 7)\n",
            "i:  1179 Shape:  (2408, 7)\n",
            "i:  1183 Shape:  (2408, 7)\n",
            "i:  1187 Shape:  (2408, 7)\n",
            "i:  1195 Shape:  (2408, 7)\n",
            "i:  1204 Shape:  (2408, 7)\n",
            "i:  1209 Shape:  (2408, 7)\n",
            "i:  1219 Shape:  (2408, 7)\n",
            "i:  1222 Shape:  (2408, 7)\n",
            "i:  1226 Shape:  (2408, 7)\n",
            "i:  1230 Shape:  (2408, 7)\n",
            "i:  1238 Shape:  (2408, 7)\n",
            "i:  1247 Shape:  (2408, 7)\n",
            "i:  1252 Shape:  (2408, 7)\n",
            "i:  1262 Shape:  (2408, 7)\n",
            "i:  1265 Shape:  (2408, 7)\n",
            "i:  1269 Shape:  (2408, 7)\n",
            "i:  1273 Shape:  (2408, 7)\n",
            "i:  1281 Shape:  (2408, 7)\n",
            "i:  1290 Shape:  (2408, 7)\n",
            "i:  1295 Shape:  (2408, 7)\n",
            "i:  1305 Shape:  (2408, 7)\n",
            "i:  1308 Shape:  (2408, 7)\n",
            "i:  1312 Shape:  (2408, 7)\n",
            "i:  1316 Shape:  (2408, 7)\n",
            "i:  1324 Shape:  (2408, 7)\n",
            "i:  1333 Shape:  (2408, 7)\n",
            "i:  1338 Shape:  (2408, 7)\n",
            "i:  1348 Shape:  (2408, 7)\n",
            "i:  1351 Shape:  (2408, 7)\n",
            "i:  1355 Shape:  (2408, 7)\n",
            "i:  1359 Shape:  (2408, 7)\n",
            "i:  1367 Shape:  (2408, 7)\n",
            "i:  1376 Shape:  (2408, 7)\n",
            "i:  1381 Shape:  (2408, 7)\n",
            "i:  1391 Shape:  (2408, 7)\n",
            "i:  1394 Shape:  (2408, 7)\n",
            "i:  1398 Shape:  (2408, 7)\n",
            "i:  1402 Shape:  (2408, 7)\n",
            "i:  1410 Shape:  (2408, 7)\n",
            "i:  1419 Shape:  (2408, 7)\n",
            "i:  1424 Shape:  (2408, 7)\n",
            "i:  1434 Shape:  (2408, 7)\n",
            "i:  1437 Shape:  (2408, 7)\n",
            "i:  1441 Shape:  (2408, 7)\n",
            "i:  1445 Shape:  (2408, 7)\n",
            "i:  1453 Shape:  (2408, 7)\n",
            "i:  1462 Shape:  (2408, 7)\n",
            "i:  1467 Shape:  (2408, 7)\n",
            "i:  1477 Shape:  (2408, 7)\n",
            "i:  1480 Shape:  (2408, 7)\n",
            "i:  1484 Shape:  (2408, 7)\n",
            "i:  1488 Shape:  (2408, 7)\n",
            "i:  1496 Shape:  (2408, 7)\n",
            "i:  1505 Shape:  (2408, 7)\n",
            "i:  1510 Shape:  (2408, 7)\n",
            "i:  1520 Shape:  (2408, 7)\n",
            "i:  1523 Shape:  (2408, 7)\n",
            "i:  1527 Shape:  (2408, 7)\n",
            "i:  1531 Shape:  (2408, 7)\n",
            "i:  1539 Shape:  (2408, 7)\n",
            "i:  1548 Shape:  (2408, 7)\n",
            "i:  1553 Shape:  (2408, 7)\n",
            "i:  1563 Shape:  (2408, 7)\n",
            "i:  1566 Shape:  (2408, 7)\n",
            "i:  1570 Shape:  (2408, 7)\n",
            "i:  1574 Shape:  (2408, 7)\n",
            "i:  1582 Shape:  (2408, 7)\n",
            "i:  1591 Shape:  (2408, 7)\n",
            "i:  1596 Shape:  (2408, 7)\n",
            "i:  1606 Shape:  (2408, 7)\n",
            "i:  1609 Shape:  (2408, 7)\n",
            "i:  1613 Shape:  (2408, 7)\n",
            "i:  1617 Shape:  (2408, 7)\n",
            "i:  1625 Shape:  (2408, 7)\n",
            "i:  1634 Shape:  (2408, 7)\n",
            "i:  1639 Shape:  (2408, 7)\n",
            "i:  1649 Shape:  (2408, 7)\n",
            "i:  1652 Shape:  (2408, 7)\n",
            "i:  1656 Shape:  (2408, 7)\n",
            "i:  1660 Shape:  (2408, 7)\n",
            "i:  1668 Shape:  (2408, 7)\n",
            "i:  1677 Shape:  (2408, 7)\n",
            "i:  1682 Shape:  (2408, 7)\n",
            "i:  1692 Shape:  (2408, 7)\n",
            "i:  1695 Shape:  (2408, 7)\n",
            "i:  1699 Shape:  (2408, 7)\n",
            "i:  1703 Shape:  (2408, 7)\n",
            "i:  1711 Shape:  (2408, 7)\n",
            "i:  1720 Shape:  (2408, 7)\n",
            "i:  1725 Shape:  (2408, 7)\n",
            "i:  1735 Shape:  (2408, 7)\n",
            "i:  1738 Shape:  (2408, 7)\n",
            "i:  1742 Shape:  (2408, 7)\n",
            "i:  1746 Shape:  (2408, 7)\n",
            "i:  1754 Shape:  (2408, 7)\n",
            "i:  1763 Shape:  (2408, 7)\n",
            "i:  1768 Shape:  (2408, 7)\n",
            "i:  1778 Shape:  (2408, 7)\n",
            "i:  1781 Shape:  (2408, 7)\n",
            "i:  1785 Shape:  (2408, 7)\n",
            "i:  1789 Shape:  (2408, 7)\n",
            "i:  1797 Shape:  (2408, 7)\n",
            "i:  1806 Shape:  (2408, 7)\n",
            "i:  1811 Shape:  (2408, 7)\n",
            "i:  1821 Shape:  (2408, 7)\n",
            "i:  1824 Shape:  (2408, 7)\n",
            "i:  1828 Shape:  (2408, 7)\n",
            "i:  1832 Shape:  (2408, 7)\n",
            "i:  1840 Shape:  (2408, 7)\n",
            "i:  1849 Shape:  (2408, 7)\n",
            "i:  1854 Shape:  (2408, 7)\n",
            "i:  1864 Shape:  (2408, 7)\n",
            "i:  1867 Shape:  (2408, 7)\n",
            "i:  1871 Shape:  (2408, 7)\n",
            "i:  1875 Shape:  (2408, 7)\n",
            "i:  1883 Shape:  (2408, 7)\n",
            "i:  1892 Shape:  (2408, 7)\n",
            "i:  1897 Shape:  (2408, 7)\n",
            "i:  1907 Shape:  (2408, 7)\n",
            "i:  1910 Shape:  (2408, 7)\n",
            "i:  1914 Shape:  (2408, 7)\n",
            "i:  1918 Shape:  (2408, 7)\n",
            "i:  1926 Shape:  (2408, 7)\n",
            "i:  1935 Shape:  (2408, 7)\n",
            "i:  1940 Shape:  (2408, 7)\n",
            "i:  1950 Shape:  (2408, 7)\n",
            "i:  1953 Shape:  (2408, 7)\n",
            "i:  1957 Shape:  (2408, 7)\n",
            "i:  1961 Shape:  (2408, 7)\n",
            "i:  1969 Shape:  (2408, 7)\n",
            "i:  1978 Shape:  (2408, 7)\n",
            "i:  1983 Shape:  (2408, 7)\n",
            "i:  1993 Shape:  (2408, 7)\n",
            "i:  1996 Shape:  (2408, 7)\n",
            "i:  2000 Shape:  (2408, 7)\n",
            "i:  2004 Shape:  (2408, 7)\n",
            "i:  2012 Shape:  (2408, 7)\n",
            "i:  2021 Shape:  (2408, 7)\n",
            "i:  2026 Shape:  (2408, 7)\n",
            "i:  2036 Shape:  (2408, 7)\n",
            "i:  2039 Shape:  (2408, 7)\n",
            "i:  2043 Shape:  (2408, 7)\n",
            "i:  2047 Shape:  (2408, 7)\n",
            "i:  2055 Shape:  (2408, 7)\n",
            "i:  2064 Shape:  (2408, 7)\n",
            "i:  2069 Shape:  (2408, 7)\n",
            "i:  2079 Shape:  (2408, 7)\n",
            "i:  2082 Shape:  (2408, 7)\n",
            "i:  2086 Shape:  (2408, 7)\n",
            "i:  2090 Shape:  (2408, 7)\n",
            "i:  2098 Shape:  (2408, 7)\n",
            "i:  2107 Shape:  (2408, 7)\n",
            "i:  2112 Shape:  (2408, 7)\n",
            "i:  2122 Shape:  (2408, 7)\n",
            "i:  2125 Shape:  (2408, 7)\n",
            "i:  2129 Shape:  (2408, 7)\n",
            "i:  2133 Shape:  (2408, 7)\n",
            "i:  2141 Shape:  (2408, 7)\n",
            "i:  2150 Shape:  (2408, 7)\n",
            "i:  2155 Shape:  (2408, 7)\n",
            "i:  2165 Shape:  (2408, 7)\n",
            "i:  2168 Shape:  (2408, 7)\n",
            "i:  2172 Shape:  (2408, 7)\n",
            "i:  2176 Shape:  (2408, 7)\n",
            "i:  2184 Shape:  (2408, 7)\n",
            "i:  2193 Shape:  (2408, 7)\n",
            "i:  2198 Shape:  (2408, 7)\n",
            "i:  2208 Shape:  (2408, 7)\n",
            "i:  2211 Shape:  (2408, 7)\n",
            "i:  2215 Shape:  (2408, 7)\n",
            "i:  2219 Shape:  (2408, 7)\n",
            "i:  2227 Shape:  (2408, 7)\n",
            "i:  2236 Shape:  (2408, 7)\n",
            "i:  2241 Shape:  (2408, 7)\n",
            "i:  2251 Shape:  (2408, 7)\n",
            "i:  2254 Shape:  (2408, 7)\n",
            "i:  2258 Shape:  (2408, 7)\n",
            "i:  2262 Shape:  (2408, 7)\n",
            "i:  2270 Shape:  (2408, 7)\n",
            "i:  2279 Shape:  (2408, 7)\n",
            "i:  2284 Shape:  (2408, 7)\n",
            "i:  2294 Shape:  (2408, 7)\n",
            "i:  2297 Shape:  (2408, 7)\n",
            "i:  2301 Shape:  (2408, 7)\n",
            "i:  2305 Shape:  (2408, 7)\n",
            "i:  2313 Shape:  (2408, 7)\n",
            "i:  2322 Shape:  (2408, 7)\n",
            "i:  2327 Shape:  (2408, 7)\n",
            "i:  2337 Shape:  (2408, 7)\n",
            "i:  2340 Shape:  (2408, 7)\n",
            "i:  2344 Shape:  (2408, 7)\n",
            "i:  2348 Shape:  (2408, 7)\n",
            "i:  2356 Shape:  (2408, 7)\n",
            "i:  2365 Shape:  (2408, 7)\n",
            "i:  2370 Shape:  (2408, 7)\n",
            "i:  2380 Shape:  (2408, 7)\n",
            "i:  2383 Shape:  (2408, 7)\n",
            "i:  2387 Shape:  (2408, 7)\n",
            "i:  2391 Shape:  (2408, 7)\n",
            "i:  2399 Shape:  (2408, 7)\n",
            "[0, 5, 15, 18, 22, 26, 34, 43, 48, 58, 61, 65, 69, 77, 86, 91, 101, 104, 108, 112, 120, 129, 134, 144, 147, 151, 155, 163, 172, 177, 187, 190, 194, 198, 206, 215, 220, 230, 233, 237, 241, 249, 258, 263, 273, 276, 280, 284, 292, 301, 306, 316, 319, 323, 327, 335, 344, 349, 359, 362, 366, 370, 378, 387, 392, 402, 405, 409, 413, 421, 430, 435, 445, 448, 452, 456, 464, 473, 478, 488, 491, 495, 499, 507, 516, 521, 531, 534, 538, 542, 550, 559, 564, 574, 577, 581, 585, 593, 602, 607, 617, 620, 624, 628, 636, 645, 650, 660, 663, 667, 671, 679, 688, 693, 703, 706, 710, 714, 722, 731, 736, 746, 749, 753, 757, 765, 774, 779, 789, 792, 796, 800, 808, 817, 822, 832, 835, 839, 843, 851, 860, 865, 875, 878, 882, 886, 894, 903, 908, 918, 921, 925, 929, 937, 946, 951, 961, 964, 968, 972, 980, 989, 994, 1004, 1007, 1011, 1015, 1023, 1032, 1037, 1047, 1050, 1054, 1058, 1066, 1075, 1080, 1090, 1093, 1097, 1101, 1109, 1118, 1123, 1133, 1136, 1140, 1144, 1152, 1161, 1166, 1176, 1179, 1183, 1187, 1195, 1204, 1209, 1219, 1222, 1226, 1230, 1238, 1247, 1252, 1262, 1265, 1269, 1273, 1281, 1290, 1295, 1305, 1308, 1312, 1316, 1324, 1333, 1338, 1348, 1351, 1355, 1359, 1367, 1376, 1381, 1391, 1394, 1398, 1402, 1410, 1419, 1424, 1434, 1437, 1441, 1445, 1453, 1462, 1467, 1477, 1480, 1484, 1488, 1496, 1505, 1510, 1520, 1523, 1527, 1531, 1539, 1548, 1553, 1563, 1566, 1570, 1574, 1582, 1591, 1596, 1606, 1609, 1613, 1617, 1625, 1634, 1639, 1649, 1652, 1656, 1660, 1668, 1677, 1682, 1692, 1695, 1699, 1703, 1711, 1720, 1725, 1735, 1738, 1742, 1746, 1754, 1763, 1768, 1778, 1781, 1785, 1789, 1797, 1806, 1811, 1821, 1824, 1828, 1832, 1840, 1849, 1854, 1864, 1867, 1871, 1875, 1883, 1892, 1897, 1907, 1910, 1914, 1918, 1926, 1935, 1940, 1950, 1953, 1957, 1961, 1969, 1978, 1983, 1993, 1996, 2000, 2004, 2012, 2021, 2026, 2036, 2039, 2043, 2047, 2055, 2064, 2069, 2079, 2082, 2086, 2090, 2098, 2107, 2112, 2122, 2125, 2129, 2133, 2141, 2150, 2155, 2165, 2168, 2172, 2176, 2184, 2193, 2198, 2208, 2211, 2215, 2219, 2227, 2236, 2241, 2251, 2254, 2258, 2262, 2270, 2279, 2284, 2294, 2297, 2301, 2305, 2313, 2322, 2327, 2337, 2340, 2344, 2348, 2356, 2365, 2370, 2380, 2383, 2387, 2391, 2399]\n",
            "392\n"
          ]
        }
      ]
    },
    {
      "cell_type": "code",
      "source": [
        "for i in range(0,final_dataset.sha)\n",
        "df_new.loc[len(df_new)] = final_dataset.iloc[i,:]\n",
        "\n",
        "final_dataset = final_dataset.drop(row_list, axis = 0, inplace = True)\n",
        "print(final_dataset.shape)\n",
        "#print(type(row_list))"
      ],
      "metadata": {
        "id": "q73aOq32lHbX",
        "outputId": "270c9485-500c-4354-b7e4-b7efcf7261a3",
        "colab": {
          "base_uri": "https://localhost:8080/",
          "height": 535
        }
      },
      "execution_count": 17,
      "outputs": [
        {
          "output_type": "error",
          "ename": "KeyError",
          "evalue": "ignored",
          "traceback": [
            "\u001b[0;31m---------------------------------------------------------------------------\u001b[0m",
            "\u001b[0;31mKeyError\u001b[0m                                  Traceback (most recent call last)",
            "\u001b[0;32m<ipython-input-17-67b9a5d35b62>\u001b[0m in \u001b[0;36m<cell line: 1>\u001b[0;34m()\u001b[0m\n\u001b[0;32m----> 1\u001b[0;31m \u001b[0mfinal_dataset\u001b[0m \u001b[0;34m=\u001b[0m \u001b[0mfinal_dataset\u001b[0m\u001b[0;34m.\u001b[0m\u001b[0mdrop\u001b[0m\u001b[0;34m(\u001b[0m\u001b[0mrow_list\u001b[0m\u001b[0;34m,\u001b[0m \u001b[0maxis\u001b[0m \u001b[0;34m=\u001b[0m \u001b[0;36m0\u001b[0m\u001b[0;34m,\u001b[0m \u001b[0minplace\u001b[0m \u001b[0;34m=\u001b[0m \u001b[0;32mTrue\u001b[0m\u001b[0;34m)\u001b[0m\u001b[0;34m\u001b[0m\u001b[0;34m\u001b[0m\u001b[0m\n\u001b[0m\u001b[1;32m      2\u001b[0m \u001b[0mprint\u001b[0m\u001b[0;34m(\u001b[0m\u001b[0mfinal_dataset\u001b[0m\u001b[0;34m.\u001b[0m\u001b[0mshape\u001b[0m\u001b[0;34m)\u001b[0m\u001b[0;34m\u001b[0m\u001b[0;34m\u001b[0m\u001b[0m\n\u001b[1;32m      3\u001b[0m \u001b[0;31m#print(type(row_list))\u001b[0m\u001b[0;34m\u001b[0m\u001b[0;34m\u001b[0m\u001b[0m\n",
            "\u001b[0;32m/usr/local/lib/python3.10/dist-packages/pandas/util/_decorators.py\u001b[0m in \u001b[0;36mwrapper\u001b[0;34m(*args, **kwargs)\u001b[0m\n\u001b[1;32m    329\u001b[0m                     \u001b[0mstacklevel\u001b[0m\u001b[0;34m=\u001b[0m\u001b[0mfind_stack_level\u001b[0m\u001b[0;34m(\u001b[0m\u001b[0;34m)\u001b[0m\u001b[0;34m,\u001b[0m\u001b[0;34m\u001b[0m\u001b[0;34m\u001b[0m\u001b[0m\n\u001b[1;32m    330\u001b[0m                 )\n\u001b[0;32m--> 331\u001b[0;31m             \u001b[0;32mreturn\u001b[0m \u001b[0mfunc\u001b[0m\u001b[0;34m(\u001b[0m\u001b[0;34m*\u001b[0m\u001b[0margs\u001b[0m\u001b[0;34m,\u001b[0m \u001b[0;34m**\u001b[0m\u001b[0mkwargs\u001b[0m\u001b[0;34m)\u001b[0m\u001b[0;34m\u001b[0m\u001b[0;34m\u001b[0m\u001b[0m\n\u001b[0m\u001b[1;32m    332\u001b[0m \u001b[0;34m\u001b[0m\u001b[0m\n\u001b[1;32m    333\u001b[0m         \u001b[0;31m# error: \"Callable[[VarArg(Any), KwArg(Any)], Any]\" has no\u001b[0m\u001b[0;34m\u001b[0m\u001b[0;34m\u001b[0m\u001b[0m\n",
            "\u001b[0;32m/usr/local/lib/python3.10/dist-packages/pandas/core/frame.py\u001b[0m in \u001b[0;36mdrop\u001b[0;34m(self, labels, axis, index, columns, level, inplace, errors)\u001b[0m\n\u001b[1;32m   5397\u001b[0m                 \u001b[0mweight\u001b[0m  \u001b[0;36m1.0\u001b[0m     \u001b[0;36m0.8\u001b[0m\u001b[0;34m\u001b[0m\u001b[0;34m\u001b[0m\u001b[0m\n\u001b[1;32m   5398\u001b[0m         \"\"\"\n\u001b[0;32m-> 5399\u001b[0;31m         return super().drop(\n\u001b[0m\u001b[1;32m   5400\u001b[0m             \u001b[0mlabels\u001b[0m\u001b[0;34m=\u001b[0m\u001b[0mlabels\u001b[0m\u001b[0;34m,\u001b[0m\u001b[0;34m\u001b[0m\u001b[0;34m\u001b[0m\u001b[0m\n\u001b[1;32m   5401\u001b[0m             \u001b[0maxis\u001b[0m\u001b[0;34m=\u001b[0m\u001b[0maxis\u001b[0m\u001b[0;34m,\u001b[0m\u001b[0;34m\u001b[0m\u001b[0;34m\u001b[0m\u001b[0m\n",
            "\u001b[0;32m/usr/local/lib/python3.10/dist-packages/pandas/util/_decorators.py\u001b[0m in \u001b[0;36mwrapper\u001b[0;34m(*args, **kwargs)\u001b[0m\n\u001b[1;32m    329\u001b[0m                     \u001b[0mstacklevel\u001b[0m\u001b[0;34m=\u001b[0m\u001b[0mfind_stack_level\u001b[0m\u001b[0;34m(\u001b[0m\u001b[0;34m)\u001b[0m\u001b[0;34m,\u001b[0m\u001b[0;34m\u001b[0m\u001b[0;34m\u001b[0m\u001b[0m\n\u001b[1;32m    330\u001b[0m                 )\n\u001b[0;32m--> 331\u001b[0;31m             \u001b[0;32mreturn\u001b[0m \u001b[0mfunc\u001b[0m\u001b[0;34m(\u001b[0m\u001b[0;34m*\u001b[0m\u001b[0margs\u001b[0m\u001b[0;34m,\u001b[0m \u001b[0;34m**\u001b[0m\u001b[0mkwargs\u001b[0m\u001b[0;34m)\u001b[0m\u001b[0;34m\u001b[0m\u001b[0;34m\u001b[0m\u001b[0m\n\u001b[0m\u001b[1;32m    332\u001b[0m \u001b[0;34m\u001b[0m\u001b[0m\n\u001b[1;32m    333\u001b[0m         \u001b[0;31m# error: \"Callable[[VarArg(Any), KwArg(Any)], Any]\" has no\u001b[0m\u001b[0;34m\u001b[0m\u001b[0;34m\u001b[0m\u001b[0m\n",
            "\u001b[0;32m/usr/local/lib/python3.10/dist-packages/pandas/core/generic.py\u001b[0m in \u001b[0;36mdrop\u001b[0;34m(self, labels, axis, index, columns, level, inplace, errors)\u001b[0m\n\u001b[1;32m   4503\u001b[0m         \u001b[0;32mfor\u001b[0m \u001b[0maxis\u001b[0m\u001b[0;34m,\u001b[0m \u001b[0mlabels\u001b[0m \u001b[0;32min\u001b[0m \u001b[0maxes\u001b[0m\u001b[0;34m.\u001b[0m\u001b[0mitems\u001b[0m\u001b[0;34m(\u001b[0m\u001b[0;34m)\u001b[0m\u001b[0;34m:\u001b[0m\u001b[0;34m\u001b[0m\u001b[0;34m\u001b[0m\u001b[0m\n\u001b[1;32m   4504\u001b[0m             \u001b[0;32mif\u001b[0m \u001b[0mlabels\u001b[0m \u001b[0;32mis\u001b[0m \u001b[0;32mnot\u001b[0m \u001b[0;32mNone\u001b[0m\u001b[0;34m:\u001b[0m\u001b[0;34m\u001b[0m\u001b[0;34m\u001b[0m\u001b[0m\n\u001b[0;32m-> 4505\u001b[0;31m                 \u001b[0mobj\u001b[0m \u001b[0;34m=\u001b[0m \u001b[0mobj\u001b[0m\u001b[0;34m.\u001b[0m\u001b[0m_drop_axis\u001b[0m\u001b[0;34m(\u001b[0m\u001b[0mlabels\u001b[0m\u001b[0;34m,\u001b[0m \u001b[0maxis\u001b[0m\u001b[0;34m,\u001b[0m \u001b[0mlevel\u001b[0m\u001b[0;34m=\u001b[0m\u001b[0mlevel\u001b[0m\u001b[0;34m,\u001b[0m \u001b[0merrors\u001b[0m\u001b[0;34m=\u001b[0m\u001b[0merrors\u001b[0m\u001b[0;34m)\u001b[0m\u001b[0;34m\u001b[0m\u001b[0;34m\u001b[0m\u001b[0m\n\u001b[0m\u001b[1;32m   4506\u001b[0m \u001b[0;34m\u001b[0m\u001b[0m\n\u001b[1;32m   4507\u001b[0m         \u001b[0;32mif\u001b[0m \u001b[0minplace\u001b[0m\u001b[0;34m:\u001b[0m\u001b[0;34m\u001b[0m\u001b[0;34m\u001b[0m\u001b[0m\n",
            "\u001b[0;32m/usr/local/lib/python3.10/dist-packages/pandas/core/generic.py\u001b[0m in \u001b[0;36m_drop_axis\u001b[0;34m(self, labels, axis, level, errors, only_slice)\u001b[0m\n\u001b[1;32m   4573\u001b[0m                 \u001b[0mlabels_missing\u001b[0m \u001b[0;34m=\u001b[0m \u001b[0;34m(\u001b[0m\u001b[0maxis\u001b[0m\u001b[0;34m.\u001b[0m\u001b[0mget_indexer_for\u001b[0m\u001b[0;34m(\u001b[0m\u001b[0mlabels\u001b[0m\u001b[0;34m)\u001b[0m \u001b[0;34m==\u001b[0m \u001b[0;34m-\u001b[0m\u001b[0;36m1\u001b[0m\u001b[0;34m)\u001b[0m\u001b[0;34m.\u001b[0m\u001b[0many\u001b[0m\u001b[0;34m(\u001b[0m\u001b[0;34m)\u001b[0m\u001b[0;34m\u001b[0m\u001b[0;34m\u001b[0m\u001b[0m\n\u001b[1;32m   4574\u001b[0m                 \u001b[0;32mif\u001b[0m \u001b[0merrors\u001b[0m \u001b[0;34m==\u001b[0m \u001b[0;34m\"raise\"\u001b[0m \u001b[0;32mand\u001b[0m \u001b[0mlabels_missing\u001b[0m\u001b[0;34m:\u001b[0m\u001b[0;34m\u001b[0m\u001b[0;34m\u001b[0m\u001b[0m\n\u001b[0;32m-> 4575\u001b[0;31m                     \u001b[0;32mraise\u001b[0m \u001b[0mKeyError\u001b[0m\u001b[0;34m(\u001b[0m\u001b[0;34mf\"{labels} not found in axis\"\u001b[0m\u001b[0;34m)\u001b[0m\u001b[0;34m\u001b[0m\u001b[0;34m\u001b[0m\u001b[0m\n\u001b[0m\u001b[1;32m   4576\u001b[0m \u001b[0;34m\u001b[0m\u001b[0m\n\u001b[1;32m   4577\u001b[0m             \u001b[0;32mif\u001b[0m \u001b[0mis_extension_array_dtype\u001b[0m\u001b[0;34m(\u001b[0m\u001b[0mmask\u001b[0m\u001b[0;34m.\u001b[0m\u001b[0mdtype\u001b[0m\u001b[0;34m)\u001b[0m\u001b[0;34m:\u001b[0m\u001b[0;34m\u001b[0m\u001b[0;34m\u001b[0m\u001b[0m\n",
            "\u001b[0;31mKeyError\u001b[0m: '[0 5 15 18 22 26 34 43 48 58 61 65 69 77 86 91 101 104 108 112 120 129 134\\n 144 147 151 155 163 172 177 187 190 194 198 206 215 220 230 233 237 241\\n 249 258 263 273 276 280 284 292 301 306 316 319 323 327 335 344 349 359\\n 362 366 370 378 387 392 402 405 409 413 421 430 435 445 448 452 456 464\\n 473 478 488 491 495 499 507 516 521 531 534 538 542 550 559 564 574 577\\n 581 585 593 602 607 617 620 624 628 636 645 650 660 663 667 671 679 688\\n 693 703 706 710 714 722 731 736 746 749 753 757 765 774 779 789 792 796\\n 800 808 817 822 832 835 839 843 851 860 865 875 878 882 886 894 903 908\\n 918 921 925 929 937 946 951 961 964 968 972 980 989 994 1004 1007 1011\\n 1015 1023 1032 1037 1047 1050 1054 1058 1066 1075 1080 1090 1093 1097\\n 1101 1109 1118 1123 1133 1136 1140 1144 1152 1161 1166 1176 1179 1183\\n 1187 1195 1204 1209 1219 1222 1226 1230 1238 1247 1252 1262 1265 1269\\n 1273 1281 1290 1295 1305 1308 1312 1316 1324 1333 1338 1348 1351 1355\\n 1359 1367 1376 1381 1391 1394 1398 1402 1410 1419 1424 1434 1437 1441\\n 1445 1453 1462 1467 1477 1480 1484 1488 1496 1505 1510 1520 1523 1527\\n 1531 1539 1548 1553 1563 1566 1570 1574 1582 1591 1596 1606 1609 1613\\n 1617 1625 1634 1639 1649 1652 1656 1660 1668 1677 1682 1692 1695 1699\\n 1703 1711 1720 1725 1735 1738 1742 1746 1754 1763 1768 1778 1781 1785\\n 1789 1797 1806 1811 1821 1824 1828 1832 1840 1849 1854 1864 1867 1871\\n 1875 1883 1892 1897 1907 1910 1914 1918 1926 1935 1940 1950 1953 1957\\n 1961 1969 1978 ..."
          ]
        }
      ]
    },
    {
      "cell_type": "code",
      "source": [
        "print(final_dataset.iloc[15,:])"
      ],
      "metadata": {
        "id": "hG60lDrPfVZc"
      },
      "execution_count": null,
      "outputs": []
    },
    {
      "cell_type": "code",
      "source": [
        "final_dataset.head()"
      ],
      "metadata": {
        "id": "ttyRcjPYV1BG"
      },
      "execution_count": null,
      "outputs": []
    },
    {
      "cell_type": "markdown",
      "source": [
        "### Replacing more Null values\n",
        "\n",
        "The dataset still contains some null values. During the extraction process the null values in the PDF were converted to string `\"--\"`. We search for this string and replace it with zero."
      ],
      "metadata": {
        "id": "OBngXagoZGfb"
      }
    },
    {
      "cell_type": "code",
      "source": [
        "print(\"Before: \", final_dataset.iloc[12,:])\n",
        "final_dataset = final_dataset.replace(\"--\",0)\n",
        "print(\"After: \", final_dataset.iloc[12,:])"
      ],
      "metadata": {
        "id": "v03e70k0SREZ"
      },
      "execution_count": null,
      "outputs": []
    },
    {
      "cell_type": "markdown",
      "source": [
        "--------\n",
        "### Storing the dataset into a CSV file"
      ],
      "metadata": {
        "id": "NA8I1K1MZqgE"
      }
    },
    {
      "cell_type": "code",
      "source": [
        "final_dataset.to_csv(os.path.join(dir + \"//\" + folder_name, \"state_dataset.csv\"), index=False)"
      ],
      "metadata": {
        "id": "T2nop3zEYEkS"
      },
      "execution_count": null,
      "outputs": []
    }
  ]
}