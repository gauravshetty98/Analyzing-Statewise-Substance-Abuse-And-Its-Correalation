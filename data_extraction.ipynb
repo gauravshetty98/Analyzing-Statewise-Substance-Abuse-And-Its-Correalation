{
  "nbformat": 4,
  "nbformat_minor": 0,
  "metadata": {
    "colab": {
      "provenance": [],
      "include_colab_link": true
    },
    "kernelspec": {
      "name": "python3",
      "display_name": "Python 3"
    },
    "language_info": {
      "name": "python"
    }
  },
  "cells": [
    {
      "cell_type": "markdown",
      "metadata": {
        "id": "view-in-github",
        "colab_type": "text"
      },
      "source": [
        "<a href=\"https://colab.research.google.com/github/gauravshetty98/Gaurav-GIS-Repo/blob/main/data_extraction.ipynb\" target=\"_parent\"><img src=\"https://colab.research.google.com/assets/colab-badge.svg\" alt=\"Open In Colab\"/></a>"
      ]
    },
    {
      "cell_type": "markdown",
      "source": [
        "## Data Extraction and Cleaning\n",
        "\n",
        "This notebook represents the steps to download the zip file from GitHub repository and extract the data from its content and create a single dataset.\n",
        "\n",
        "Dataset :  https://www.samhsa.gov/data/report/2021-nsduh-state-specific-tables\n",
        "\n",
        "The dataset contains state-wise PDFs with drug abuse and mental health information of the respective state.\n",
        "\n",
        "We start of by installing `tabula` library. This library is used to extract the tables from the PDFs.\n"
      ],
      "metadata": {
        "id": "N0uDqhGy89XW"
      }
    },
    {
      "cell_type": "code",
      "source": [
        "!pip install -q tabula-py"
      ],
      "metadata": {
        "id": "DtzQaJNsnbfJ",
        "outputId": "3e05eed1-65d9-4315-bfe0-573ae25ae004",
        "colab": {
          "base_uri": "https://localhost:8080/"
        }
      },
      "execution_count": 3,
      "outputs": [
        {
          "output_type": "stream",
          "name": "stdout",
          "text": [
            "\u001b[2K     \u001b[90m━━━━━━━━━━━━━━━━━━━━━━━━━━━━━━━━━━━━━━━━\u001b[0m \u001b[32m12.0/12.0 MB\u001b[0m \u001b[31m62.7 MB/s\u001b[0m eta \u001b[36m0:00:00\u001b[0m\n",
            "\u001b[2K     \u001b[90m━━━━━━━━━━━━━━━━━━━━━━━━━━━━━━━━━━━━━━━━\u001b[0m \u001b[32m465.3/465.3 kB\u001b[0m \u001b[31m39.4 MB/s\u001b[0m eta \u001b[36m0:00:00\u001b[0m\n",
            "\u001b[?25h"
          ]
        }
      ]
    },
    {
      "cell_type": "markdown",
      "source": [
        "Once the library is installed, we move on to import all the required libraries. We make use of google drive to store the PDFs present in the dataset.\n",
        "\n",
        "**This notebook requires your google drive mounting to store dataset files. You can delete those files after running the notebook**\n",
        "\n"
      ],
      "metadata": {
        "id": "AdRWSGKy-V4u"
      }
    },
    {
      "cell_type": "code",
      "execution_count": 4,
      "metadata": {
        "colab": {
          "base_uri": "https://localhost:8080/"
        },
        "id": "inMGLPGG_0pB",
        "outputId": "0d978cec-6e44-42bd-9005-d043d27d81ca"
      },
      "outputs": [
        {
          "output_type": "stream",
          "name": "stdout",
          "text": [
            "Mounted at /content//gdrive\n"
          ]
        }
      ],
      "source": [
        "import os\n",
        "from os import path\n",
        "import tabula\n",
        "import pandas as pd\n",
        "import numpy as np\n",
        "\n",
        "from google.colab import drive\n",
        "\n",
        "drive.mount(\"/content//gdrive\")"
      ]
    },
    {
      "cell_type": "markdown",
      "source": [
        "### Creating folders for storing all the data\n",
        "\n",
        "`2021NSDUHsaeSpecificStatesTabs122022` is the name of the new folder. This folder will contain all the state wise PDFs.\n",
        "A `tables` folder is also present, which will contain all the tables extracted from each state PDF.\n",
        "\n"
      ],
      "metadata": {
        "id": "T6wxZ86J_Se8"
      }
    },
    {
      "cell_type": "code",
      "source": [
        "dir = \"//content//gdrive//My Drive//2021NSDUHsaeSpecificStatesTabs122022\"\n",
        "folder_name = \"tables\""
      ],
      "metadata": {
        "id": "MPr05FfuBYP6"
      },
      "execution_count": null,
      "outputs": []
    },
    {
      "cell_type": "markdown",
      "source": [
        "Creating a new folder if it is not present"
      ],
      "metadata": {
        "id": "uQO1CHP6AuAw"
      }
    },
    {
      "cell_type": "code",
      "source": [
        "if os.path.exists(dir) == False:\n",
        "    os.mkdir(dir)\n",
        "    print(\"done\")\n",
        "if os.path.exists(dir+\"//\"+folder_name) == False:\n",
        "    os.mkdir(dir+\"//\"+folder_name)\n",
        "    print(\"done\")\n",
        "\n",
        "!ls \"//content//gdrive//My Drive//2021NSDUHsaeSpecificStatesTabs122022\""
      ],
      "metadata": {
        "id": "5gcfXPQ0C9bo",
        "outputId": "fd0f718d-ddf7-4763-826f-51ff0e88031f",
        "colab": {
          "base_uri": "https://localhost:8080/"
        }
      },
      "execution_count": null,
      "outputs": [
        {
          "output_type": "stream",
          "name": "stdout",
          "text": [
            "done\n",
            "done\n",
            "tables\n"
          ]
        }
      ]
    },
    {
      "cell_type": "markdown",
      "source": [
        "Downloading the zip file from GitHub and extracting it into the drive folder we created"
      ],
      "metadata": {
        "id": "eVbW17dQBBs2"
      }
    },
    {
      "cell_type": "code",
      "source": [
        "!wget \"https://github.com/gauravshetty98/Gaurav-GIS-Repo/raw/main/2021NSDUHsaeSpecificStatesTabs122022.zip\"\n",
        "!unzip /content/2021NSDUHsaeSpecificStatesTabs122022.zip -d \"//content//gdrive//My Drive//2021NSDUHsaeSpecificStatesTabs122022\""
      ],
      "metadata": {
        "colab": {
          "base_uri": "https://localhost:8080/"
        },
        "id": "wvVJlMZ65wZt",
        "outputId": "629afeec-05cd-4500-9a43-08dce823593b"
      },
      "execution_count": null,
      "outputs": [
        {
          "output_type": "stream",
          "name": "stdout",
          "text": [
            "--2023-09-14 23:59:51--  https://github.com/gauravshetty98/Gaurav-GIS-Repo/raw/main/2021NSDUHsaeSpecificStatesTabs122022.zip\n",
            "Resolving github.com (github.com)... 140.82.112.3\n",
            "Connecting to github.com (github.com)|140.82.112.3|:443... connected.\n",
            "HTTP request sent, awaiting response... 302 Found\n",
            "Location: https://raw.githubusercontent.com/gauravshetty98/Gaurav-GIS-Repo/main/2021NSDUHsaeSpecificStatesTabs122022.zip [following]\n",
            "--2023-09-14 23:59:51--  https://raw.githubusercontent.com/gauravshetty98/Gaurav-GIS-Repo/main/2021NSDUHsaeSpecificStatesTabs122022.zip\n",
            "Resolving raw.githubusercontent.com (raw.githubusercontent.com)... 185.199.108.133, 185.199.109.133, 185.199.110.133, ...\n",
            "Connecting to raw.githubusercontent.com (raw.githubusercontent.com)|185.199.108.133|:443... connected.\n",
            "HTTP request sent, awaiting response... 200 OK\n",
            "Length: 13301032 (13M) [application/zip]\n",
            "Saving to: ‘2021NSDUHsaeSpecificStatesTabs122022.zip.5’\n",
            "\n",
            "2021NSDUHsaeSpecifi 100%[===================>]  12.68M  --.-KB/s    in 0.1s    \n",
            "\n",
            "2023-09-14 23:59:51 (114 MB/s) - ‘2021NSDUHsaeSpecificStatesTabs122022.zip.5’ saved [13301032/13301032]\n",
            "\n",
            "Archive:  /content/2021NSDUHsaeSpecificStatesTabs122022.zip\n",
            "   creating: //content//gdrive//My Drive//2021NSDUHsaeSpecificStatesTabs122022/images/\n",
            "  inflating: //content//gdrive//My Drive//2021NSDUHsaeSpecificStatesTabs122022/images/scaltoc.gif  \n",
            "  inflating: //content//gdrive//My Drive//2021NSDUHsaeSpecificStatesTabs122022/images/scaltop.gif  \n",
            "  inflating: //content//gdrive//My Drive//2021NSDUHsaeSpecificStatesTabs122022/NSDUHsaeAlabama2021.pdf  \n",
            "  inflating: //content//gdrive//My Drive//2021NSDUHsaeSpecificStatesTabs122022/NSDUHsaeAlaska2021.pdf  \n",
            "  inflating: //content//gdrive//My Drive//2021NSDUHsaeSpecificStatesTabs122022/NSDUHsaeArizona2021.pdf  \n",
            "  inflating: //content//gdrive//My Drive//2021NSDUHsaeSpecificStatesTabs122022/NSDUHsaeArkansas2021.pdf  \n",
            "  inflating: //content//gdrive//My Drive//2021NSDUHsaeSpecificStatesTabs122022/NSDUHsaeCalifornia2021.pdf  \n",
            "  inflating: //content//gdrive//My Drive//2021NSDUHsaeSpecificStatesTabs122022/NSDUHsaeColorado2021.pdf  \n",
            "  inflating: //content//gdrive//My Drive//2021NSDUHsaeSpecificStatesTabs122022/NSDUHsaeConnecticut2021.pdf  \n",
            "  inflating: //content//gdrive//My Drive//2021NSDUHsaeSpecificStatesTabs122022/NSDUHsaeDelaware2021.pdf  \n",
            "  inflating: //content//gdrive//My Drive//2021NSDUHsaeSpecificStatesTabs122022/NSDUHsaeDistrictOfCol2021.pdf  \n",
            "  inflating: //content//gdrive//My Drive//2021NSDUHsaeSpecificStatesTabs122022/NSDUHsaeFlorida2021.pdf  \n",
            "  inflating: //content//gdrive//My Drive//2021NSDUHsaeSpecificStatesTabs122022/NSDUHsaeGeorgia2021.pdf  \n",
            "  inflating: //content//gdrive//My Drive//2021NSDUHsaeSpecificStatesTabs122022/NSDUHsaeHawaii2021.pdf  \n",
            "  inflating: //content//gdrive//My Drive//2021NSDUHsaeSpecificStatesTabs122022/NSDUHsaeIdaho2021.pdf  \n",
            "  inflating: //content//gdrive//My Drive//2021NSDUHsaeSpecificStatesTabs122022/NSDUHsaeIllinois2021.pdf  \n",
            "  inflating: //content//gdrive//My Drive//2021NSDUHsaeSpecificStatesTabs122022/NSDUHsaeIndiana2021.pdf  \n",
            "  inflating: //content//gdrive//My Drive//2021NSDUHsaeSpecificStatesTabs122022/NSDUHsaeIowa2021.pdf  \n",
            "  inflating: //content//gdrive//My Drive//2021NSDUHsaeSpecificStatesTabs122022/NSDUHsaeKansas2021.pdf  \n",
            "  inflating: //content//gdrive//My Drive//2021NSDUHsaeSpecificStatesTabs122022/NSDUHsaeKentucky2021.pdf  \n",
            "  inflating: //content//gdrive//My Drive//2021NSDUHsaeSpecificStatesTabs122022/NSDUHsaeLouisiana2021.pdf  \n",
            "  inflating: //content//gdrive//My Drive//2021NSDUHsaeSpecificStatesTabs122022/NSDUHsaeMaine2021.pdf  \n",
            "  inflating: //content//gdrive//My Drive//2021NSDUHsaeSpecificStatesTabs122022/NSDUHsaeMaryland2021.pdf  \n",
            "  inflating: //content//gdrive//My Drive//2021NSDUHsaeSpecificStatesTabs122022/NSDUHsaeMassachusetts2021.pdf  \n",
            "  inflating: //content//gdrive//My Drive//2021NSDUHsaeSpecificStatesTabs122022/NSDUHsaeMichigan2021.pdf  \n",
            "  inflating: //content//gdrive//My Drive//2021NSDUHsaeSpecificStatesTabs122022/NSDUHsaeMidwest2021.pdf  \n",
            "  inflating: //content//gdrive//My Drive//2021NSDUHsaeSpecificStatesTabs122022/NSDUHsaeMinnesota2021.pdf  \n",
            "  inflating: //content//gdrive//My Drive//2021NSDUHsaeSpecificStatesTabs122022/NSDUHsaeMississippi2021.pdf  \n",
            "  inflating: //content//gdrive//My Drive//2021NSDUHsaeSpecificStatesTabs122022/NSDUHsaeMissouri2021.pdf  \n",
            "  inflating: //content//gdrive//My Drive//2021NSDUHsaeSpecificStatesTabs122022/NSDUHsaeMontana2021.pdf  \n",
            "  inflating: //content//gdrive//My Drive//2021NSDUHsaeSpecificStatesTabs122022/NSDUHsaeNational2021.pdf  \n",
            "  inflating: //content//gdrive//My Drive//2021NSDUHsaeSpecificStatesTabs122022/NSDUHsaeNebraska2021.pdf  \n",
            "  inflating: //content//gdrive//My Drive//2021NSDUHsaeSpecificStatesTabs122022/NSDUHsaeNevada2021.pdf  \n",
            "  inflating: //content//gdrive//My Drive//2021NSDUHsaeSpecificStatesTabs122022/NSDUHsaeNewHampshire2021.pdf  \n",
            "  inflating: //content//gdrive//My Drive//2021NSDUHsaeSpecificStatesTabs122022/NSDUHsaeNewJersey2021.pdf  \n",
            "  inflating: //content//gdrive//My Drive//2021NSDUHsaeSpecificStatesTabs122022/NSDUHsaeNewMexico2021.pdf  \n",
            "  inflating: //content//gdrive//My Drive//2021NSDUHsaeSpecificStatesTabs122022/NSDUHsaeNewYork2021.pdf  \n",
            "  inflating: //content//gdrive//My Drive//2021NSDUHsaeSpecificStatesTabs122022/NSDUHsaeNorthCarolina2021.pdf  \n",
            "  inflating: //content//gdrive//My Drive//2021NSDUHsaeSpecificStatesTabs122022/NSDUHsaeNorthDakota2021.pdf  \n",
            "  inflating: //content//gdrive//My Drive//2021NSDUHsaeSpecificStatesTabs122022/NSDUHsaeNortheast2021.pdf  \n",
            "  inflating: //content//gdrive//My Drive//2021NSDUHsaeSpecificStatesTabs122022/NSDUHsaeOhio2021.pdf  \n",
            "  inflating: //content//gdrive//My Drive//2021NSDUHsaeSpecificStatesTabs122022/NSDUHsaeOklahoma2021.pdf  \n",
            "  inflating: //content//gdrive//My Drive//2021NSDUHsaeSpecificStatesTabs122022/NSDUHsaeOregon2021.pdf  \n",
            "  inflating: //content//gdrive//My Drive//2021NSDUHsaeSpecificStatesTabs122022/NSDUHsaePennsylvania2021.pdf  \n",
            "  inflating: //content//gdrive//My Drive//2021NSDUHsaeSpecificStatesTabs122022/NSDUHsaeRhodeIsland2021.pdf  \n",
            "  inflating: //content//gdrive//My Drive//2021NSDUHsaeSpecificStatesTabs122022/NSDUHsaeSouth2021.pdf  \n",
            "  inflating: //content//gdrive//My Drive//2021NSDUHsaeSpecificStatesTabs122022/NSDUHsaeSouthCarolina2021.pdf  \n",
            "  inflating: //content//gdrive//My Drive//2021NSDUHsaeSpecificStatesTabs122022/NSDUHsaeSouthDakota2021.pdf  \n",
            "  inflating: //content//gdrive//My Drive//2021NSDUHsaeSpecificStatesTabs122022/NSDUHsaeSpecificStates2021.htm  \n",
            "  inflating: //content//gdrive//My Drive//2021NSDUHsaeSpecificStatesTabs122022/NSDUHsaeSpecificStatesTOC2021.htm  \n",
            "  inflating: //content//gdrive//My Drive//2021NSDUHsaeSpecificStatesTabs122022/NSDUHsaeTennessee2021.pdf  \n",
            "  inflating: //content//gdrive//My Drive//2021NSDUHsaeSpecificStatesTabs122022/NSDUHsaeTexas2021.pdf  \n",
            "  inflating: //content//gdrive//My Drive//2021NSDUHsaeSpecificStatesTabs122022/NSDUHsaeUtah2021.pdf  \n",
            "  inflating: //content//gdrive//My Drive//2021NSDUHsaeSpecificStatesTabs122022/NSDUHsaeVermont2021.pdf  \n",
            "  inflating: //content//gdrive//My Drive//2021NSDUHsaeSpecificStatesTabs122022/NSDUHsaeVirginia2021.pdf  \n",
            "  inflating: //content//gdrive//My Drive//2021NSDUHsaeSpecificStatesTabs122022/NSDUHsaeWashington2021.pdf  \n",
            "  inflating: //content//gdrive//My Drive//2021NSDUHsaeSpecificStatesTabs122022/NSDUHsaeWest2021.pdf  \n",
            "  inflating: //content//gdrive//My Drive//2021NSDUHsaeSpecificStatesTabs122022/NSDUHsaeWestVirginia2021.pdf  \n",
            "  inflating: //content//gdrive//My Drive//2021NSDUHsaeSpecificStatesTabs122022/NSDUHsaeWisconsin2021.pdf  \n",
            "  inflating: //content//gdrive//My Drive//2021NSDUHsaeSpecificStatesTabs122022/NSDUHsaeWyoming2021.pdf  \n"
          ]
        }
      ]
    },
    {
      "cell_type": "markdown",
      "source": [
        "### Concatenating all files and creating a single DataFrame\n",
        "\n",
        "We iterate through all PDF files present in the new directory and extract the tables present in the first two pages using `tabula.read_pdf()`\n",
        "\n",
        "We then concatenate the 2 extracted tables into a single dataframe and add a new column `states` to the dataframe.\n",
        "\n",
        "Finally, we convert the dataframe into csv and store it in the `tables` folder in google drive"
      ],
      "metadata": {
        "id": "25Xe8ePwCTVA"
      }
    },
    {
      "cell_type": "code",
      "source": [
        "ext = ('.pdf','.PDF')\n",
        "final_table = pd.DataFrame()\n",
        "for files in os.listdir(dir):\n",
        "    if files.endswith(ext):\n",
        "        print(files)\n",
        "        tables = tabula.read_pdf(dir + \"//\" + files,pages=[1,2]) #address of pdf file\n",
        "        filename = files.replace(\"NSDUHsae\",\"\").replace(\".pdf\",\"\").replace(\"2021\",\"\")\n",
        "        df1 = pd.DataFrame(tables[0])\n",
        "        df2 = pd.DataFrame(tables[1])\n",
        "        final_table = pd.concat([df1,df2])\n",
        "        final_table['states'] = filename\n",
        "        #print(final_table)\n",
        "        final_table.to_csv(os.path.join(dir + \"//\" + folder_name, filename+\".csv\"), index=False)\n",
        "        print(filename)\n",
        "    else:\n",
        "        print(\"Else: \", files)\n",
        "#final_table.to_csv(os.path.join(folder_name, \"FinalTable.csv\"), index=False)"
      ],
      "metadata": {
        "id": "XqxoTTrxFVMq",
        "colab": {
          "base_uri": "https://localhost:8080/"
        },
        "outputId": "018a5f72-697b-4bb9-8ed2-9e7668f98748"
      },
      "execution_count": null,
      "outputs": [
        {
          "output_type": "stream",
          "name": "stdout",
          "text": [
            "Else:  tables\n",
            "Else:  images\n",
            "NSDUHsaeAlabama2021.pdf\n",
            "Alabama\n",
            "NSDUHsaeAlaska2021.pdf\n",
            "Alaska\n",
            "NSDUHsaeArizona2021.pdf\n",
            "Arizona\n",
            "NSDUHsaeArkansas2021.pdf\n",
            "Arkansas\n",
            "NSDUHsaeCalifornia2021.pdf\n",
            "California\n",
            "NSDUHsaeColorado2021.pdf\n",
            "Colorado\n",
            "NSDUHsaeConnecticut2021.pdf\n",
            "Connecticut\n",
            "NSDUHsaeDelaware2021.pdf\n",
            "Delaware\n",
            "NSDUHsaeDistrictOfCol2021.pdf\n",
            "DistrictOfCol\n",
            "NSDUHsaeFlorida2021.pdf\n",
            "Florida\n",
            "NSDUHsaeGeorgia2021.pdf\n",
            "Georgia\n",
            "NSDUHsaeHawaii2021.pdf\n",
            "Hawaii\n",
            "NSDUHsaeIdaho2021.pdf\n",
            "Idaho\n",
            "NSDUHsaeIllinois2021.pdf\n",
            "Illinois\n",
            "NSDUHsaeIndiana2021.pdf\n",
            "Indiana\n",
            "NSDUHsaeIowa2021.pdf\n",
            "Iowa\n",
            "NSDUHsaeKansas2021.pdf\n",
            "Kansas\n",
            "NSDUHsaeKentucky2021.pdf\n",
            "Kentucky\n",
            "NSDUHsaeLouisiana2021.pdf\n",
            "Louisiana\n",
            "NSDUHsaeMaine2021.pdf\n",
            "Maine\n",
            "NSDUHsaeMaryland2021.pdf\n",
            "Maryland\n",
            "NSDUHsaeMassachusetts2021.pdf\n",
            "Massachusetts\n",
            "NSDUHsaeMichigan2021.pdf\n",
            "Michigan\n",
            "NSDUHsaeMidwest2021.pdf\n",
            "Midwest\n",
            "NSDUHsaeMinnesota2021.pdf\n",
            "Minnesota\n",
            "NSDUHsaeMississippi2021.pdf\n",
            "Mississippi\n",
            "NSDUHsaeMissouri2021.pdf\n",
            "Missouri\n",
            "NSDUHsaeMontana2021.pdf\n",
            "Montana\n",
            "NSDUHsaeNational2021.pdf\n",
            "National\n",
            "NSDUHsaeNebraska2021.pdf\n",
            "Nebraska\n",
            "NSDUHsaeNevada2021.pdf\n",
            "Nevada\n",
            "NSDUHsaeNewHampshire2021.pdf\n",
            "NewHampshire\n",
            "NSDUHsaeNewJersey2021.pdf\n",
            "NewJersey\n",
            "NSDUHsaeNewMexico2021.pdf\n",
            "NewMexico\n",
            "NSDUHsaeNewYork2021.pdf\n",
            "NewYork\n",
            "NSDUHsaeNorthCarolina2021.pdf\n",
            "NorthCarolina\n",
            "NSDUHsaeNorthDakota2021.pdf\n",
            "NorthDakota\n",
            "NSDUHsaeNortheast2021.pdf\n",
            "Northeast\n",
            "NSDUHsaeOhio2021.pdf\n",
            "Ohio\n",
            "NSDUHsaeOklahoma2021.pdf\n",
            "Oklahoma\n",
            "NSDUHsaeOregon2021.pdf\n",
            "Oregon\n",
            "NSDUHsaePennsylvania2021.pdf\n",
            "Pennsylvania\n",
            "NSDUHsaeRhodeIsland2021.pdf\n",
            "RhodeIsland\n",
            "NSDUHsaeSouth2021.pdf\n",
            "South\n",
            "NSDUHsaeSouthCarolina2021.pdf\n",
            "SouthCarolina\n",
            "NSDUHsaeSouthDakota2021.pdf\n",
            "SouthDakota\n",
            "Else:  NSDUHsaeSpecificStates2021.htm\n",
            "Else:  NSDUHsaeSpecificStatesTOC2021.htm\n",
            "NSDUHsaeTennessee2021.pdf\n",
            "Tennessee\n",
            "NSDUHsaeTexas2021.pdf\n",
            "Texas\n",
            "NSDUHsaeUtah2021.pdf\n",
            "Utah\n",
            "NSDUHsaeVermont2021.pdf\n",
            "Vermont\n",
            "NSDUHsaeVirginia2021.pdf\n",
            "Virginia\n",
            "NSDUHsaeWashington2021.pdf\n",
            "Washington\n",
            "NSDUHsaeWest2021.pdf\n",
            "West\n",
            "NSDUHsaeWestVirginia2021.pdf\n",
            "WestVirginia\n",
            "NSDUHsaeWisconsin2021.pdf\n",
            "Wisconsin\n",
            "NSDUHsaeWyoming2021.pdf\n",
            "Wyoming\n"
          ]
        }
      ]
    },
    {
      "cell_type": "markdown",
      "source": [
        "Output shows all the CSVs extracted and stored state wise in the tables folder"
      ],
      "metadata": {
        "id": "Rtl2qIVbDh2e"
      }
    },
    {
      "cell_type": "code",
      "source": [
        "!ls \"//content//gdrive//My Drive//2021NSDUHsaeSpecificStatesTabs122022/tables\""
      ],
      "metadata": {
        "colab": {
          "base_uri": "https://localhost:8080/"
        },
        "id": "lRxOXHEnowiL",
        "outputId": "aad21740-4b42-4b39-ff07-e4eabd176110"
      },
      "execution_count": null,
      "outputs": [
        {
          "output_type": "stream",
          "name": "stdout",
          "text": [
            "Alabama.csv\t   Indiana.csv\t      National.csv\t RhodeIsland.csv\n",
            "Alaska.csv\t   Iowa.csv\t      Nebraska.csv\t SouthCarolina.csv\n",
            "Arizona.csv\t   Kansas.csv\t      Nevada.csv\t South.csv\n",
            "Arkansas.csv\t   Kentucky.csv       NewHampshire.csv\t SouthDakota.csv\n",
            "California.csv\t   Louisiana.csv      NewJersey.csv\t Tennessee.csv\n",
            "Colorado.csv\t   Maine.csv\t      NewMexico.csv\t Texas.csv\n",
            "Connecticut.csv    Maryland.csv       NewYork.csv\t Utah.csv\n",
            "Delaware.csv\t   Massachusetts.csv  NorthCarolina.csv  Vermont.csv\n",
            "DistrictOfCol.csv  Michigan.csv       NorthDakota.csv\t Virginia.csv\n",
            "Florida.csv\t   Midwest.csv\t      Northeast.csv\t Washington.csv\n",
            "Georgia.csv\t   Minnesota.csv      Ohio.csv\t\t West.csv\n",
            "Hawaii.csv\t   Mississippi.csv    Oklahoma.csv\t WestVirginia.csv\n",
            "Idaho.csv\t   Missouri.csv       Oregon.csv\t Wisconsin.csv\n",
            "Illinois.csv\t   Montana.csv\t      Pennsylvania.csv\t Wyoming.csv\n"
          ]
        }
      ]
    },
    {
      "cell_type": "markdown",
      "source": [
        "All the CSVs are concatenated into a single dataframe."
      ],
      "metadata": {
        "id": "qOvsea8YDg2J"
      }
    },
    {
      "cell_type": "code",
      "source": [
        "final_dataset = pd.DataFrame()\n",
        "csv_path = dir + \"//\" + folder_name\n",
        "for tables in os.listdir(csv_path):\n",
        "  df3 = pd.read_csv(csv_path + \"//\" + tables)\n",
        "  final_dataset = pd.concat([final_dataset,df3],ignore_index = True)"
      ],
      "metadata": {
        "id": "0p6W5gMco9RR"
      },
      "execution_count": null,
      "outputs": []
    },
    {
      "cell_type": "markdown",
      "source": [
        "---------------------\n",
        "## Data Cleaning\n",
        "\n",
        "Here we start with the data cleaning. We first replace all the `NaN` values with 0."
      ],
      "metadata": {
        "id": "Mod4cfH1Yd_o"
      }
    },
    {
      "cell_type": "code",
      "source": [
        "print(final_dataset.head(10))"
      ],
      "metadata": {
        "id": "B2MTYR0PETPt",
        "outputId": "dab2aa96-fbb5-4fdd-dc2f-56cc2d5619f6",
        "colab": {
          "base_uri": "https://localhost:8080/"
        }
      },
      "execution_count": null,
      "outputs": [
        {
          "output_type": "stream",
          "name": "stdout",
          "text": [
            "                                             Measure    12+ 12-17 18-25  \\\n",
            "0                                      ILLICIT DRUGS    NaN   NaN   NaN   \n",
            "1              Illicit Drug Use in the Past Month1,2    403    17    98   \n",
            "2                     Marijuana Use in the Past Year    537    30   152   \n",
            "3                    Marijuana Use in the Past Month    315    16    90   \n",
            "4  Perceptions of Great Risk from Smoking Marijua...  1,128   105    83   \n",
            "5  First Use of Marijuana in the Past Year among ...    NaN   NaN   NaN   \n",
            "6                                             Use3,4     40    15    20   \n",
            "7  Illicit Drug Use Other Than Marijuana in the P...    132     7    20   \n",
            "8                       Cocaine Use in the Past Year     67     1    14   \n",
            "9  Perceptions of Great Risk from Using Cocaine O...  3,066   210   334   \n",
            "\n",
            "     26+    18+   states  \n",
            "0    NaN    NaN  Alabama  \n",
            "1    288    386  Alabama  \n",
            "2    355    507  Alabama  \n",
            "3    209    299  Alabama  \n",
            "4    940  1,023  Alabama  \n",
            "5    NaN    NaN  Alabama  \n",
            "6      6     25  Alabama  \n",
            "7    105    125  Alabama  \n",
            "8     52     66  Alabama  \n",
            "9  2,522  2,856  Alabama  \n"
          ]
        }
      ]
    },
    {
      "cell_type": "markdown",
      "source": [
        "### Dropping Empty Rows\n",
        "\n",
        "The dataset contains some rows which are empty and dont contain any necessary information. Here we search for those rows and drop them from the dataset\n",
        "\n",
        "Count of empty rows in the dataset = 392"
      ],
      "metadata": {
        "id": "PuyO-6YAYygC"
      }
    },
    {
      "cell_type": "code",
      "source": [
        "from zmq import NULL\n",
        "count = 0\n",
        "for i in range(0,final_dataset.shape[0]):\n",
        "  if list(final_dataset.iloc[i,1:6]) == list([np.NaN, np.NaN, np.NaN, np.NaN, np.NaN]):\n",
        "    final_dataset.iloc[i+1,0] = str(final_dataset.iloc[i,0]) + \" \" + str(final_dataset.iloc[i+1,0])\n",
        "    count = count + 1\n",
        "\n",
        "print(\"Number of empty rows: \",count)\n",
        "print(\"Acutal data we need: \", final_dataset.shape[0] - count)"
      ],
      "metadata": {
        "id": "Hl469ou2OxAo",
        "outputId": "20c38939-6467-4c6e-e833-c3b29653f2e1",
        "colab": {
          "base_uri": "https://localhost:8080/"
        }
      },
      "execution_count": null,
      "outputs": [
        {
          "output_type": "stream",
          "name": "stdout",
          "text": [
            "Number of empty rows:  392\n",
            "Acutal data we need:  2016\n"
          ]
        }
      ]
    },
    {
      "cell_type": "markdown",
      "source": [
        "We make use of the `dropna()` function to drop all the empty rows. You can see in the resulting dataframe there are no empty rows.\n",
        "\n",
        "Final shape of the dataset = 2016 * 7"
      ],
      "metadata": {
        "id": "8qLUbRI7IJV9"
      }
    },
    {
      "cell_type": "code",
      "source": [
        "final_dataset = final_dataset.dropna()\n",
        "final_dataset = final_dataset.reset_index()\n",
        "print(final_dataset.head(10))"
      ],
      "metadata": {
        "id": "v8O9w1IjZEym",
        "outputId": "e1920c81-92a9-4e98-a55b-4179d10e39e7",
        "colab": {
          "base_uri": "https://localhost:8080/"
        }
      },
      "execution_count": null,
      "outputs": [
        {
          "output_type": "stream",
          "name": "stdout",
          "text": [
            "   index                                            Measure    12+ 12-17  \\\n",
            "0      1  ILLICIT DRUGS Illicit Drug Use in the Past Mon...    403    17   \n",
            "1      2                     Marijuana Use in the Past Year    537    30   \n",
            "2      3                    Marijuana Use in the Past Month    315    16   \n",
            "3      4  Perceptions of Great Risk from Smoking Marijua...  1,128   105   \n",
            "4      6  First Use of Marijuana in the Past Year among ...     40    15   \n",
            "5      7  Illicit Drug Use Other Than Marijuana in the P...    132     7   \n",
            "6      8                       Cocaine Use in the Past Year     67     1   \n",
            "7      9  Perceptions of Great Risk from Using Cocaine O...  3,066   210   \n",
            "8     10                       Heroin Use in the Past Year5     --    --   \n",
            "9     11  Perceptions of Great Risk from Trying Heroin O...  3,567   236   \n",
            "\n",
            "  18-25    26+    18+   states  \n",
            "0    98    288    386  Alabama  \n",
            "1   152    355    507  Alabama  \n",
            "2    90    209    299  Alabama  \n",
            "3    83    940  1,023  Alabama  \n",
            "4    20      6     25  Alabama  \n",
            "5    20    105    125  Alabama  \n",
            "6    14     52     66  Alabama  \n",
            "7   334  2,522  2,856  Alabama  \n",
            "8     2     12     14  Alabama  \n",
            "9   402  2,929  3,331  Alabama  \n"
          ]
        }
      ]
    },
    {
      "cell_type": "markdown",
      "source": [
        "### Replacing more Null values\n",
        "\n",
        "The dataset still contains some null values. During the extraction process the null values in the PDF were converted to string `\"--\"`. Also there are some `*` in the dataset which represent data with low precision or no estimates. We search for these strings/values and replace it with zero as they are of no use in our dataset."
      ],
      "metadata": {
        "id": "OBngXagoZGfb"
      }
    },
    {
      "cell_type": "code",
      "source": [
        "print(\"Before: \", final_dataset.iloc[260,:])\n",
        "final_dataset = final_dataset.replace(\"--\",0)\n",
        "final_dataset = final_dataset.replace(\"*\",0)\n",
        "print(\"After: \", final_dataset.iloc[260,:])"
      ],
      "metadata": {
        "id": "v03e70k0SREZ",
        "outputId": "c4cfe02b-c720-4713-fa50-2bb96c97f4da",
        "colab": {
          "base_uri": "https://localhost:8080/"
        }
      },
      "execution_count": null,
      "outputs": [
        {
          "output_type": "stream",
          "name": "stdout",
          "text": [
            "Before:  index                               311\n",
            "Measure    Heroin Use in the Past Year5\n",
            "12+                                  --\n",
            "12-17                                --\n",
            "18-25                                 *\n",
            "26+                                   7\n",
            "18+                                   9\n",
            "states                         Delaware\n",
            "Name: 260, dtype: object\n",
            "After:  index                               311\n",
            "Measure    Heroin Use in the Past Year5\n",
            "12+                                   0\n",
            "12-17                                 0\n",
            "18-25                                 0\n",
            "26+                                   7\n",
            "18+                                   9\n",
            "states                         Delaware\n",
            "Name: 260, dtype: object\n"
          ]
        }
      ]
    },
    {
      "cell_type": "markdown",
      "source": [
        "--------\n",
        "### Storing the dataset into a CSV file"
      ],
      "metadata": {
        "id": "NA8I1K1MZqgE"
      }
    },
    {
      "cell_type": "code",
      "source": [
        "final_dataset.to_csv(os.path.join(dir + \"//\" + folder_name, \"state_dataset.csv\"), index=False)"
      ],
      "metadata": {
        "id": "T2nop3zEYEkS"
      },
      "execution_count": null,
      "outputs": []
    },
    {
      "cell_type": "markdown",
      "source": [
        "------\n",
        "The Cleaning of NSDUH dataset is done. This dataset will be further used for the plotting problem sets.\n",
        "\n",
        "This notebook will be updated and new sections will be added if any new dataset is being imported and it requires some cleaning"
      ],
      "metadata": {
        "id": "q4ZdXnsJJZRm"
      }
    },
    {
      "cell_type": "markdown",
      "source": [
        "# Adding total count to rehab centre dataset"
      ],
      "metadata": {
        "id": "enQV7QWTzNh0"
      }
    },
    {
      "cell_type": "code",
      "source": [
        "! wget -q -O rehabData.csv https://github.com/gauravshetty98/Gaurav-GIS-Repo/raw/main/NSSATS_PUF_2020_CSV.csv"
      ],
      "metadata": {
        "id": "a2Et-JeHrRrV"
      },
      "execution_count": null,
      "outputs": []
    },
    {
      "cell_type": "code",
      "source": [
        "rehab_df = pd.read_csv('rehabData.csv')\n",
        "rehab_df.head()"
      ],
      "metadata": {
        "colab": {
          "base_uri": "https://localhost:8080/",
          "height": 292
        },
        "id": "0RPYqMlRsQOO",
        "outputId": "1ca71c5e-b671-420a-d4f0-40709843fa0c"
      },
      "execution_count": null,
      "outputs": [
        {
          "output_type": "stream",
          "name": "stderr",
          "text": [
            "<ipython-input-20-ce92d5fc6649>:1: DtypeWarning: Columns (9,121,122,123,124,125,126,127,128,129,130,131,132,133,134,135,136,137,138,139,140,141,142,143,144,145,146,164,165,166,167,168,169,171,201,204,205,208,212,213,214,215,216,217) have mixed types. Specify dtype option on import or set low_memory=False.\n",
            "  rehab_df = pd.read_csv('rehabData.csv')\n"
          ]
        },
        {
          "output_type": "execute_result",
          "data": {
            "text/plain": [
              "   CASEID STATE  STFIPS  DETOX  TREATMT  SMISEDSUD  OWNERSHP  FEDOWN HOSPITAL  \\\n",
              "0       1    AK       2      0        1          1         6     3.0        0   \n",
              "1       2    AK       2      0        1          1         2     NaN        0   \n",
              "2       3    AK       2      1        1          0         2     NaN        0   \n",
              "3       4    AK       2      0        1          1         2     NaN        0   \n",
              "4       5    AK       2      1        1          0         2     NaN        0   \n",
              "\n",
              "  LOCS  ...  T_CLIHI_X  T_CLIML_D  T_CLIML_O  T_CLIML_X  T_CLIOP_D  T_CLIOP_O  \\\n",
              "0  NaN  ...        NaN        NaN        NaN        1.0        NaN        NaN   \n",
              "1  NaN  ...        NaN        NaN        NaN        NaN        NaN        NaN   \n",
              "2  NaN  ...        NaN        NaN        1.0        NaN        NaN        1.0   \n",
              "3  NaN  ...        NaN        NaN        NaN        NaN        NaN        NaN   \n",
              "4  NaN  ...        NaN        NaN        NaN        NaN        NaN        NaN   \n",
              "\n",
              "   T_CLIOP_X  T_CLIRC_D  T_CLIRC_O  T_CLIRC_X  \n",
              "0        4.0        NaN        NaN        NaN  \n",
              "1        NaN        NaN        NaN        4.0  \n",
              "2        NaN        NaN        NaN        NaN  \n",
              "3        NaN        NaN        NaN        2.0  \n",
              "4        NaN        NaN        NaN        NaN  \n",
              "\n",
              "[5 rows x 262 columns]"
            ],
            "text/html": [
              "\n",
              "  <div id=\"df-c3c52b82-2f3f-4780-b26e-646de5cc1999\" class=\"colab-df-container\">\n",
              "    <div>\n",
              "<style scoped>\n",
              "    .dataframe tbody tr th:only-of-type {\n",
              "        vertical-align: middle;\n",
              "    }\n",
              "\n",
              "    .dataframe tbody tr th {\n",
              "        vertical-align: top;\n",
              "    }\n",
              "\n",
              "    .dataframe thead th {\n",
              "        text-align: right;\n",
              "    }\n",
              "</style>\n",
              "<table border=\"1\" class=\"dataframe\">\n",
              "  <thead>\n",
              "    <tr style=\"text-align: right;\">\n",
              "      <th></th>\n",
              "      <th>CASEID</th>\n",
              "      <th>STATE</th>\n",
              "      <th>STFIPS</th>\n",
              "      <th>DETOX</th>\n",
              "      <th>TREATMT</th>\n",
              "      <th>SMISEDSUD</th>\n",
              "      <th>OWNERSHP</th>\n",
              "      <th>FEDOWN</th>\n",
              "      <th>HOSPITAL</th>\n",
              "      <th>LOCS</th>\n",
              "      <th>...</th>\n",
              "      <th>T_CLIHI_X</th>\n",
              "      <th>T_CLIML_D</th>\n",
              "      <th>T_CLIML_O</th>\n",
              "      <th>T_CLIML_X</th>\n",
              "      <th>T_CLIOP_D</th>\n",
              "      <th>T_CLIOP_O</th>\n",
              "      <th>T_CLIOP_X</th>\n",
              "      <th>T_CLIRC_D</th>\n",
              "      <th>T_CLIRC_O</th>\n",
              "      <th>T_CLIRC_X</th>\n",
              "    </tr>\n",
              "  </thead>\n",
              "  <tbody>\n",
              "    <tr>\n",
              "      <th>0</th>\n",
              "      <td>1</td>\n",
              "      <td>AK</td>\n",
              "      <td>2</td>\n",
              "      <td>0</td>\n",
              "      <td>1</td>\n",
              "      <td>1</td>\n",
              "      <td>6</td>\n",
              "      <td>3.0</td>\n",
              "      <td>0</td>\n",
              "      <td>NaN</td>\n",
              "      <td>...</td>\n",
              "      <td>NaN</td>\n",
              "      <td>NaN</td>\n",
              "      <td>NaN</td>\n",
              "      <td>1.0</td>\n",
              "      <td>NaN</td>\n",
              "      <td>NaN</td>\n",
              "      <td>4.0</td>\n",
              "      <td>NaN</td>\n",
              "      <td>NaN</td>\n",
              "      <td>NaN</td>\n",
              "    </tr>\n",
              "    <tr>\n",
              "      <th>1</th>\n",
              "      <td>2</td>\n",
              "      <td>AK</td>\n",
              "      <td>2</td>\n",
              "      <td>0</td>\n",
              "      <td>1</td>\n",
              "      <td>1</td>\n",
              "      <td>2</td>\n",
              "      <td>NaN</td>\n",
              "      <td>0</td>\n",
              "      <td>NaN</td>\n",
              "      <td>...</td>\n",
              "      <td>NaN</td>\n",
              "      <td>NaN</td>\n",
              "      <td>NaN</td>\n",
              "      <td>NaN</td>\n",
              "      <td>NaN</td>\n",
              "      <td>NaN</td>\n",
              "      <td>NaN</td>\n",
              "      <td>NaN</td>\n",
              "      <td>NaN</td>\n",
              "      <td>4.0</td>\n",
              "    </tr>\n",
              "    <tr>\n",
              "      <th>2</th>\n",
              "      <td>3</td>\n",
              "      <td>AK</td>\n",
              "      <td>2</td>\n",
              "      <td>1</td>\n",
              "      <td>1</td>\n",
              "      <td>0</td>\n",
              "      <td>2</td>\n",
              "      <td>NaN</td>\n",
              "      <td>0</td>\n",
              "      <td>NaN</td>\n",
              "      <td>...</td>\n",
              "      <td>NaN</td>\n",
              "      <td>NaN</td>\n",
              "      <td>1.0</td>\n",
              "      <td>NaN</td>\n",
              "      <td>NaN</td>\n",
              "      <td>1.0</td>\n",
              "      <td>NaN</td>\n",
              "      <td>NaN</td>\n",
              "      <td>NaN</td>\n",
              "      <td>NaN</td>\n",
              "    </tr>\n",
              "    <tr>\n",
              "      <th>3</th>\n",
              "      <td>4</td>\n",
              "      <td>AK</td>\n",
              "      <td>2</td>\n",
              "      <td>0</td>\n",
              "      <td>1</td>\n",
              "      <td>1</td>\n",
              "      <td>2</td>\n",
              "      <td>NaN</td>\n",
              "      <td>0</td>\n",
              "      <td>NaN</td>\n",
              "      <td>...</td>\n",
              "      <td>NaN</td>\n",
              "      <td>NaN</td>\n",
              "      <td>NaN</td>\n",
              "      <td>NaN</td>\n",
              "      <td>NaN</td>\n",
              "      <td>NaN</td>\n",
              "      <td>NaN</td>\n",
              "      <td>NaN</td>\n",
              "      <td>NaN</td>\n",
              "      <td>2.0</td>\n",
              "    </tr>\n",
              "    <tr>\n",
              "      <th>4</th>\n",
              "      <td>5</td>\n",
              "      <td>AK</td>\n",
              "      <td>2</td>\n",
              "      <td>1</td>\n",
              "      <td>1</td>\n",
              "      <td>0</td>\n",
              "      <td>2</td>\n",
              "      <td>NaN</td>\n",
              "      <td>0</td>\n",
              "      <td>NaN</td>\n",
              "      <td>...</td>\n",
              "      <td>NaN</td>\n",
              "      <td>NaN</td>\n",
              "      <td>NaN</td>\n",
              "      <td>NaN</td>\n",
              "      <td>NaN</td>\n",
              "      <td>NaN</td>\n",
              "      <td>NaN</td>\n",
              "      <td>NaN</td>\n",
              "      <td>NaN</td>\n",
              "      <td>NaN</td>\n",
              "    </tr>\n",
              "  </tbody>\n",
              "</table>\n",
              "<p>5 rows × 262 columns</p>\n",
              "</div>\n",
              "    <div class=\"colab-df-buttons\">\n",
              "\n",
              "  <div class=\"colab-df-container\">\n",
              "    <button class=\"colab-df-convert\" onclick=\"convertToInteractive('df-c3c52b82-2f3f-4780-b26e-646de5cc1999')\"\n",
              "            title=\"Convert this dataframe to an interactive table.\"\n",
              "            style=\"display:none;\">\n",
              "\n",
              "  <svg xmlns=\"http://www.w3.org/2000/svg\" height=\"24px\" viewBox=\"0 -960 960 960\">\n",
              "    <path d=\"M120-120v-720h720v720H120Zm60-500h600v-160H180v160Zm220 220h160v-160H400v160Zm0 220h160v-160H400v160ZM180-400h160v-160H180v160Zm440 0h160v-160H620v160ZM180-180h160v-160H180v160Zm440 0h160v-160H620v160Z\"/>\n",
              "  </svg>\n",
              "    </button>\n",
              "\n",
              "  <style>\n",
              "    .colab-df-container {\n",
              "      display:flex;\n",
              "      gap: 12px;\n",
              "    }\n",
              "\n",
              "    .colab-df-convert {\n",
              "      background-color: #E8F0FE;\n",
              "      border: none;\n",
              "      border-radius: 50%;\n",
              "      cursor: pointer;\n",
              "      display: none;\n",
              "      fill: #1967D2;\n",
              "      height: 32px;\n",
              "      padding: 0 0 0 0;\n",
              "      width: 32px;\n",
              "    }\n",
              "\n",
              "    .colab-df-convert:hover {\n",
              "      background-color: #E2EBFA;\n",
              "      box-shadow: 0px 1px 2px rgba(60, 64, 67, 0.3), 0px 1px 3px 1px rgba(60, 64, 67, 0.15);\n",
              "      fill: #174EA6;\n",
              "    }\n",
              "\n",
              "    .colab-df-buttons div {\n",
              "      margin-bottom: 4px;\n",
              "    }\n",
              "\n",
              "    [theme=dark] .colab-df-convert {\n",
              "      background-color: #3B4455;\n",
              "      fill: #D2E3FC;\n",
              "    }\n",
              "\n",
              "    [theme=dark] .colab-df-convert:hover {\n",
              "      background-color: #434B5C;\n",
              "      box-shadow: 0px 1px 3px 1px rgba(0, 0, 0, 0.15);\n",
              "      filter: drop-shadow(0px 1px 2px rgba(0, 0, 0, 0.3));\n",
              "      fill: #FFFFFF;\n",
              "    }\n",
              "  </style>\n",
              "\n",
              "    <script>\n",
              "      const buttonEl =\n",
              "        document.querySelector('#df-c3c52b82-2f3f-4780-b26e-646de5cc1999 button.colab-df-convert');\n",
              "      buttonEl.style.display =\n",
              "        google.colab.kernel.accessAllowed ? 'block' : 'none';\n",
              "\n",
              "      async function convertToInteractive(key) {\n",
              "        const element = document.querySelector('#df-c3c52b82-2f3f-4780-b26e-646de5cc1999');\n",
              "        const dataTable =\n",
              "          await google.colab.kernel.invokeFunction('convertToInteractive',\n",
              "                                                    [key], {});\n",
              "        if (!dataTable) return;\n",
              "\n",
              "        const docLinkHtml = 'Like what you see? Visit the ' +\n",
              "          '<a target=\"_blank\" href=https://colab.research.google.com/notebooks/data_table.ipynb>data table notebook</a>'\n",
              "          + ' to learn more about interactive tables.';\n",
              "        element.innerHTML = '';\n",
              "        dataTable['output_type'] = 'display_data';\n",
              "        await google.colab.output.renderOutput(dataTable, element);\n",
              "        const docLink = document.createElement('div');\n",
              "        docLink.innerHTML = docLinkHtml;\n",
              "        element.appendChild(docLink);\n",
              "      }\n",
              "    </script>\n",
              "  </div>\n",
              "\n",
              "\n",
              "<div id=\"df-3dcbccc5-1060-41d5-9205-4b324802342c\">\n",
              "  <button class=\"colab-df-quickchart\" onclick=\"quickchart('df-3dcbccc5-1060-41d5-9205-4b324802342c')\"\n",
              "            title=\"Suggest charts.\"\n",
              "            style=\"display:none;\">\n",
              "\n",
              "<svg xmlns=\"http://www.w3.org/2000/svg\" height=\"24px\"viewBox=\"0 0 24 24\"\n",
              "     width=\"24px\">\n",
              "    <g>\n",
              "        <path d=\"M19 3H5c-1.1 0-2 .9-2 2v14c0 1.1.9 2 2 2h14c1.1 0 2-.9 2-2V5c0-1.1-.9-2-2-2zM9 17H7v-7h2v7zm4 0h-2V7h2v10zm4 0h-2v-4h2v4z\"/>\n",
              "    </g>\n",
              "</svg>\n",
              "  </button>\n",
              "\n",
              "<style>\n",
              "  .colab-df-quickchart {\n",
              "      --bg-color: #E8F0FE;\n",
              "      --fill-color: #1967D2;\n",
              "      --hover-bg-color: #E2EBFA;\n",
              "      --hover-fill-color: #174EA6;\n",
              "      --disabled-fill-color: #AAA;\n",
              "      --disabled-bg-color: #DDD;\n",
              "  }\n",
              "\n",
              "  [theme=dark] .colab-df-quickchart {\n",
              "      --bg-color: #3B4455;\n",
              "      --fill-color: #D2E3FC;\n",
              "      --hover-bg-color: #434B5C;\n",
              "      --hover-fill-color: #FFFFFF;\n",
              "      --disabled-bg-color: #3B4455;\n",
              "      --disabled-fill-color: #666;\n",
              "  }\n",
              "\n",
              "  .colab-df-quickchart {\n",
              "    background-color: var(--bg-color);\n",
              "    border: none;\n",
              "    border-radius: 50%;\n",
              "    cursor: pointer;\n",
              "    display: none;\n",
              "    fill: var(--fill-color);\n",
              "    height: 32px;\n",
              "    padding: 0;\n",
              "    width: 32px;\n",
              "  }\n",
              "\n",
              "  .colab-df-quickchart:hover {\n",
              "    background-color: var(--hover-bg-color);\n",
              "    box-shadow: 0 1px 2px rgba(60, 64, 67, 0.3), 0 1px 3px 1px rgba(60, 64, 67, 0.15);\n",
              "    fill: var(--button-hover-fill-color);\n",
              "  }\n",
              "\n",
              "  .colab-df-quickchart-complete:disabled,\n",
              "  .colab-df-quickchart-complete:disabled:hover {\n",
              "    background-color: var(--disabled-bg-color);\n",
              "    fill: var(--disabled-fill-color);\n",
              "    box-shadow: none;\n",
              "  }\n",
              "\n",
              "  .colab-df-spinner {\n",
              "    border: 2px solid var(--fill-color);\n",
              "    border-color: transparent;\n",
              "    border-bottom-color: var(--fill-color);\n",
              "    animation:\n",
              "      spin 1s steps(1) infinite;\n",
              "  }\n",
              "\n",
              "  @keyframes spin {\n",
              "    0% {\n",
              "      border-color: transparent;\n",
              "      border-bottom-color: var(--fill-color);\n",
              "      border-left-color: var(--fill-color);\n",
              "    }\n",
              "    20% {\n",
              "      border-color: transparent;\n",
              "      border-left-color: var(--fill-color);\n",
              "      border-top-color: var(--fill-color);\n",
              "    }\n",
              "    30% {\n",
              "      border-color: transparent;\n",
              "      border-left-color: var(--fill-color);\n",
              "      border-top-color: var(--fill-color);\n",
              "      border-right-color: var(--fill-color);\n",
              "    }\n",
              "    40% {\n",
              "      border-color: transparent;\n",
              "      border-right-color: var(--fill-color);\n",
              "      border-top-color: var(--fill-color);\n",
              "    }\n",
              "    60% {\n",
              "      border-color: transparent;\n",
              "      border-right-color: var(--fill-color);\n",
              "    }\n",
              "    80% {\n",
              "      border-color: transparent;\n",
              "      border-right-color: var(--fill-color);\n",
              "      border-bottom-color: var(--fill-color);\n",
              "    }\n",
              "    90% {\n",
              "      border-color: transparent;\n",
              "      border-bottom-color: var(--fill-color);\n",
              "    }\n",
              "  }\n",
              "</style>\n",
              "\n",
              "  <script>\n",
              "    async function quickchart(key) {\n",
              "      const quickchartButtonEl =\n",
              "        document.querySelector('#' + key + ' button');\n",
              "      quickchartButtonEl.disabled = true;  // To prevent multiple clicks.\n",
              "      quickchartButtonEl.classList.add('colab-df-spinner');\n",
              "      try {\n",
              "        const charts = await google.colab.kernel.invokeFunction(\n",
              "            'suggestCharts', [key], {});\n",
              "      } catch (error) {\n",
              "        console.error('Error during call to suggestCharts:', error);\n",
              "      }\n",
              "      quickchartButtonEl.classList.remove('colab-df-spinner');\n",
              "      quickchartButtonEl.classList.add('colab-df-quickchart-complete');\n",
              "    }\n",
              "    (() => {\n",
              "      let quickchartButtonEl =\n",
              "        document.querySelector('#df-3dcbccc5-1060-41d5-9205-4b324802342c button');\n",
              "      quickchartButtonEl.style.display =\n",
              "        google.colab.kernel.accessAllowed ? 'block' : 'none';\n",
              "    })();\n",
              "  </script>\n",
              "</div>\n",
              "    </div>\n",
              "  </div>\n"
            ]
          },
          "metadata": {},
          "execution_count": 20
        }
      ]
    },
    {
      "cell_type": "code",
      "source": [
        "count = 1\n",
        "count_list = []\n",
        "for i in range(rehab_df.shape[0]-1):\n",
        "  if rehab_df.iloc[i,1] == rehab_df.iloc[i+1, 1]:\n",
        "    count = count + 1\n",
        "  else:\n",
        "    for y in range(count):\n",
        "      count_list.append(count)\n",
        "    #rehab_df[i,262] = count\n",
        "    #print(rehab_df.iloc[i,1], rehab_df.iloc[i,rehab_df.shape[1]-1])\n",
        "    count = 1\n",
        "for y in range(count):\n",
        "  count_list.append(count)\n",
        "rehab_df['Total Count'] = count_list\n",
        "\n",
        "print(len(count_list))\n",
        "print(rehab_df.shape)\n",
        "rehab_df['STATE'].unique()"
      ],
      "metadata": {
        "colab": {
          "base_uri": "https://localhost:8080/"
        },
        "id": "3H8mbkOdsoC-",
        "outputId": "cd238b91-8029-4bfd-aea0-500e37850d5d"
      },
      "execution_count": null,
      "outputs": [
        {
          "output_type": "stream",
          "name": "stdout",
          "text": [
            "16066\n",
            "(16066, 263)\n"
          ]
        },
        {
          "output_type": "execute_result",
          "data": {
            "text/plain": [
              "array(['AK', 'AL', 'AR', 'AZ', 'CA', 'CO', 'CT', 'DC', 'DE', 'FL', 'GA',\n",
              "       'HI', 'IA', 'ID', 'IL', 'IN', 'KS', 'KY', 'LA', 'MA', 'MD', 'ME',\n",
              "       'MI', 'MN', 'MO', 'MS', 'MT', 'NC', 'ND', 'NE', 'NH', 'NJ', 'NM',\n",
              "       'NV', 'NY', 'OH', 'OK', 'OR', 'PA', 'PR', 'RI', 'SC', 'SD', 'TN',\n",
              "       'TX', 'UT', 'VA', 'VT', 'WA', 'WI', 'WV', 'WY', 'ZZ'], dtype=object)"
            ]
          },
          "metadata": {},
          "execution_count": 21
        }
      ]
    },
    {
      "cell_type": "code",
      "source": [
        "rehab_df.to_csv('rehab_dataset.csv')"
      ],
      "metadata": {
        "id": "07y4jCFQtM2P"
      },
      "execution_count": null,
      "outputs": []
    },
    {
      "cell_type": "code",
      "source": [
        "! wget -q -O mental_rehab.csv https://github.com/gauravshetty98/Gaurav-GIS-Repo/raw/main/nmhss-puf-2020-csv.csv"
      ],
      "metadata": {
        "id": "c2tzvaBd-Gmj"
      },
      "execution_count": 1,
      "outputs": []
    },
    {
      "cell_type": "code",
      "source": [
        "mental_df = pd.read_csv('mental_rehab.csv')\n",
        "mental_df.head()"
      ],
      "metadata": {
        "id": "Xr4nW5kU-z4Z",
        "outputId": "c8499293-b992-44b4-c3c8-aade4e0ebd4a",
        "colab": {
          "base_uri": "https://localhost:8080/",
          "height": 256
        }
      },
      "execution_count": 5,
      "outputs": [
        {
          "output_type": "execute_result",
          "data": {
            "text/plain": [
              "      CASEID LST  MHINTAKE  MHDIAGEVAL  MHREFERRAL  SMISEDSUD  TREATMT  \\\n",
              "0  202000001  AK         1           1           1          1        1   \n",
              "1  202000002  AK         1           1           1          1        1   \n",
              "2  202000003  AK         1           1           1          1        1   \n",
              "3  202000004  AK         1           1           1          1        1   \n",
              "4  202000005  AK         1           1           1          1        1   \n",
              "\n",
              "   ADMINSERV  SETTINGIP  SETTINGRC  ...  OPRACEPERUNK  OPLEGALTOTVOL  \\\n",
              "0          0          0          0  ...            -2              1   \n",
              "1          1          0          0  ...            -2              1   \n",
              "2          0          0          0  ...             1              1   \n",
              "3          0          0          0  ...            -2              1   \n",
              "4          0          0          0  ...             0              0   \n",
              "\n",
              "   OPLEGALPERVOL  OPLEGALTOTNONFOREN  OPLEGALPERNONFOREN  OPLEGALTOTFOREN  \\\n",
              "0             -2                   0                  -2                1   \n",
              "1             -2                   0                  -2                1   \n",
              "2              7                   0                   0                0   \n",
              "3             -2                   0                  -2                0   \n",
              "4              0                   0                   0                0   \n",
              "\n",
              "   OPLEGALPERFOREN  COD_PCT  TOTADMIS  PERCENTVA  \n",
              "0               -2        7         2          0  \n",
              "1               -2        7         1          0  \n",
              "2                0        7         6          0  \n",
              "3               -2        7         5          0  \n",
              "4                0       -2        -1         -1  \n",
              "\n",
              "[5 rows x 384 columns]"
            ],
            "text/html": [
              "\n",
              "  <div id=\"df-b3afea68-54a5-4a65-bf00-812587ece977\" class=\"colab-df-container\">\n",
              "    <div>\n",
              "<style scoped>\n",
              "    .dataframe tbody tr th:only-of-type {\n",
              "        vertical-align: middle;\n",
              "    }\n",
              "\n",
              "    .dataframe tbody tr th {\n",
              "        vertical-align: top;\n",
              "    }\n",
              "\n",
              "    .dataframe thead th {\n",
              "        text-align: right;\n",
              "    }\n",
              "</style>\n",
              "<table border=\"1\" class=\"dataframe\">\n",
              "  <thead>\n",
              "    <tr style=\"text-align: right;\">\n",
              "      <th></th>\n",
              "      <th>CASEID</th>\n",
              "      <th>LST</th>\n",
              "      <th>MHINTAKE</th>\n",
              "      <th>MHDIAGEVAL</th>\n",
              "      <th>MHREFERRAL</th>\n",
              "      <th>SMISEDSUD</th>\n",
              "      <th>TREATMT</th>\n",
              "      <th>ADMINSERV</th>\n",
              "      <th>SETTINGIP</th>\n",
              "      <th>SETTINGRC</th>\n",
              "      <th>...</th>\n",
              "      <th>OPRACEPERUNK</th>\n",
              "      <th>OPLEGALTOTVOL</th>\n",
              "      <th>OPLEGALPERVOL</th>\n",
              "      <th>OPLEGALTOTNONFOREN</th>\n",
              "      <th>OPLEGALPERNONFOREN</th>\n",
              "      <th>OPLEGALTOTFOREN</th>\n",
              "      <th>OPLEGALPERFOREN</th>\n",
              "      <th>COD_PCT</th>\n",
              "      <th>TOTADMIS</th>\n",
              "      <th>PERCENTVA</th>\n",
              "    </tr>\n",
              "  </thead>\n",
              "  <tbody>\n",
              "    <tr>\n",
              "      <th>0</th>\n",
              "      <td>202000001</td>\n",
              "      <td>AK</td>\n",
              "      <td>1</td>\n",
              "      <td>1</td>\n",
              "      <td>1</td>\n",
              "      <td>1</td>\n",
              "      <td>1</td>\n",
              "      <td>0</td>\n",
              "      <td>0</td>\n",
              "      <td>0</td>\n",
              "      <td>...</td>\n",
              "      <td>-2</td>\n",
              "      <td>1</td>\n",
              "      <td>-2</td>\n",
              "      <td>0</td>\n",
              "      <td>-2</td>\n",
              "      <td>1</td>\n",
              "      <td>-2</td>\n",
              "      <td>7</td>\n",
              "      <td>2</td>\n",
              "      <td>0</td>\n",
              "    </tr>\n",
              "    <tr>\n",
              "      <th>1</th>\n",
              "      <td>202000002</td>\n",
              "      <td>AK</td>\n",
              "      <td>1</td>\n",
              "      <td>1</td>\n",
              "      <td>1</td>\n",
              "      <td>1</td>\n",
              "      <td>1</td>\n",
              "      <td>1</td>\n",
              "      <td>0</td>\n",
              "      <td>0</td>\n",
              "      <td>...</td>\n",
              "      <td>-2</td>\n",
              "      <td>1</td>\n",
              "      <td>-2</td>\n",
              "      <td>0</td>\n",
              "      <td>-2</td>\n",
              "      <td>1</td>\n",
              "      <td>-2</td>\n",
              "      <td>7</td>\n",
              "      <td>1</td>\n",
              "      <td>0</td>\n",
              "    </tr>\n",
              "    <tr>\n",
              "      <th>2</th>\n",
              "      <td>202000003</td>\n",
              "      <td>AK</td>\n",
              "      <td>1</td>\n",
              "      <td>1</td>\n",
              "      <td>1</td>\n",
              "      <td>1</td>\n",
              "      <td>1</td>\n",
              "      <td>0</td>\n",
              "      <td>0</td>\n",
              "      <td>0</td>\n",
              "      <td>...</td>\n",
              "      <td>1</td>\n",
              "      <td>1</td>\n",
              "      <td>7</td>\n",
              "      <td>0</td>\n",
              "      <td>0</td>\n",
              "      <td>0</td>\n",
              "      <td>0</td>\n",
              "      <td>7</td>\n",
              "      <td>6</td>\n",
              "      <td>0</td>\n",
              "    </tr>\n",
              "    <tr>\n",
              "      <th>3</th>\n",
              "      <td>202000004</td>\n",
              "      <td>AK</td>\n",
              "      <td>1</td>\n",
              "      <td>1</td>\n",
              "      <td>1</td>\n",
              "      <td>1</td>\n",
              "      <td>1</td>\n",
              "      <td>0</td>\n",
              "      <td>0</td>\n",
              "      <td>0</td>\n",
              "      <td>...</td>\n",
              "      <td>-2</td>\n",
              "      <td>1</td>\n",
              "      <td>-2</td>\n",
              "      <td>0</td>\n",
              "      <td>-2</td>\n",
              "      <td>0</td>\n",
              "      <td>-2</td>\n",
              "      <td>7</td>\n",
              "      <td>5</td>\n",
              "      <td>0</td>\n",
              "    </tr>\n",
              "    <tr>\n",
              "      <th>4</th>\n",
              "      <td>202000005</td>\n",
              "      <td>AK</td>\n",
              "      <td>1</td>\n",
              "      <td>1</td>\n",
              "      <td>1</td>\n",
              "      <td>1</td>\n",
              "      <td>1</td>\n",
              "      <td>0</td>\n",
              "      <td>0</td>\n",
              "      <td>0</td>\n",
              "      <td>...</td>\n",
              "      <td>0</td>\n",
              "      <td>0</td>\n",
              "      <td>0</td>\n",
              "      <td>0</td>\n",
              "      <td>0</td>\n",
              "      <td>0</td>\n",
              "      <td>0</td>\n",
              "      <td>-2</td>\n",
              "      <td>-1</td>\n",
              "      <td>-1</td>\n",
              "    </tr>\n",
              "  </tbody>\n",
              "</table>\n",
              "<p>5 rows × 384 columns</p>\n",
              "</div>\n",
              "    <div class=\"colab-df-buttons\">\n",
              "\n",
              "  <div class=\"colab-df-container\">\n",
              "    <button class=\"colab-df-convert\" onclick=\"convertToInteractive('df-b3afea68-54a5-4a65-bf00-812587ece977')\"\n",
              "            title=\"Convert this dataframe to an interactive table.\"\n",
              "            style=\"display:none;\">\n",
              "\n",
              "  <svg xmlns=\"http://www.w3.org/2000/svg\" height=\"24px\" viewBox=\"0 -960 960 960\">\n",
              "    <path d=\"M120-120v-720h720v720H120Zm60-500h600v-160H180v160Zm220 220h160v-160H400v160Zm0 220h160v-160H400v160ZM180-400h160v-160H180v160Zm440 0h160v-160H620v160ZM180-180h160v-160H180v160Zm440 0h160v-160H620v160Z\"/>\n",
              "  </svg>\n",
              "    </button>\n",
              "\n",
              "  <style>\n",
              "    .colab-df-container {\n",
              "      display:flex;\n",
              "      gap: 12px;\n",
              "    }\n",
              "\n",
              "    .colab-df-convert {\n",
              "      background-color: #E8F0FE;\n",
              "      border: none;\n",
              "      border-radius: 50%;\n",
              "      cursor: pointer;\n",
              "      display: none;\n",
              "      fill: #1967D2;\n",
              "      height: 32px;\n",
              "      padding: 0 0 0 0;\n",
              "      width: 32px;\n",
              "    }\n",
              "\n",
              "    .colab-df-convert:hover {\n",
              "      background-color: #E2EBFA;\n",
              "      box-shadow: 0px 1px 2px rgba(60, 64, 67, 0.3), 0px 1px 3px 1px rgba(60, 64, 67, 0.15);\n",
              "      fill: #174EA6;\n",
              "    }\n",
              "\n",
              "    .colab-df-buttons div {\n",
              "      margin-bottom: 4px;\n",
              "    }\n",
              "\n",
              "    [theme=dark] .colab-df-convert {\n",
              "      background-color: #3B4455;\n",
              "      fill: #D2E3FC;\n",
              "    }\n",
              "\n",
              "    [theme=dark] .colab-df-convert:hover {\n",
              "      background-color: #434B5C;\n",
              "      box-shadow: 0px 1px 3px 1px rgba(0, 0, 0, 0.15);\n",
              "      filter: drop-shadow(0px 1px 2px rgba(0, 0, 0, 0.3));\n",
              "      fill: #FFFFFF;\n",
              "    }\n",
              "  </style>\n",
              "\n",
              "    <script>\n",
              "      const buttonEl =\n",
              "        document.querySelector('#df-b3afea68-54a5-4a65-bf00-812587ece977 button.colab-df-convert');\n",
              "      buttonEl.style.display =\n",
              "        google.colab.kernel.accessAllowed ? 'block' : 'none';\n",
              "\n",
              "      async function convertToInteractive(key) {\n",
              "        const element = document.querySelector('#df-b3afea68-54a5-4a65-bf00-812587ece977');\n",
              "        const dataTable =\n",
              "          await google.colab.kernel.invokeFunction('convertToInteractive',\n",
              "                                                    [key], {});\n",
              "        if (!dataTable) return;\n",
              "\n",
              "        const docLinkHtml = 'Like what you see? Visit the ' +\n",
              "          '<a target=\"_blank\" href=https://colab.research.google.com/notebooks/data_table.ipynb>data table notebook</a>'\n",
              "          + ' to learn more about interactive tables.';\n",
              "        element.innerHTML = '';\n",
              "        dataTable['output_type'] = 'display_data';\n",
              "        await google.colab.output.renderOutput(dataTable, element);\n",
              "        const docLink = document.createElement('div');\n",
              "        docLink.innerHTML = docLinkHtml;\n",
              "        element.appendChild(docLink);\n",
              "      }\n",
              "    </script>\n",
              "  </div>\n",
              "\n",
              "\n",
              "<div id=\"df-92b49fae-27c5-4ac4-b5d9-c850c8f1544e\">\n",
              "  <button class=\"colab-df-quickchart\" onclick=\"quickchart('df-92b49fae-27c5-4ac4-b5d9-c850c8f1544e')\"\n",
              "            title=\"Suggest charts.\"\n",
              "            style=\"display:none;\">\n",
              "\n",
              "<svg xmlns=\"http://www.w3.org/2000/svg\" height=\"24px\"viewBox=\"0 0 24 24\"\n",
              "     width=\"24px\">\n",
              "    <g>\n",
              "        <path d=\"M19 3H5c-1.1 0-2 .9-2 2v14c0 1.1.9 2 2 2h14c1.1 0 2-.9 2-2V5c0-1.1-.9-2-2-2zM9 17H7v-7h2v7zm4 0h-2V7h2v10zm4 0h-2v-4h2v4z\"/>\n",
              "    </g>\n",
              "</svg>\n",
              "  </button>\n",
              "\n",
              "<style>\n",
              "  .colab-df-quickchart {\n",
              "      --bg-color: #E8F0FE;\n",
              "      --fill-color: #1967D2;\n",
              "      --hover-bg-color: #E2EBFA;\n",
              "      --hover-fill-color: #174EA6;\n",
              "      --disabled-fill-color: #AAA;\n",
              "      --disabled-bg-color: #DDD;\n",
              "  }\n",
              "\n",
              "  [theme=dark] .colab-df-quickchart {\n",
              "      --bg-color: #3B4455;\n",
              "      --fill-color: #D2E3FC;\n",
              "      --hover-bg-color: #434B5C;\n",
              "      --hover-fill-color: #FFFFFF;\n",
              "      --disabled-bg-color: #3B4455;\n",
              "      --disabled-fill-color: #666;\n",
              "  }\n",
              "\n",
              "  .colab-df-quickchart {\n",
              "    background-color: var(--bg-color);\n",
              "    border: none;\n",
              "    border-radius: 50%;\n",
              "    cursor: pointer;\n",
              "    display: none;\n",
              "    fill: var(--fill-color);\n",
              "    height: 32px;\n",
              "    padding: 0;\n",
              "    width: 32px;\n",
              "  }\n",
              "\n",
              "  .colab-df-quickchart:hover {\n",
              "    background-color: var(--hover-bg-color);\n",
              "    box-shadow: 0 1px 2px rgba(60, 64, 67, 0.3), 0 1px 3px 1px rgba(60, 64, 67, 0.15);\n",
              "    fill: var(--button-hover-fill-color);\n",
              "  }\n",
              "\n",
              "  .colab-df-quickchart-complete:disabled,\n",
              "  .colab-df-quickchart-complete:disabled:hover {\n",
              "    background-color: var(--disabled-bg-color);\n",
              "    fill: var(--disabled-fill-color);\n",
              "    box-shadow: none;\n",
              "  }\n",
              "\n",
              "  .colab-df-spinner {\n",
              "    border: 2px solid var(--fill-color);\n",
              "    border-color: transparent;\n",
              "    border-bottom-color: var(--fill-color);\n",
              "    animation:\n",
              "      spin 1s steps(1) infinite;\n",
              "  }\n",
              "\n",
              "  @keyframes spin {\n",
              "    0% {\n",
              "      border-color: transparent;\n",
              "      border-bottom-color: var(--fill-color);\n",
              "      border-left-color: var(--fill-color);\n",
              "    }\n",
              "    20% {\n",
              "      border-color: transparent;\n",
              "      border-left-color: var(--fill-color);\n",
              "      border-top-color: var(--fill-color);\n",
              "    }\n",
              "    30% {\n",
              "      border-color: transparent;\n",
              "      border-left-color: var(--fill-color);\n",
              "      border-top-color: var(--fill-color);\n",
              "      border-right-color: var(--fill-color);\n",
              "    }\n",
              "    40% {\n",
              "      border-color: transparent;\n",
              "      border-right-color: var(--fill-color);\n",
              "      border-top-color: var(--fill-color);\n",
              "    }\n",
              "    60% {\n",
              "      border-color: transparent;\n",
              "      border-right-color: var(--fill-color);\n",
              "    }\n",
              "    80% {\n",
              "      border-color: transparent;\n",
              "      border-right-color: var(--fill-color);\n",
              "      border-bottom-color: var(--fill-color);\n",
              "    }\n",
              "    90% {\n",
              "      border-color: transparent;\n",
              "      border-bottom-color: var(--fill-color);\n",
              "    }\n",
              "  }\n",
              "</style>\n",
              "\n",
              "  <script>\n",
              "    async function quickchart(key) {\n",
              "      const quickchartButtonEl =\n",
              "        document.querySelector('#' + key + ' button');\n",
              "      quickchartButtonEl.disabled = true;  // To prevent multiple clicks.\n",
              "      quickchartButtonEl.classList.add('colab-df-spinner');\n",
              "      try {\n",
              "        const charts = await google.colab.kernel.invokeFunction(\n",
              "            'suggestCharts', [key], {});\n",
              "      } catch (error) {\n",
              "        console.error('Error during call to suggestCharts:', error);\n",
              "      }\n",
              "      quickchartButtonEl.classList.remove('colab-df-spinner');\n",
              "      quickchartButtonEl.classList.add('colab-df-quickchart-complete');\n",
              "    }\n",
              "    (() => {\n",
              "      let quickchartButtonEl =\n",
              "        document.querySelector('#df-92b49fae-27c5-4ac4-b5d9-c850c8f1544e button');\n",
              "      quickchartButtonEl.style.display =\n",
              "        google.colab.kernel.accessAllowed ? 'block' : 'none';\n",
              "    })();\n",
              "  </script>\n",
              "</div>\n",
              "    </div>\n",
              "  </div>\n"
            ]
          },
          "metadata": {},
          "execution_count": 5
        }
      ]
    },
    {
      "cell_type": "code",
      "source": [
        "count = 1\n",
        "count_list = []\n",
        "for i in range(mental_df.shape[0]-1):\n",
        "  if mental_df.iloc[i,1] == mental_df.iloc[i+1, 1]:\n",
        "    count = count + 1\n",
        "  else:\n",
        "    for y in range(count):\n",
        "      count_list.append(count)\n",
        "    #rehab_df[i,262] = count\n",
        "    #print(rehab_df.iloc[i,1], rehab_df.iloc[i,rehab_df.shape[1]-1])\n",
        "    count = 1\n",
        "for y in range(count):\n",
        "  count_list.append(count)\n",
        "mental_df['Total Count'] = count_list\n",
        "\n",
        "print(len(count_list))\n",
        "print(mental_df.shape)\n",
        "print(mental_df['LST'].unique())\n",
        "mental_df['Total Count'].unique()"
      ],
      "metadata": {
        "id": "Hvu7lDOH_Mx-",
        "outputId": "8b052bd6-d2dd-4aa3-d1b0-05ecc1c0b4a7",
        "colab": {
          "base_uri": "https://localhost:8080/"
        }
      },
      "execution_count": 6,
      "outputs": [
        {
          "output_type": "stream",
          "name": "stdout",
          "text": [
            "12275\n",
            "(12275, 385)\n",
            "['AK' 'AL' 'AR' 'AZ' 'CA' 'CO' 'CT' 'DC' 'DE' 'FL' 'GA' 'HI' 'IA' 'ID'\n",
            " 'IL' 'IN' 'KS' 'KY' 'LA' 'MA' 'MD' 'ME' 'MI' 'MN' 'MO' 'MS' 'MT' 'NC'\n",
            " 'ND' 'NE' 'NH' 'NJ' 'NM' 'NV' 'NY' 'OH' 'OK' 'OR' 'PA' 'PR' 'RI' 'SC'\n",
            " 'SD' 'TN' 'TX' 'UT' 'VA' 'VT' 'WA' 'WI' 'WV' 'WY' 'ZZ']\n"
          ]
        },
        {
          "output_type": "execute_result",
          "data": {
            "text/plain": [
              "array([ 89, 156, 207, 433, 970, 189, 221,  36, 494, 225,  37, 152, 137,\n",
              "       397, 284, 121, 210, 171, 310, 276, 187, 377, 259, 212, 179,  99,\n",
              "       314,  35, 147,  70, 320,  71,  67, 802, 621, 166, 174, 563,  69,\n",
              "        50, 111,  47, 280, 363, 265, 281,  60, 352, 411, 119,  44,   9])"
            ]
          },
          "metadata": {},
          "execution_count": 6
        }
      ]
    },
    {
      "cell_type": "code",
      "source": [
        "mental_df.to_csv('mental_health_treatment.csv')"
      ],
      "metadata": {
        "id": "2ykP5io-_qhT"
      },
      "execution_count": 7,
      "outputs": []
    },
    {
      "cell_type": "code",
      "source": [],
      "metadata": {
        "id": "OnBRzgtUBZTB"
      },
      "execution_count": null,
      "outputs": []
    }
  ]
}