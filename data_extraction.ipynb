{
  "nbformat": 4,
  "nbformat_minor": 0,
  "metadata": {
    "colab": {
      "provenance": [],
      "authorship_tag": "ABX9TyO6aYQpvysBA/SM8S09ug8n",
      "include_colab_link": true
    },
    "kernelspec": {
      "name": "python3",
      "display_name": "Python 3"
    },
    "language_info": {
      "name": "python"
    }
  },
  "cells": [
    {
      "cell_type": "markdown",
      "metadata": {
        "id": "view-in-github",
        "colab_type": "text"
      },
      "source": [
        "<a href=\"https://colab.research.google.com/github/gauravshetty98/Gaurav-GIS-Repo/blob/main/data_extraction.ipynb\" target=\"_parent\"><img src=\"https://colab.research.google.com/assets/colab-badge.svg\" alt=\"Open In Colab\"/></a>"
      ]
    },
    {
      "cell_type": "markdown",
      "source": [
        "### Data Extraction\n",
        "\n",
        "This notebook represents the steps to download the zip file from GitHub repository and extract the data from its content and create a single dataset.\n",
        "\n",
        "Dataset :  https://www.samhsa.gov/data/report/2021-nsduh-state-specific-tables\n",
        "\n",
        "The dataset contains state-wise PDFs with drug abuse and mental health information of the respective state.\n",
        "\n",
        "We start of by installing `tabula` library. This library is used to extract the tables from the PDFs.\n"
      ],
      "metadata": {
        "id": "N0uDqhGy89XW"
      }
    },
    {
      "cell_type": "code",
      "source": [
        "!pip install -q tabula-py"
      ],
      "metadata": {
        "id": "DtzQaJNsnbfJ"
      },
      "execution_count": 29,
      "outputs": []
    },
    {
      "cell_type": "markdown",
      "source": [
        "Once the library is installed, we move on to import all the required libraries. We make use of google drive to store the PDFs present in the dataset.\n",
        "\n",
        "**This notebook requires your google drive mounting to store dataset files. You can delete those files after running the notebook**\n",
        "\n"
      ],
      "metadata": {
        "id": "AdRWSGKy-V4u"
      }
    },
    {
      "cell_type": "code",
      "execution_count": 30,
      "metadata": {
        "colab": {
          "base_uri": "https://localhost:8080/"
        },
        "id": "inMGLPGG_0pB",
        "outputId": "2810589f-d4fb-47da-d073-8fe0722cd8bc"
      },
      "outputs": [
        {
          "output_type": "stream",
          "name": "stdout",
          "text": [
            "Drive already mounted at /content//gdrive; to attempt to forcibly remount, call drive.mount(\"/content//gdrive\", force_remount=True).\n"
          ]
        }
      ],
      "source": [
        "import os\n",
        "from os import path\n",
        "import tabula\n",
        "import pandas as pd\n",
        "import numpy as np\n",
        "\n",
        "from google.colab import drive\n",
        "\n",
        "drive.mount(\"/content//gdrive\")"
      ]
    },
    {
      "cell_type": "markdown",
      "source": [
        "\n",
        "`2021NSDUHsaeSpecificStatesTabs122022` is the name of the new folder. This folder will contain all the state wise PDFs.\n",
        "A `tables` folder is also present, which will contain all the tables extracted from each state PDF.\n",
        "\n"
      ],
      "metadata": {
        "id": "T6wxZ86J_Se8"
      }
    },
    {
      "cell_type": "code",
      "source": [
        "dir = \"//content//gdrive//My Drive//2021NSDUHsaeSpecificStatesTabs122022\"\n",
        "folder_name = \"tables\""
      ],
      "metadata": {
        "id": "MPr05FfuBYP6"
      },
      "execution_count": 31,
      "outputs": []
    },
    {
      "cell_type": "markdown",
      "source": [
        "Creating a new folder if it is not present"
      ],
      "metadata": {
        "id": "uQO1CHP6AuAw"
      }
    },
    {
      "cell_type": "code",
      "source": [
        "if os.path.exists(dir) == False:\n",
        "    os.mkdir(dir)\n",
        "    print(\"done\")\n",
        "if os.path.exists(dir+\"//\"+folder_name) == False:\n",
        "    os.mkdir(dir+\"//\"+folder_name)\n",
        "    print(\"done\")\n",
        "\n",
        "!ls \"//content//gdrive//My Drive//2021NSDUHsaeSpecificStatesTabs122022\""
      ],
      "metadata": {
        "id": "5gcfXPQ0C9bo"
      },
      "execution_count": null,
      "outputs": []
    },
    {
      "cell_type": "markdown",
      "source": [
        "Downloading the zip file from GitHub and extracting it into the drive folder we created"
      ],
      "metadata": {
        "id": "eVbW17dQBBs2"
      }
    },
    {
      "cell_type": "code",
      "source": [
        "!wget \"https://github.com/gauravshetty98/Gaurav-GIS-Repo/raw/main/2021NSDUHsaeSpecificStatesTabs122022.zip\"\n",
        "!unzip /content/2021NSDUHsaeSpecificStatesTabs122022.zip -d \"//content//gdrive//My Drive//2021NSDUHsaeSpecificStatesTabs122022\""
      ],
      "metadata": {
        "colab": {
          "base_uri": "https://localhost:8080/"
        },
        "id": "wvVJlMZ65wZt",
        "outputId": "50f24270-7d93-446b-d2c5-247454817c8b"
      },
      "execution_count": 34,
      "outputs": [
        {
          "output_type": "stream",
          "name": "stdout",
          "text": [
            "--2023-09-12 15:01:41--  https://github.com/gauravshetty98/Gaurav-GIS-Repo/raw/main/2021NSDUHsaeSpecificStatesTabs122022.zip\n",
            "Resolving github.com (github.com)... 140.82.121.3\n",
            "Connecting to github.com (github.com)|140.82.121.3|:443... connected.\n",
            "HTTP request sent, awaiting response... 302 Found\n",
            "Location: https://raw.githubusercontent.com/gauravshetty98/Gaurav-GIS-Repo/main/2021NSDUHsaeSpecificStatesTabs122022.zip [following]\n",
            "--2023-09-12 15:01:42--  https://raw.githubusercontent.com/gauravshetty98/Gaurav-GIS-Repo/main/2021NSDUHsaeSpecificStatesTabs122022.zip\n",
            "Resolving raw.githubusercontent.com (raw.githubusercontent.com)... 185.199.108.133, 185.199.109.133, 185.199.110.133, ...\n",
            "Connecting to raw.githubusercontent.com (raw.githubusercontent.com)|185.199.108.133|:443... connected.\n",
            "HTTP request sent, awaiting response... 200 OK\n",
            "Length: 13301032 (13M) [application/zip]\n",
            "Saving to: ‘2021NSDUHsaeSpecificStatesTabs122022.zip.1’\n",
            "\n",
            "2021NSDUHsaeSpecifi 100%[===================>]  12.68M  --.-KB/s    in 0.05s   \n",
            "\n",
            "2023-09-12 15:01:42 (267 MB/s) - ‘2021NSDUHsaeSpecificStatesTabs122022.zip.1’ saved [13301032/13301032]\n",
            "\n",
            "Archive:  /content/2021NSDUHsaeSpecificStatesTabs122022.zip\n",
            "   creating: //content//gdrive//My Drive//2021NSDUHsaeSpecificStatesTabs122022/images/\n",
            "  inflating: //content//gdrive//My Drive//2021NSDUHsaeSpecificStatesTabs122022/images/scaltoc.gif  \n",
            "  inflating: //content//gdrive//My Drive//2021NSDUHsaeSpecificStatesTabs122022/images/scaltop.gif  \n",
            "  inflating: //content//gdrive//My Drive//2021NSDUHsaeSpecificStatesTabs122022/NSDUHsaeAlabama2021.pdf  \n",
            "  inflating: //content//gdrive//My Drive//2021NSDUHsaeSpecificStatesTabs122022/NSDUHsaeAlaska2021.pdf  \n",
            "  inflating: //content//gdrive//My Drive//2021NSDUHsaeSpecificStatesTabs122022/NSDUHsaeArizona2021.pdf  \n",
            "  inflating: //content//gdrive//My Drive//2021NSDUHsaeSpecificStatesTabs122022/NSDUHsaeArkansas2021.pdf  \n",
            "  inflating: //content//gdrive//My Drive//2021NSDUHsaeSpecificStatesTabs122022/NSDUHsaeCalifornia2021.pdf  \n",
            "  inflating: //content//gdrive//My Drive//2021NSDUHsaeSpecificStatesTabs122022/NSDUHsaeColorado2021.pdf  \n",
            "  inflating: //content//gdrive//My Drive//2021NSDUHsaeSpecificStatesTabs122022/NSDUHsaeConnecticut2021.pdf  \n",
            "  inflating: //content//gdrive//My Drive//2021NSDUHsaeSpecificStatesTabs122022/NSDUHsaeDelaware2021.pdf  \n",
            "  inflating: //content//gdrive//My Drive//2021NSDUHsaeSpecificStatesTabs122022/NSDUHsaeDistrictOfCol2021.pdf  \n",
            "  inflating: //content//gdrive//My Drive//2021NSDUHsaeSpecificStatesTabs122022/NSDUHsaeFlorida2021.pdf  \n",
            "  inflating: //content//gdrive//My Drive//2021NSDUHsaeSpecificStatesTabs122022/NSDUHsaeGeorgia2021.pdf  \n",
            "  inflating: //content//gdrive//My Drive//2021NSDUHsaeSpecificStatesTabs122022/NSDUHsaeHawaii2021.pdf  \n",
            "  inflating: //content//gdrive//My Drive//2021NSDUHsaeSpecificStatesTabs122022/NSDUHsaeIdaho2021.pdf  \n",
            "  inflating: //content//gdrive//My Drive//2021NSDUHsaeSpecificStatesTabs122022/NSDUHsaeIllinois2021.pdf  \n",
            "  inflating: //content//gdrive//My Drive//2021NSDUHsaeSpecificStatesTabs122022/NSDUHsaeIndiana2021.pdf  \n",
            "  inflating: //content//gdrive//My Drive//2021NSDUHsaeSpecificStatesTabs122022/NSDUHsaeIowa2021.pdf  \n",
            "  inflating: //content//gdrive//My Drive//2021NSDUHsaeSpecificStatesTabs122022/NSDUHsaeKansas2021.pdf  \n",
            "  inflating: //content//gdrive//My Drive//2021NSDUHsaeSpecificStatesTabs122022/NSDUHsaeKentucky2021.pdf  \n",
            "  inflating: //content//gdrive//My Drive//2021NSDUHsaeSpecificStatesTabs122022/NSDUHsaeLouisiana2021.pdf  \n",
            "  inflating: //content//gdrive//My Drive//2021NSDUHsaeSpecificStatesTabs122022/NSDUHsaeMaine2021.pdf  \n",
            "  inflating: //content//gdrive//My Drive//2021NSDUHsaeSpecificStatesTabs122022/NSDUHsaeMaryland2021.pdf  \n",
            "  inflating: //content//gdrive//My Drive//2021NSDUHsaeSpecificStatesTabs122022/NSDUHsaeMassachusetts2021.pdf  \n",
            "  inflating: //content//gdrive//My Drive//2021NSDUHsaeSpecificStatesTabs122022/NSDUHsaeMichigan2021.pdf  \n",
            "  inflating: //content//gdrive//My Drive//2021NSDUHsaeSpecificStatesTabs122022/NSDUHsaeMidwest2021.pdf  \n",
            "  inflating: //content//gdrive//My Drive//2021NSDUHsaeSpecificStatesTabs122022/NSDUHsaeMinnesota2021.pdf  \n",
            "  inflating: //content//gdrive//My Drive//2021NSDUHsaeSpecificStatesTabs122022/NSDUHsaeMississippi2021.pdf  \n",
            "  inflating: //content//gdrive//My Drive//2021NSDUHsaeSpecificStatesTabs122022/NSDUHsaeMissouri2021.pdf  \n",
            "  inflating: //content//gdrive//My Drive//2021NSDUHsaeSpecificStatesTabs122022/NSDUHsaeMontana2021.pdf  \n",
            "  inflating: //content//gdrive//My Drive//2021NSDUHsaeSpecificStatesTabs122022/NSDUHsaeNational2021.pdf  \n",
            "  inflating: //content//gdrive//My Drive//2021NSDUHsaeSpecificStatesTabs122022/NSDUHsaeNebraska2021.pdf  \n",
            "  inflating: //content//gdrive//My Drive//2021NSDUHsaeSpecificStatesTabs122022/NSDUHsaeNevada2021.pdf  \n",
            "  inflating: //content//gdrive//My Drive//2021NSDUHsaeSpecificStatesTabs122022/NSDUHsaeNewHampshire2021.pdf  \n",
            "  inflating: //content//gdrive//My Drive//2021NSDUHsaeSpecificStatesTabs122022/NSDUHsaeNewJersey2021.pdf  \n",
            "  inflating: //content//gdrive//My Drive//2021NSDUHsaeSpecificStatesTabs122022/NSDUHsaeNewMexico2021.pdf  \n",
            "  inflating: //content//gdrive//My Drive//2021NSDUHsaeSpecificStatesTabs122022/NSDUHsaeNewYork2021.pdf  \n",
            "  inflating: //content//gdrive//My Drive//2021NSDUHsaeSpecificStatesTabs122022/NSDUHsaeNorthCarolina2021.pdf  \n",
            "  inflating: //content//gdrive//My Drive//2021NSDUHsaeSpecificStatesTabs122022/NSDUHsaeNorthDakota2021.pdf  \n",
            "  inflating: //content//gdrive//My Drive//2021NSDUHsaeSpecificStatesTabs122022/NSDUHsaeNortheast2021.pdf  \n",
            "  inflating: //content//gdrive//My Drive//2021NSDUHsaeSpecificStatesTabs122022/NSDUHsaeOhio2021.pdf  \n",
            "  inflating: //content//gdrive//My Drive//2021NSDUHsaeSpecificStatesTabs122022/NSDUHsaeOklahoma2021.pdf  \n",
            "  inflating: //content//gdrive//My Drive//2021NSDUHsaeSpecificStatesTabs122022/NSDUHsaeOregon2021.pdf  \n",
            "  inflating: //content//gdrive//My Drive//2021NSDUHsaeSpecificStatesTabs122022/NSDUHsaePennsylvania2021.pdf  \n",
            "  inflating: //content//gdrive//My Drive//2021NSDUHsaeSpecificStatesTabs122022/NSDUHsaeRhodeIsland2021.pdf  \n",
            "  inflating: //content//gdrive//My Drive//2021NSDUHsaeSpecificStatesTabs122022/NSDUHsaeSouth2021.pdf  \n",
            "  inflating: //content//gdrive//My Drive//2021NSDUHsaeSpecificStatesTabs122022/NSDUHsaeSouthCarolina2021.pdf  \n",
            "  inflating: //content//gdrive//My Drive//2021NSDUHsaeSpecificStatesTabs122022/NSDUHsaeSouthDakota2021.pdf  \n",
            "  inflating: //content//gdrive//My Drive//2021NSDUHsaeSpecificStatesTabs122022/NSDUHsaeSpecificStates2021.htm  \n",
            "  inflating: //content//gdrive//My Drive//2021NSDUHsaeSpecificStatesTabs122022/NSDUHsaeSpecificStatesTOC2021.htm  \n",
            "  inflating: //content//gdrive//My Drive//2021NSDUHsaeSpecificStatesTabs122022/NSDUHsaeTennessee2021.pdf  \n",
            "  inflating: //content//gdrive//My Drive//2021NSDUHsaeSpecificStatesTabs122022/NSDUHsaeTexas2021.pdf  \n",
            "  inflating: //content//gdrive//My Drive//2021NSDUHsaeSpecificStatesTabs122022/NSDUHsaeUtah2021.pdf  \n",
            "  inflating: //content//gdrive//My Drive//2021NSDUHsaeSpecificStatesTabs122022/NSDUHsaeVermont2021.pdf  \n",
            "  inflating: //content//gdrive//My Drive//2021NSDUHsaeSpecificStatesTabs122022/NSDUHsaeVirginia2021.pdf  \n",
            "  inflating: //content//gdrive//My Drive//2021NSDUHsaeSpecificStatesTabs122022/NSDUHsaeWashington2021.pdf  \n",
            "  inflating: //content//gdrive//My Drive//2021NSDUHsaeSpecificStatesTabs122022/NSDUHsaeWest2021.pdf  \n",
            "  inflating: //content//gdrive//My Drive//2021NSDUHsaeSpecificStatesTabs122022/NSDUHsaeWestVirginia2021.pdf  \n",
            "  inflating: //content//gdrive//My Drive//2021NSDUHsaeSpecificStatesTabs122022/NSDUHsaeWisconsin2021.pdf  \n",
            "  inflating: //content//gdrive//My Drive//2021NSDUHsaeSpecificStatesTabs122022/NSDUHsaeWyoming2021.pdf  \n"
          ]
        }
      ]
    },
    {
      "cell_type": "markdown",
      "source": [
        "We iterate through all PDF files present in the new directory and extract the tables present in the first two pages using `tabula.read_pdf()`\n",
        "\n",
        "We then concatenate the 2 extracted tables into a single dataframe and add a new column `states` to the dataframe.\n",
        "\n",
        "Finally, we convert the dataframe into csv and store it in the `tables` folder in google drive"
      ],
      "metadata": {
        "id": "25Xe8ePwCTVA"
      }
    },
    {
      "cell_type": "code",
      "source": [
        "ext = ('.pdf','.PDF')\n",
        "final_table = pd.DataFrame()\n",
        "for files in os.listdir(dir):\n",
        "    if files.endswith(ext):\n",
        "        print(files)\n",
        "        tables = tabula.read_pdf(dir + \"//\" + files,pages=[1,2]) #address of pdf file\n",
        "        filename = files.replace(\"NSDUHsae\",\"\").replace(\".pdf\",\"\").replace(\"2021\",\"\")\n",
        "        df1 = pd.DataFrame(tables[0])\n",
        "        df2 = pd.DataFrame(tables[1])\n",
        "        final_table = pd.concat([df1,df2])\n",
        "        final_table['states'] = filename\n",
        "        #print(final_table)\n",
        "        final_table.to_csv(os.path.join(dir + \"//\" + folder_name, filename+\".csv\"), index=False)\n",
        "        print(filename)\n",
        "    else:\n",
        "        print(\"Else: \", files)\n",
        "#final_table.to_csv(os.path.join(folder_name, \"FinalTable.csv\"), index=False)"
      ],
      "metadata": {
        "id": "XqxoTTrxFVMq",
        "colab": {
          "base_uri": "https://localhost:8080/"
        },
        "outputId": "3c847c3d-1cf6-4b99-ba9a-1087c4f562e9"
      },
      "execution_count": 35,
      "outputs": [
        {
          "output_type": "stream",
          "name": "stdout",
          "text": [
            "Else:  tables\n",
            "Else:  images\n",
            "NSDUHsaeAlabama2021.pdf\n",
            "Alabama\n",
            "NSDUHsaeAlaska2021.pdf\n",
            "Alaska\n",
            "NSDUHsaeArizona2021.pdf\n",
            "Arizona\n",
            "NSDUHsaeArkansas2021.pdf\n",
            "Arkansas\n",
            "NSDUHsaeCalifornia2021.pdf\n",
            "California\n",
            "NSDUHsaeColorado2021.pdf\n",
            "Colorado\n",
            "NSDUHsaeConnecticut2021.pdf\n",
            "Connecticut\n",
            "NSDUHsaeDelaware2021.pdf\n",
            "Delaware\n",
            "NSDUHsaeDistrictOfCol2021.pdf\n",
            "DistrictOfCol\n",
            "NSDUHsaeFlorida2021.pdf\n",
            "Florida\n",
            "NSDUHsaeGeorgia2021.pdf\n",
            "Georgia\n",
            "NSDUHsaeHawaii2021.pdf\n",
            "Hawaii\n",
            "NSDUHsaeIdaho2021.pdf\n",
            "Idaho\n",
            "NSDUHsaeIllinois2021.pdf\n",
            "Illinois\n",
            "NSDUHsaeIndiana2021.pdf\n",
            "Indiana\n",
            "NSDUHsaeIowa2021.pdf\n",
            "Iowa\n",
            "NSDUHsaeKansas2021.pdf\n",
            "Kansas\n",
            "NSDUHsaeKentucky2021.pdf\n",
            "Kentucky\n",
            "NSDUHsaeLouisiana2021.pdf\n",
            "Louisiana\n",
            "NSDUHsaeMaine2021.pdf\n",
            "Maine\n",
            "NSDUHsaeMaryland2021.pdf\n",
            "Maryland\n",
            "NSDUHsaeMassachusetts2021.pdf\n",
            "Massachusetts\n",
            "NSDUHsaeMichigan2021.pdf\n",
            "Michigan\n",
            "NSDUHsaeMidwest2021.pdf\n",
            "Midwest\n",
            "NSDUHsaeMinnesota2021.pdf\n",
            "Minnesota\n",
            "NSDUHsaeMississippi2021.pdf\n",
            "Mississippi\n",
            "NSDUHsaeMissouri2021.pdf\n",
            "Missouri\n",
            "NSDUHsaeMontana2021.pdf\n",
            "Montana\n",
            "NSDUHsaeNational2021.pdf\n",
            "National\n",
            "NSDUHsaeNebraska2021.pdf\n",
            "Nebraska\n",
            "NSDUHsaeNevada2021.pdf\n",
            "Nevada\n",
            "NSDUHsaeNewHampshire2021.pdf\n",
            "NewHampshire\n",
            "NSDUHsaeNewJersey2021.pdf\n",
            "NewJersey\n",
            "NSDUHsaeNewMexico2021.pdf\n",
            "NewMexico\n",
            "NSDUHsaeNewYork2021.pdf\n",
            "NewYork\n",
            "NSDUHsaeNorthCarolina2021.pdf\n",
            "NorthCarolina\n",
            "NSDUHsaeNorthDakota2021.pdf\n",
            "NorthDakota\n",
            "NSDUHsaeNortheast2021.pdf\n",
            "Northeast\n",
            "NSDUHsaeOhio2021.pdf\n",
            "Ohio\n",
            "NSDUHsaeOklahoma2021.pdf\n",
            "Oklahoma\n",
            "NSDUHsaeOregon2021.pdf\n",
            "Oregon\n",
            "NSDUHsaePennsylvania2021.pdf\n",
            "Pennsylvania\n",
            "NSDUHsaeRhodeIsland2021.pdf\n",
            "RhodeIsland\n",
            "NSDUHsaeSouth2021.pdf\n",
            "South\n",
            "NSDUHsaeSouthCarolina2021.pdf\n",
            "SouthCarolina\n",
            "NSDUHsaeSouthDakota2021.pdf\n",
            "SouthDakota\n",
            "Else:  NSDUHsaeSpecificStates2021.htm\n",
            "Else:  NSDUHsaeSpecificStatesTOC2021.htm\n",
            "NSDUHsaeTennessee2021.pdf\n",
            "Tennessee\n",
            "NSDUHsaeTexas2021.pdf\n",
            "Texas\n",
            "NSDUHsaeUtah2021.pdf\n",
            "Utah\n",
            "NSDUHsaeVermont2021.pdf\n",
            "Vermont\n",
            "NSDUHsaeVirginia2021.pdf\n",
            "Virginia\n",
            "NSDUHsaeWashington2021.pdf\n",
            "Washington\n",
            "NSDUHsaeWest2021.pdf\n",
            "West\n",
            "NSDUHsaeWestVirginia2021.pdf\n",
            "WestVirginia\n",
            "NSDUHsaeWisconsin2021.pdf\n",
            "Wisconsin\n",
            "NSDUHsaeWyoming2021.pdf\n",
            "Wyoming\n"
          ]
        }
      ]
    },
    {
      "cell_type": "markdown",
      "source": [
        "Output shows all the CSVs extracted and stored state wise in the tables folder"
      ],
      "metadata": {
        "id": "Rtl2qIVbDh2e"
      }
    },
    {
      "cell_type": "code",
      "source": [
        "!ls \"//content//gdrive//My Drive//2021NSDUHsaeSpecificStatesTabs122022/tables\""
      ],
      "metadata": {
        "colab": {
          "base_uri": "https://localhost:8080/"
        },
        "id": "lRxOXHEnowiL",
        "outputId": "7ba9cee1-79db-449e-d286-15c1e6c21e4a"
      },
      "execution_count": 36,
      "outputs": [
        {
          "output_type": "stream",
          "name": "stdout",
          "text": [
            "Alabama.csv\t   Indiana.csv\t      National.csv\t RhodeIsland.csv\n",
            "Alaska.csv\t   Iowa.csv\t      Nebraska.csv\t SouthCarolina.csv\n",
            "Arizona.csv\t   Kansas.csv\t      Nevada.csv\t South.csv\n",
            "Arkansas.csv\t   Kentucky.csv       NewHampshire.csv\t SouthDakota.csv\n",
            "California.csv\t   Louisiana.csv      NewJersey.csv\t Tennessee.csv\n",
            "Colorado.csv\t   Maine.csv\t      NewMexico.csv\t Texas.csv\n",
            "Connecticut.csv    Maryland.csv       NewYork.csv\t Utah.csv\n",
            "Delaware.csv\t   Massachusetts.csv  NorthCarolina.csv  Vermont.csv\n",
            "DistrictOfCol.csv  Michigan.csv       NorthDakota.csv\t Virginia.csv\n",
            "Florida.csv\t   Midwest.csv\t      Northeast.csv\t Washington.csv\n",
            "Georgia.csv\t   Minnesota.csv      Ohio.csv\t\t West.csv\n",
            "Hawaii.csv\t   Mississippi.csv    Oklahoma.csv\t WestVirginia.csv\n",
            "Idaho.csv\t   Missouri.csv       Oregon.csv\t Wisconsin.csv\n",
            "Illinois.csv\t   Montana.csv\t      Pennsylvania.csv\t Wyoming.csv\n"
          ]
        }
      ]
    },
    {
      "cell_type": "markdown",
      "source": [
        "All the CSVs are concatenated into a single dataframe."
      ],
      "metadata": {
        "id": "qOvsea8YDg2J"
      }
    },
    {
      "cell_type": "code",
      "source": [
        "final_dataset = pd.DataFrame()\n",
        "csv_path = dir + \"//\" + folder_name\n",
        "for tables in os.listdir(csv_path):\n",
        "  df3 = pd.read_csv(csv_path + \"//\" + tables)\n",
        "  final_dataset = pd.concat([final_dataset,df3])\n",
        "final_dataset.to_csv(os.path.join(dir + \"//\" + folder_name, \"final.csv\"), index=False)"
      ],
      "metadata": {
        "id": "0p6W5gMco9RR"
      },
      "execution_count": 37,
      "outputs": []
    },
    {
      "cell_type": "code",
      "source": [
        "print(final_dataset.head())"
      ],
      "metadata": {
        "colab": {
          "base_uri": "https://localhost:8080/"
        },
        "id": "Eve4vIv732fx",
        "outputId": "95a9b691-363f-4173-a74e-54561411c1b5"
      },
      "execution_count": 38,
      "outputs": [
        {
          "output_type": "stream",
          "name": "stdout",
          "text": [
            "                                             Measure    12+ 12-17 18-25  26+  \\\n",
            "0                                      ILLICIT DRUGS    NaN   NaN   NaN  NaN   \n",
            "1              Illicit Drug Use in the Past Month1,2    403    17    98  288   \n",
            "2                     Marijuana Use in the Past Year    537    30   152  355   \n",
            "3                    Marijuana Use in the Past Month    315    16    90  209   \n",
            "4  Perceptions of Great Risk from Smoking Marijua...  1,128   105    83  940   \n",
            "\n",
            "     18+   states  \n",
            "0    NaN  Alabama  \n",
            "1    386  Alabama  \n",
            "2    507  Alabama  \n",
            "3    299  Alabama  \n",
            "4  1,023  Alabama  \n"
          ]
        }
      ]
    }
  ]
}