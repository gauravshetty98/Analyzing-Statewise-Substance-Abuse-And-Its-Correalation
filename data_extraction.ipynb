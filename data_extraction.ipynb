{
  "nbformat": 4,
  "nbformat_minor": 0,
  "metadata": {
    "colab": {
      "provenance": [],
      "include_colab_link": true
    },
    "kernelspec": {
      "name": "python3",
      "display_name": "Python 3"
    },
    "language_info": {
      "name": "python"
    }
  },
  "cells": [
    {
      "cell_type": "markdown",
      "metadata": {
        "id": "view-in-github",
        "colab_type": "text"
      },
      "source": [
        "<a href=\"https://colab.research.google.com/github/gauravshetty98/Gaurav-GIS-Repo/blob/main/data_extraction.ipynb\" target=\"_parent\"><img src=\"https://colab.research.google.com/assets/colab-badge.svg\" alt=\"Open In Colab\"/></a>"
      ]
    },
    {
      "cell_type": "markdown",
      "source": [
        "### Data Extraction\n",
        "\n",
        "This notebook represents the steps to download the zip file from GitHub repository and extract the data from its content and create a single dataset.\n",
        "\n",
        "Dataset :  https://www.samhsa.gov/data/report/2021-nsduh-state-specific-tables\n",
        "\n",
        "The dataset contains state-wise PDFs with drug abuse and mental health information of the respective state.\n",
        "\n",
        "We start of by installing `tabula` library. This library is used to extract the tables from the PDFs.\n"
      ],
      "metadata": {
        "id": "N0uDqhGy89XW"
      }
    },
    {
      "cell_type": "code",
      "source": [
        "!pip install -q tabula-py"
      ],
      "metadata": {
        "id": "DtzQaJNsnbfJ",
        "outputId": "e86e96dd-6085-4ff3-9217-a22f180d2976",
        "colab": {
          "base_uri": "https://localhost:8080/"
        }
      },
      "execution_count": 1,
      "outputs": [
        {
          "output_type": "stream",
          "name": "stdout",
          "text": [
            "\u001b[2K     \u001b[90m━━━━━━━━━━━━━━━━━━━━━━━━━━━━━━━━━━━━━━━━\u001b[0m \u001b[32m12.0/12.0 MB\u001b[0m \u001b[31m22.6 MB/s\u001b[0m eta \u001b[36m0:00:00\u001b[0m\n",
            "\u001b[2K     \u001b[90m━━━━━━━━━━━━━━━━━━━━━━━━━━━━━━━━━━━━━━\u001b[0m \u001b[32m465.3/465.3 kB\u001b[0m \u001b[31m33.7 MB/s\u001b[0m eta \u001b[36m0:00:00\u001b[0m\n",
            "\u001b[?25h"
          ]
        }
      ]
    },
    {
      "cell_type": "markdown",
      "source": [
        "Once the library is installed, we move on to import all the required libraries. We make use of google drive to store the PDFs present in the dataset.\n",
        "\n",
        "**This notebook requires your google drive mounting to store dataset files. You can delete those files after running the notebook**\n",
        "\n"
      ],
      "metadata": {
        "id": "AdRWSGKy-V4u"
      }
    },
    {
      "cell_type": "code",
      "execution_count": 2,
      "metadata": {
        "colab": {
          "base_uri": "https://localhost:8080/"
        },
        "id": "inMGLPGG_0pB",
        "outputId": "3d65b5a8-8e49-475d-9e14-9a4d30c58e8a"
      },
      "outputs": [
        {
          "output_type": "stream",
          "name": "stdout",
          "text": [
            "Mounted at /content//gdrive\n"
          ]
        }
      ],
      "source": [
        "import os\n",
        "from os import path\n",
        "import tabula\n",
        "import pandas as pd\n",
        "import numpy as np\n",
        "\n",
        "from google.colab import drive\n",
        "\n",
        "drive.mount(\"/content//gdrive\")"
      ]
    },
    {
      "cell_type": "markdown",
      "source": [
        "\n",
        "`2021NSDUHsaeSpecificStatesTabs122022` is the name of the new folder. This folder will contain all the state wise PDFs.\n",
        "A `tables` folder is also present, which will contain all the tables extracted from each state PDF.\n",
        "\n"
      ],
      "metadata": {
        "id": "T6wxZ86J_Se8"
      }
    },
    {
      "cell_type": "code",
      "source": [
        "dir = \"//content//gdrive//My Drive//2021NSDUHsaeSpecificStatesTabs122022\"\n",
        "folder_name = \"tables\""
      ],
      "metadata": {
        "id": "MPr05FfuBYP6"
      },
      "execution_count": 3,
      "outputs": []
    },
    {
      "cell_type": "markdown",
      "source": [
        "Creating a new folder if it is not present"
      ],
      "metadata": {
        "id": "uQO1CHP6AuAw"
      }
    },
    {
      "cell_type": "code",
      "source": [
        "if os.path.exists(dir) == False:\n",
        "    os.mkdir(dir)\n",
        "    print(\"done\")\n",
        "if os.path.exists(dir+\"//\"+folder_name) == False:\n",
        "    os.mkdir(dir+\"//\"+folder_name)\n",
        "    print(\"done\")\n",
        "\n",
        "!ls \"//content//gdrive//My Drive//2021NSDUHsaeSpecificStatesTabs122022\""
      ],
      "metadata": {
        "id": "5gcfXPQ0C9bo",
        "outputId": "6d220283-c6d8-4fe4-bf8d-b839533e11c0",
        "colab": {
          "base_uri": "https://localhost:8080/"
        }
      },
      "execution_count": 4,
      "outputs": [
        {
          "output_type": "stream",
          "name": "stdout",
          "text": [
            "done\n",
            "done\n",
            "tables\n"
          ]
        }
      ]
    },
    {
      "cell_type": "markdown",
      "source": [
        "Downloading the zip file from GitHub and extracting it into the drive folder we created"
      ],
      "metadata": {
        "id": "eVbW17dQBBs2"
      }
    },
    {
      "cell_type": "code",
      "source": [
        "!wget \"https://github.com/gauravshetty98/Gaurav-GIS-Repo/raw/main/2021NSDUHsaeSpecificStatesTabs122022.zip\"\n",
        "!unzip /content/2021NSDUHsaeSpecificStatesTabs122022.zip -d \"//content//gdrive//My Drive//2021NSDUHsaeSpecificStatesTabs122022\""
      ],
      "metadata": {
        "colab": {
          "base_uri": "https://localhost:8080/"
        },
        "id": "wvVJlMZ65wZt",
        "outputId": "3800c8b1-0bda-4d28-f1fe-ee20765bfe81"
      },
      "execution_count": 5,
      "outputs": [
        {
          "output_type": "stream",
          "name": "stdout",
          "text": [
            "--2023-09-13 15:46:15--  https://github.com/gauravshetty98/Gaurav-GIS-Repo/raw/main/2021NSDUHsaeSpecificStatesTabs122022.zip\n",
            "Resolving github.com (github.com)... 140.82.114.4\n",
            "Connecting to github.com (github.com)|140.82.114.4|:443... connected.\n",
            "HTTP request sent, awaiting response... 302 Found\n",
            "Location: https://raw.githubusercontent.com/gauravshetty98/Gaurav-GIS-Repo/main/2021NSDUHsaeSpecificStatesTabs122022.zip [following]\n",
            "--2023-09-13 15:46:15--  https://raw.githubusercontent.com/gauravshetty98/Gaurav-GIS-Repo/main/2021NSDUHsaeSpecificStatesTabs122022.zip\n",
            "Resolving raw.githubusercontent.com (raw.githubusercontent.com)... 185.199.108.133, 185.199.109.133, 185.199.110.133, ...\n",
            "Connecting to raw.githubusercontent.com (raw.githubusercontent.com)|185.199.108.133|:443... connected.\n",
            "HTTP request sent, awaiting response... 200 OK\n",
            "Length: 13301032 (13M) [application/zip]\n",
            "Saving to: ‘2021NSDUHsaeSpecificStatesTabs122022.zip’\n",
            "\n",
            "2021NSDUHsaeSpecifi 100%[===================>]  12.68M  --.-KB/s    in 0.1s    \n",
            "\n",
            "2023-09-13 15:46:15 (102 MB/s) - ‘2021NSDUHsaeSpecificStatesTabs122022.zip’ saved [13301032/13301032]\n",
            "\n",
            "Archive:  /content/2021NSDUHsaeSpecificStatesTabs122022.zip\n",
            "   creating: //content//gdrive//My Drive//2021NSDUHsaeSpecificStatesTabs122022/images/\n",
            "  inflating: //content//gdrive//My Drive//2021NSDUHsaeSpecificStatesTabs122022/images/scaltoc.gif  \n",
            "  inflating: //content//gdrive//My Drive//2021NSDUHsaeSpecificStatesTabs122022/images/scaltop.gif  \n",
            "  inflating: //content//gdrive//My Drive//2021NSDUHsaeSpecificStatesTabs122022/NSDUHsaeAlabama2021.pdf  \n",
            "  inflating: //content//gdrive//My Drive//2021NSDUHsaeSpecificStatesTabs122022/NSDUHsaeAlaska2021.pdf  \n",
            "  inflating: //content//gdrive//My Drive//2021NSDUHsaeSpecificStatesTabs122022/NSDUHsaeArizona2021.pdf  \n",
            "  inflating: //content//gdrive//My Drive//2021NSDUHsaeSpecificStatesTabs122022/NSDUHsaeArkansas2021.pdf  \n",
            "  inflating: //content//gdrive//My Drive//2021NSDUHsaeSpecificStatesTabs122022/NSDUHsaeCalifornia2021.pdf  \n",
            "  inflating: //content//gdrive//My Drive//2021NSDUHsaeSpecificStatesTabs122022/NSDUHsaeColorado2021.pdf  \n",
            "  inflating: //content//gdrive//My Drive//2021NSDUHsaeSpecificStatesTabs122022/NSDUHsaeConnecticut2021.pdf  \n",
            "  inflating: //content//gdrive//My Drive//2021NSDUHsaeSpecificStatesTabs122022/NSDUHsaeDelaware2021.pdf  \n",
            "  inflating: //content//gdrive//My Drive//2021NSDUHsaeSpecificStatesTabs122022/NSDUHsaeDistrictOfCol2021.pdf  \n",
            "  inflating: //content//gdrive//My Drive//2021NSDUHsaeSpecificStatesTabs122022/NSDUHsaeFlorida2021.pdf  \n",
            "  inflating: //content//gdrive//My Drive//2021NSDUHsaeSpecificStatesTabs122022/NSDUHsaeGeorgia2021.pdf  \n",
            "  inflating: //content//gdrive//My Drive//2021NSDUHsaeSpecificStatesTabs122022/NSDUHsaeHawaii2021.pdf  \n",
            "  inflating: //content//gdrive//My Drive//2021NSDUHsaeSpecificStatesTabs122022/NSDUHsaeIdaho2021.pdf  \n",
            "  inflating: //content//gdrive//My Drive//2021NSDUHsaeSpecificStatesTabs122022/NSDUHsaeIllinois2021.pdf  \n",
            "  inflating: //content//gdrive//My Drive//2021NSDUHsaeSpecificStatesTabs122022/NSDUHsaeIndiana2021.pdf  \n",
            "  inflating: //content//gdrive//My Drive//2021NSDUHsaeSpecificStatesTabs122022/NSDUHsaeIowa2021.pdf  \n",
            "  inflating: //content//gdrive//My Drive//2021NSDUHsaeSpecificStatesTabs122022/NSDUHsaeKansas2021.pdf  \n",
            "  inflating: //content//gdrive//My Drive//2021NSDUHsaeSpecificStatesTabs122022/NSDUHsaeKentucky2021.pdf  \n",
            "  inflating: //content//gdrive//My Drive//2021NSDUHsaeSpecificStatesTabs122022/NSDUHsaeLouisiana2021.pdf  \n",
            "  inflating: //content//gdrive//My Drive//2021NSDUHsaeSpecificStatesTabs122022/NSDUHsaeMaine2021.pdf  \n",
            "  inflating: //content//gdrive//My Drive//2021NSDUHsaeSpecificStatesTabs122022/NSDUHsaeMaryland2021.pdf  \n",
            "  inflating: //content//gdrive//My Drive//2021NSDUHsaeSpecificStatesTabs122022/NSDUHsaeMassachusetts2021.pdf  \n",
            "  inflating: //content//gdrive//My Drive//2021NSDUHsaeSpecificStatesTabs122022/NSDUHsaeMichigan2021.pdf  \n",
            "  inflating: //content//gdrive//My Drive//2021NSDUHsaeSpecificStatesTabs122022/NSDUHsaeMidwest2021.pdf  \n",
            "  inflating: //content//gdrive//My Drive//2021NSDUHsaeSpecificStatesTabs122022/NSDUHsaeMinnesota2021.pdf  \n",
            "  inflating: //content//gdrive//My Drive//2021NSDUHsaeSpecificStatesTabs122022/NSDUHsaeMississippi2021.pdf  \n",
            "  inflating: //content//gdrive//My Drive//2021NSDUHsaeSpecificStatesTabs122022/NSDUHsaeMissouri2021.pdf  \n",
            "  inflating: //content//gdrive//My Drive//2021NSDUHsaeSpecificStatesTabs122022/NSDUHsaeMontana2021.pdf  \n",
            "  inflating: //content//gdrive//My Drive//2021NSDUHsaeSpecificStatesTabs122022/NSDUHsaeNational2021.pdf  \n",
            "  inflating: //content//gdrive//My Drive//2021NSDUHsaeSpecificStatesTabs122022/NSDUHsaeNebraska2021.pdf  \n",
            "  inflating: //content//gdrive//My Drive//2021NSDUHsaeSpecificStatesTabs122022/NSDUHsaeNevada2021.pdf  \n",
            "  inflating: //content//gdrive//My Drive//2021NSDUHsaeSpecificStatesTabs122022/NSDUHsaeNewHampshire2021.pdf  \n",
            "  inflating: //content//gdrive//My Drive//2021NSDUHsaeSpecificStatesTabs122022/NSDUHsaeNewJersey2021.pdf  \n",
            "  inflating: //content//gdrive//My Drive//2021NSDUHsaeSpecificStatesTabs122022/NSDUHsaeNewMexico2021.pdf  \n",
            "  inflating: //content//gdrive//My Drive//2021NSDUHsaeSpecificStatesTabs122022/NSDUHsaeNewYork2021.pdf  \n",
            "  inflating: //content//gdrive//My Drive//2021NSDUHsaeSpecificStatesTabs122022/NSDUHsaeNorthCarolina2021.pdf  \n",
            "  inflating: //content//gdrive//My Drive//2021NSDUHsaeSpecificStatesTabs122022/NSDUHsaeNorthDakota2021.pdf  \n",
            "  inflating: //content//gdrive//My Drive//2021NSDUHsaeSpecificStatesTabs122022/NSDUHsaeNortheast2021.pdf  \n",
            "  inflating: //content//gdrive//My Drive//2021NSDUHsaeSpecificStatesTabs122022/NSDUHsaeOhio2021.pdf  \n",
            "  inflating: //content//gdrive//My Drive//2021NSDUHsaeSpecificStatesTabs122022/NSDUHsaeOklahoma2021.pdf  \n",
            "  inflating: //content//gdrive//My Drive//2021NSDUHsaeSpecificStatesTabs122022/NSDUHsaeOregon2021.pdf  \n",
            "  inflating: //content//gdrive//My Drive//2021NSDUHsaeSpecificStatesTabs122022/NSDUHsaePennsylvania2021.pdf  \n",
            "  inflating: //content//gdrive//My Drive//2021NSDUHsaeSpecificStatesTabs122022/NSDUHsaeRhodeIsland2021.pdf  \n",
            "  inflating: //content//gdrive//My Drive//2021NSDUHsaeSpecificStatesTabs122022/NSDUHsaeSouth2021.pdf  \n",
            "  inflating: //content//gdrive//My Drive//2021NSDUHsaeSpecificStatesTabs122022/NSDUHsaeSouthCarolina2021.pdf  \n",
            "  inflating: //content//gdrive//My Drive//2021NSDUHsaeSpecificStatesTabs122022/NSDUHsaeSouthDakota2021.pdf  \n",
            "  inflating: //content//gdrive//My Drive//2021NSDUHsaeSpecificStatesTabs122022/NSDUHsaeSpecificStates2021.htm  \n",
            "  inflating: //content//gdrive//My Drive//2021NSDUHsaeSpecificStatesTabs122022/NSDUHsaeSpecificStatesTOC2021.htm  \n",
            "  inflating: //content//gdrive//My Drive//2021NSDUHsaeSpecificStatesTabs122022/NSDUHsaeTennessee2021.pdf  \n",
            "  inflating: //content//gdrive//My Drive//2021NSDUHsaeSpecificStatesTabs122022/NSDUHsaeTexas2021.pdf  \n",
            "  inflating: //content//gdrive//My Drive//2021NSDUHsaeSpecificStatesTabs122022/NSDUHsaeUtah2021.pdf  \n",
            "  inflating: //content//gdrive//My Drive//2021NSDUHsaeSpecificStatesTabs122022/NSDUHsaeVermont2021.pdf  \n",
            "  inflating: //content//gdrive//My Drive//2021NSDUHsaeSpecificStatesTabs122022/NSDUHsaeVirginia2021.pdf  \n",
            "  inflating: //content//gdrive//My Drive//2021NSDUHsaeSpecificStatesTabs122022/NSDUHsaeWashington2021.pdf  \n",
            "  inflating: //content//gdrive//My Drive//2021NSDUHsaeSpecificStatesTabs122022/NSDUHsaeWest2021.pdf  \n",
            "  inflating: //content//gdrive//My Drive//2021NSDUHsaeSpecificStatesTabs122022/NSDUHsaeWestVirginia2021.pdf  \n",
            "  inflating: //content//gdrive//My Drive//2021NSDUHsaeSpecificStatesTabs122022/NSDUHsaeWisconsin2021.pdf  \n",
            "  inflating: //content//gdrive//My Drive//2021NSDUHsaeSpecificStatesTabs122022/NSDUHsaeWyoming2021.pdf  \n"
          ]
        }
      ]
    },
    {
      "cell_type": "markdown",
      "source": [
        "We iterate through all PDF files present in the new directory and extract the tables present in the first two pages using `tabula.read_pdf()`\n",
        "\n",
        "We then concatenate the 2 extracted tables into a single dataframe and add a new column `states` to the dataframe.\n",
        "\n",
        "Finally, we convert the dataframe into csv and store it in the `tables` folder in google drive"
      ],
      "metadata": {
        "id": "25Xe8ePwCTVA"
      }
    },
    {
      "cell_type": "code",
      "source": [
        "ext = ('.pdf','.PDF')\n",
        "final_table = pd.DataFrame()\n",
        "for files in os.listdir(dir):\n",
        "    if files.endswith(ext):\n",
        "        print(files)\n",
        "        tables = tabula.read_pdf(dir + \"//\" + files,pages=[1,2]) #address of pdf file\n",
        "        filename = files.replace(\"NSDUHsae\",\"\").replace(\".pdf\",\"\").replace(\"2021\",\"\")\n",
        "        df1 = pd.DataFrame(tables[0])\n",
        "        df2 = pd.DataFrame(tables[1])\n",
        "        final_table = pd.concat([df1,df2])\n",
        "        final_table['states'] = filename\n",
        "        #print(final_table)\n",
        "        final_table.to_csv(os.path.join(dir + \"//\" + folder_name, filename+\".csv\"), index=False)\n",
        "        print(filename)\n",
        "    else:\n",
        "        print(\"Else: \", files)\n",
        "#final_table.to_csv(os.path.join(folder_name, \"FinalTable.csv\"), index=False)"
      ],
      "metadata": {
        "id": "XqxoTTrxFVMq",
        "colab": {
          "base_uri": "https://localhost:8080/"
        },
        "outputId": "f8ac691d-3bdb-496a-f24d-0d2877fa76b8"
      },
      "execution_count": 6,
      "outputs": [
        {
          "output_type": "stream",
          "name": "stdout",
          "text": [
            "Else:  tables\n",
            "Else:  images\n",
            "NSDUHsaeAlabama2021.pdf\n",
            "Alabama\n",
            "NSDUHsaeAlaska2021.pdf\n",
            "Alaska\n",
            "NSDUHsaeArizona2021.pdf\n",
            "Arizona\n",
            "NSDUHsaeArkansas2021.pdf\n",
            "Arkansas\n",
            "NSDUHsaeCalifornia2021.pdf\n",
            "California\n",
            "NSDUHsaeColorado2021.pdf\n",
            "Colorado\n",
            "NSDUHsaeConnecticut2021.pdf\n",
            "Connecticut\n",
            "NSDUHsaeDelaware2021.pdf\n",
            "Delaware\n",
            "NSDUHsaeDistrictOfCol2021.pdf\n",
            "DistrictOfCol\n",
            "NSDUHsaeFlorida2021.pdf\n",
            "Florida\n",
            "NSDUHsaeGeorgia2021.pdf\n",
            "Georgia\n",
            "NSDUHsaeHawaii2021.pdf\n",
            "Hawaii\n",
            "NSDUHsaeIdaho2021.pdf\n",
            "Idaho\n",
            "NSDUHsaeIllinois2021.pdf\n",
            "Illinois\n",
            "NSDUHsaeIndiana2021.pdf\n",
            "Indiana\n",
            "NSDUHsaeIowa2021.pdf\n",
            "Iowa\n",
            "NSDUHsaeKansas2021.pdf\n",
            "Kansas\n",
            "NSDUHsaeKentucky2021.pdf\n",
            "Kentucky\n",
            "NSDUHsaeLouisiana2021.pdf\n",
            "Louisiana\n",
            "NSDUHsaeMaine2021.pdf\n",
            "Maine\n",
            "NSDUHsaeMaryland2021.pdf\n",
            "Maryland\n",
            "NSDUHsaeMassachusetts2021.pdf\n",
            "Massachusetts\n",
            "NSDUHsaeMichigan2021.pdf\n",
            "Michigan\n",
            "NSDUHsaeMidwest2021.pdf\n",
            "Midwest\n",
            "NSDUHsaeMinnesota2021.pdf\n",
            "Minnesota\n",
            "NSDUHsaeMississippi2021.pdf\n",
            "Mississippi\n",
            "NSDUHsaeMissouri2021.pdf\n",
            "Missouri\n",
            "NSDUHsaeMontana2021.pdf\n",
            "Montana\n",
            "NSDUHsaeNational2021.pdf\n",
            "National\n",
            "NSDUHsaeNebraska2021.pdf\n",
            "Nebraska\n",
            "NSDUHsaeNevada2021.pdf\n",
            "Nevada\n",
            "NSDUHsaeNewHampshire2021.pdf\n",
            "NewHampshire\n",
            "NSDUHsaeNewJersey2021.pdf\n",
            "NewJersey\n",
            "NSDUHsaeNewMexico2021.pdf\n",
            "NewMexico\n",
            "NSDUHsaeNewYork2021.pdf\n",
            "NewYork\n",
            "NSDUHsaeNorthCarolina2021.pdf\n",
            "NorthCarolina\n",
            "NSDUHsaeNorthDakota2021.pdf\n",
            "NorthDakota\n",
            "NSDUHsaeNortheast2021.pdf\n",
            "Northeast\n",
            "NSDUHsaeOhio2021.pdf\n",
            "Ohio\n",
            "NSDUHsaeOklahoma2021.pdf\n",
            "Oklahoma\n",
            "NSDUHsaeOregon2021.pdf\n",
            "Oregon\n",
            "NSDUHsaePennsylvania2021.pdf\n",
            "Pennsylvania\n",
            "NSDUHsaeRhodeIsland2021.pdf\n",
            "RhodeIsland\n",
            "NSDUHsaeSouth2021.pdf\n",
            "South\n",
            "NSDUHsaeSouthCarolina2021.pdf\n",
            "SouthCarolina\n",
            "NSDUHsaeSouthDakota2021.pdf\n",
            "SouthDakota\n",
            "Else:  NSDUHsaeSpecificStates2021.htm\n",
            "Else:  NSDUHsaeSpecificStatesTOC2021.htm\n",
            "NSDUHsaeTennessee2021.pdf\n",
            "Tennessee\n",
            "NSDUHsaeTexas2021.pdf\n",
            "Texas\n",
            "NSDUHsaeUtah2021.pdf\n",
            "Utah\n",
            "NSDUHsaeVermont2021.pdf\n",
            "Vermont\n",
            "NSDUHsaeVirginia2021.pdf\n",
            "Virginia\n",
            "NSDUHsaeWashington2021.pdf\n",
            "Washington\n",
            "NSDUHsaeWest2021.pdf\n",
            "West\n",
            "NSDUHsaeWestVirginia2021.pdf\n",
            "WestVirginia\n",
            "NSDUHsaeWisconsin2021.pdf\n",
            "Wisconsin\n",
            "NSDUHsaeWyoming2021.pdf\n",
            "Wyoming\n"
          ]
        }
      ]
    },
    {
      "cell_type": "markdown",
      "source": [
        "Output shows all the CSVs extracted and stored state wise in the tables folder"
      ],
      "metadata": {
        "id": "Rtl2qIVbDh2e"
      }
    },
    {
      "cell_type": "code",
      "source": [
        "!ls \"//content//gdrive//My Drive//2021NSDUHsaeSpecificStatesTabs122022/tables\""
      ],
      "metadata": {
        "colab": {
          "base_uri": "https://localhost:8080/"
        },
        "id": "lRxOXHEnowiL",
        "outputId": "f6117480-84d3-4287-dac7-ef5b30a118a6"
      },
      "execution_count": 7,
      "outputs": [
        {
          "output_type": "stream",
          "name": "stdout",
          "text": [
            "Alabama.csv\t   Indiana.csv\t      National.csv\t RhodeIsland.csv\n",
            "Alaska.csv\t   Iowa.csv\t      Nebraska.csv\t SouthCarolina.csv\n",
            "Arizona.csv\t   Kansas.csv\t      Nevada.csv\t South.csv\n",
            "Arkansas.csv\t   Kentucky.csv       NewHampshire.csv\t SouthDakota.csv\n",
            "California.csv\t   Louisiana.csv      NewJersey.csv\t Tennessee.csv\n",
            "Colorado.csv\t   Maine.csv\t      NewMexico.csv\t Texas.csv\n",
            "Connecticut.csv    Maryland.csv       NewYork.csv\t Utah.csv\n",
            "Delaware.csv\t   Massachusetts.csv  NorthCarolina.csv  Vermont.csv\n",
            "DistrictOfCol.csv  Michigan.csv       NorthDakota.csv\t Virginia.csv\n",
            "Florida.csv\t   Midwest.csv\t      Northeast.csv\t Washington.csv\n",
            "Georgia.csv\t   Minnesota.csv      Ohio.csv\t\t West.csv\n",
            "Hawaii.csv\t   Mississippi.csv    Oklahoma.csv\t WestVirginia.csv\n",
            "Idaho.csv\t   Missouri.csv       Oregon.csv\t Wisconsin.csv\n",
            "Illinois.csv\t   Montana.csv\t      Pennsylvania.csv\t Wyoming.csv\n"
          ]
        }
      ]
    },
    {
      "cell_type": "markdown",
      "source": [
        "All the CSVs are concatenated into a single dataframe."
      ],
      "metadata": {
        "id": "qOvsea8YDg2J"
      }
    },
    {
      "cell_type": "code",
      "source": [
        "final_dataset = pd.DataFrame()\n",
        "csv_path = dir + \"//\" + folder_name\n",
        "for tables in os.listdir(csv_path):\n",
        "  df3 = pd.read_csv(csv_path + \"//\" + tables)\n",
        "  final_dataset = pd.concat([final_dataset,df3])\n",
        "final_dataset.to_csv(os.path.join(dir + \"//\" + folder_name, \"state_dataset.csv\"), index=False)"
      ],
      "metadata": {
        "id": "0p6W5gMco9RR"
      },
      "execution_count": 8,
      "outputs": []
    },
    {
      "cell_type": "code",
      "source": [
        "print(final_dataset.head())"
      ],
      "metadata": {
        "colab": {
          "base_uri": "https://localhost:8080/"
        },
        "id": "Eve4vIv732fx",
        "outputId": "01c40b6b-5164-48af-90a5-101555094915"
      },
      "execution_count": 9,
      "outputs": [
        {
          "output_type": "stream",
          "name": "stdout",
          "text": [
            "                                             Measure    12+ 12-17 18-25  26+  \\\n",
            "0                                      ILLICIT DRUGS    NaN   NaN   NaN  NaN   \n",
            "1              Illicit Drug Use in the Past Month1,2    403    17    98  288   \n",
            "2                     Marijuana Use in the Past Year    537    30   152  355   \n",
            "3                    Marijuana Use in the Past Month    315    16    90  209   \n",
            "4  Perceptions of Great Risk from Smoking Marijua...  1,128   105    83  940   \n",
            "\n",
            "     18+   states  \n",
            "0    NaN  Alabama  \n",
            "1    386  Alabama  \n",
            "2    507  Alabama  \n",
            "3    299  Alabama  \n",
            "4  1,023  Alabama  \n"
          ]
        }
      ]
    },
    {
      "cell_type": "code",
      "source": [
        "final_dataset = final_dataset.fillna(0)\n",
        "print(final_dataset.head())"
      ],
      "metadata": {
        "id": "xJvBC2vcOhLq",
        "outputId": "54d5c8e7-49b8-4095-c04d-48d396f2e932",
        "colab": {
          "base_uri": "https://localhost:8080/"
        }
      },
      "execution_count": 10,
      "outputs": [
        {
          "output_type": "stream",
          "name": "stdout",
          "text": [
            "                                             Measure    12+ 12-17 18-25  26+  \\\n",
            "0                                      ILLICIT DRUGS      0     0     0    0   \n",
            "1              Illicit Drug Use in the Past Month1,2    403    17    98  288   \n",
            "2                     Marijuana Use in the Past Year    537    30   152  355   \n",
            "3                    Marijuana Use in the Past Month    315    16    90  209   \n",
            "4  Perceptions of Great Risk from Smoking Marijua...  1,128   105    83  940   \n",
            "\n",
            "     18+   states  \n",
            "0      0  Alabama  \n",
            "1    386  Alabama  \n",
            "2    507  Alabama  \n",
            "3    299  Alabama  \n",
            "4  1,023  Alabama  \n"
          ]
        }
      ]
    },
    {
      "cell_type": "code",
      "source": [
        "for i in range(1, final_dataset.shape[0]):\n",
        "  if list(final_dataset.iloc[i,1:6]) == list([0,0,0,0,0]):\n",
        "    final_dataset.iloc[i+1,0] = str(final_dataset.iloc[i,0]) + \" \" + str(final_dataset.iloc[i+1,0])\n",
        "    print(final_dataset.iloc[i,0], \"State: \", final_dataset.iloc[i,6])\n"
      ],
      "metadata": {
        "id": "Hl469ou2OxAo",
        "outputId": "9809e1c4-fcf0-4f33-ca7c-9366e513391d",
        "colab": {
          "base_uri": "https://localhost:8080/"
        }
      },
      "execution_count": 35,
      "outputs": [
        {
          "output_type": "stream",
          "name": "stdout",
          "text": [
            "First Use of Marijuana in the Past Year among Those at Risk for Initiation of Marijuana State:  Alabama\n",
            "ALCOHOL State:  Alabama\n",
            "Perceptions of Great Risk from Having Five or More Drinks of an Alcoholic State:  Alabama\n",
            "TOBACCO PRODUCTS State:  Alabama\n",
            "MENTAL HEALTH MEASURES IN THE PAST YEAR State:  Alabama\n",
            "SUBSTANCE USE DISORDER AND TREATMENT State:  Alabama\n",
            "ILLICIT DRUGS State:  Alaska\n",
            "First Use of Marijuana in the Past Year among Those at Risk for Initiation of Marijuana State:  Alaska\n",
            "ALCOHOL State:  Alaska\n",
            "Perceptions of Great Risk from Having Five or More Drinks of an Alcoholic State:  Alaska\n",
            "TOBACCO PRODUCTS State:  Alaska\n",
            "MENTAL HEALTH MEASURES IN THE PAST YEAR State:  Alaska\n",
            "SUBSTANCE USE DISORDER AND TREATMENT State:  Alaska\n",
            "ILLICIT DRUGS State:  Arizona\n",
            "First Use of Marijuana in the Past Year among Those at Risk for Initiation of Marijuana State:  Arizona\n",
            "ALCOHOL State:  Arizona\n",
            "Perceptions of Great Risk from Having Five or More Drinks of an Alcoholic State:  Arizona\n",
            "TOBACCO PRODUCTS State:  Arizona\n",
            "MENTAL HEALTH MEASURES IN THE PAST YEAR State:  Arizona\n",
            "SUBSTANCE USE DISORDER AND TREATMENT State:  Arizona\n",
            "ILLICIT DRUGS State:  Arkansas\n",
            "First Use of Marijuana in the Past Year among Those at Risk for Initiation of Marijuana State:  Arkansas\n",
            "ALCOHOL State:  Arkansas\n",
            "Perceptions of Great Risk from Having Five or More Drinks of an Alcoholic State:  Arkansas\n",
            "TOBACCO PRODUCTS State:  Arkansas\n",
            "MENTAL HEALTH MEASURES IN THE PAST YEAR State:  Arkansas\n",
            "SUBSTANCE USE DISORDER AND TREATMENT State:  Arkansas\n",
            "ILLICIT DRUGS State:  California\n",
            "First Use of Marijuana in the Past Year among Those at Risk for Initiation of Marijuana State:  California\n",
            "ALCOHOL State:  California\n",
            "Perceptions of Great Risk from Having Five or More Drinks of an Alcoholic State:  California\n",
            "TOBACCO PRODUCTS State:  California\n",
            "MENTAL HEALTH MEASURES IN THE PAST YEAR State:  California\n",
            "SUBSTANCE USE DISORDER AND TREATMENT State:  California\n",
            "ILLICIT DRUGS State:  Colorado\n",
            "First Use of Marijuana in the Past Year among Those at Risk for Initiation of Marijuana State:  Colorado\n",
            "ALCOHOL State:  Colorado\n",
            "Perceptions of Great Risk from Having Five or More Drinks of an Alcoholic State:  Colorado\n",
            "TOBACCO PRODUCTS State:  Colorado\n",
            "MENTAL HEALTH MEASURES IN THE PAST YEAR State:  Colorado\n",
            "SUBSTANCE USE DISORDER AND TREATMENT State:  Colorado\n",
            "ILLICIT DRUGS State:  Connecticut\n",
            "First Use of Marijuana in the Past Year among Those at Risk for Initiation of Marijuana State:  Connecticut\n",
            "ALCOHOL State:  Connecticut\n",
            "Perceptions of Great Risk from Having Five or More Drinks of an Alcoholic State:  Connecticut\n",
            "TOBACCO PRODUCTS State:  Connecticut\n",
            "MENTAL HEALTH MEASURES IN THE PAST YEAR State:  Connecticut\n",
            "SUBSTANCE USE DISORDER AND TREATMENT State:  Connecticut\n",
            "ILLICIT DRUGS State:  Delaware\n",
            "First Use of Marijuana in the Past Year among Those at Risk for Initiation of Marijuana State:  Delaware\n",
            "ALCOHOL State:  Delaware\n",
            "Perceptions of Great Risk from Having Five or More Drinks of an Alcoholic State:  Delaware\n",
            "TOBACCO PRODUCTS State:  Delaware\n",
            "MENTAL HEALTH MEASURES IN THE PAST YEAR State:  Delaware\n",
            "SUBSTANCE USE DISORDER AND TREATMENT State:  Delaware\n",
            "ILLICIT DRUGS State:  DistrictOfCol\n",
            "First Use of Marijuana in the Past Year among Those at Risk for Initiation of Marijuana State:  DistrictOfCol\n",
            "ALCOHOL State:  DistrictOfCol\n",
            "Perceptions of Great Risk from Having Five or More Drinks of an Alcoholic State:  DistrictOfCol\n",
            "TOBACCO PRODUCTS State:  DistrictOfCol\n",
            "MENTAL HEALTH MEASURES IN THE PAST YEAR State:  DistrictOfCol\n",
            "SUBSTANCE USE DISORDER AND TREATMENT State:  DistrictOfCol\n",
            "ILLICIT DRUGS State:  Florida\n",
            "First Use of Marijuana in the Past Year among Those at Risk for Initiation of Marijuana State:  Florida\n",
            "ALCOHOL State:  Florida\n",
            "Perceptions of Great Risk from Having Five or More Drinks of an Alcoholic State:  Florida\n",
            "TOBACCO PRODUCTS State:  Florida\n",
            "MENTAL HEALTH MEASURES IN THE PAST YEAR State:  Florida\n",
            "SUBSTANCE USE DISORDER AND TREATMENT State:  Florida\n",
            "ILLICIT DRUGS State:  Georgia\n",
            "First Use of Marijuana in the Past Year among Those at Risk for Initiation of Marijuana State:  Georgia\n",
            "ALCOHOL State:  Georgia\n",
            "Perceptions of Great Risk from Having Five or More Drinks of an Alcoholic State:  Georgia\n",
            "TOBACCO PRODUCTS State:  Georgia\n",
            "MENTAL HEALTH MEASURES IN THE PAST YEAR State:  Georgia\n",
            "SUBSTANCE USE DISORDER AND TREATMENT State:  Georgia\n",
            "ILLICIT DRUGS State:  Hawaii\n",
            "First Use of Marijuana in the Past Year among Those at Risk for Initiation of Marijuana State:  Hawaii\n",
            "ALCOHOL State:  Hawaii\n",
            "Perceptions of Great Risk from Having Five or More Drinks of an Alcoholic State:  Hawaii\n",
            "TOBACCO PRODUCTS State:  Hawaii\n",
            "MENTAL HEALTH MEASURES IN THE PAST YEAR State:  Hawaii\n",
            "SUBSTANCE USE DISORDER AND TREATMENT State:  Hawaii\n",
            "ILLICIT DRUGS State:  Idaho\n",
            "First Use of Marijuana in the Past Year among Those at Risk for Initiation of Marijuana State:  Idaho\n",
            "ALCOHOL State:  Idaho\n",
            "Perceptions of Great Risk from Having Five or More Drinks of an Alcoholic State:  Idaho\n",
            "TOBACCO PRODUCTS State:  Idaho\n",
            "MENTAL HEALTH MEASURES IN THE PAST YEAR State:  Idaho\n",
            "SUBSTANCE USE DISORDER AND TREATMENT State:  Idaho\n",
            "ILLICIT DRUGS State:  Illinois\n",
            "First Use of Marijuana in the Past Year among Those at Risk for Initiation of Marijuana State:  Illinois\n",
            "ALCOHOL State:  Illinois\n",
            "Perceptions of Great Risk from Having Five or More Drinks of an Alcoholic State:  Illinois\n",
            "TOBACCO PRODUCTS State:  Illinois\n",
            "MENTAL HEALTH MEASURES IN THE PAST YEAR State:  Illinois\n",
            "SUBSTANCE USE DISORDER AND TREATMENT State:  Illinois\n",
            "ILLICIT DRUGS State:  Indiana\n",
            "First Use of Marijuana in the Past Year among Those at Risk for Initiation of Marijuana State:  Indiana\n",
            "ALCOHOL State:  Indiana\n",
            "Perceptions of Great Risk from Having Five or More Drinks of an Alcoholic State:  Indiana\n",
            "TOBACCO PRODUCTS State:  Indiana\n",
            "MENTAL HEALTH MEASURES IN THE PAST YEAR State:  Indiana\n",
            "SUBSTANCE USE DISORDER AND TREATMENT State:  Indiana\n",
            "ILLICIT DRUGS State:  Iowa\n",
            "First Use of Marijuana in the Past Year among Those at Risk for Initiation of Marijuana State:  Iowa\n",
            "ALCOHOL State:  Iowa\n",
            "Perceptions of Great Risk from Having Five or More Drinks of an Alcoholic State:  Iowa\n",
            "TOBACCO PRODUCTS State:  Iowa\n",
            "MENTAL HEALTH MEASURES IN THE PAST YEAR State:  Iowa\n",
            "SUBSTANCE USE DISORDER AND TREATMENT State:  Iowa\n",
            "ILLICIT DRUGS State:  Kansas\n",
            "First Use of Marijuana in the Past Year among Those at Risk for Initiation of Marijuana State:  Kansas\n",
            "ALCOHOL State:  Kansas\n",
            "Perceptions of Great Risk from Having Five or More Drinks of an Alcoholic State:  Kansas\n",
            "TOBACCO PRODUCTS State:  Kansas\n",
            "MENTAL HEALTH MEASURES IN THE PAST YEAR State:  Kansas\n",
            "SUBSTANCE USE DISORDER AND TREATMENT State:  Kansas\n",
            "ILLICIT DRUGS State:  Kentucky\n",
            "First Use of Marijuana in the Past Year among Those at Risk for Initiation of Marijuana State:  Kentucky\n",
            "ALCOHOL State:  Kentucky\n",
            "Perceptions of Great Risk from Having Five or More Drinks of an Alcoholic State:  Kentucky\n",
            "TOBACCO PRODUCTS State:  Kentucky\n",
            "MENTAL HEALTH MEASURES IN THE PAST YEAR State:  Kentucky\n",
            "SUBSTANCE USE DISORDER AND TREATMENT State:  Kentucky\n",
            "ILLICIT DRUGS State:  Louisiana\n",
            "First Use of Marijuana in the Past Year among Those at Risk for Initiation of Marijuana State:  Louisiana\n",
            "ALCOHOL State:  Louisiana\n",
            "Perceptions of Great Risk from Having Five or More Drinks of an Alcoholic State:  Louisiana\n",
            "TOBACCO PRODUCTS State:  Louisiana\n",
            "MENTAL HEALTH MEASURES IN THE PAST YEAR State:  Louisiana\n",
            "SUBSTANCE USE DISORDER AND TREATMENT State:  Louisiana\n",
            "ILLICIT DRUGS State:  Maine\n",
            "First Use of Marijuana in the Past Year among Those at Risk for Initiation of Marijuana State:  Maine\n",
            "ALCOHOL State:  Maine\n",
            "Perceptions of Great Risk from Having Five or More Drinks of an Alcoholic State:  Maine\n",
            "TOBACCO PRODUCTS State:  Maine\n",
            "MENTAL HEALTH MEASURES IN THE PAST YEAR State:  Maine\n",
            "SUBSTANCE USE DISORDER AND TREATMENT State:  Maine\n",
            "ILLICIT DRUGS State:  Maryland\n",
            "First Use of Marijuana in the Past Year among Those at Risk for Initiation of Marijuana State:  Maryland\n",
            "ALCOHOL State:  Maryland\n",
            "Perceptions of Great Risk from Having Five or More Drinks of an Alcoholic State:  Maryland\n",
            "TOBACCO PRODUCTS State:  Maryland\n",
            "MENTAL HEALTH MEASURES IN THE PAST YEAR State:  Maryland\n",
            "SUBSTANCE USE DISORDER AND TREATMENT State:  Maryland\n",
            "ILLICIT DRUGS State:  Massachusetts\n",
            "First Use of Marijuana in the Past Year among Those at Risk for Initiation of Marijuana State:  Massachusetts\n",
            "ALCOHOL State:  Massachusetts\n",
            "Perceptions of Great Risk from Having Five or More Drinks of an Alcoholic State:  Massachusetts\n",
            "TOBACCO PRODUCTS State:  Massachusetts\n",
            "MENTAL HEALTH MEASURES IN THE PAST YEAR State:  Massachusetts\n",
            "SUBSTANCE USE DISORDER AND TREATMENT State:  Massachusetts\n",
            "ILLICIT DRUGS State:  Michigan\n",
            "First Use of Marijuana in the Past Year among Those at Risk for Initiation of Marijuana State:  Michigan\n",
            "ALCOHOL State:  Michigan\n",
            "Perceptions of Great Risk from Having Five or More Drinks of an Alcoholic State:  Michigan\n",
            "TOBACCO PRODUCTS State:  Michigan\n",
            "MENTAL HEALTH MEASURES IN THE PAST YEAR State:  Michigan\n",
            "SUBSTANCE USE DISORDER AND TREATMENT State:  Michigan\n",
            "ILLICIT DRUGS State:  Midwest\n",
            "First Use of Marijuana in the Past Year among Those at Risk for Initiation of Marijuana State:  Midwest\n",
            "ALCOHOL State:  Midwest\n",
            "Perceptions of Great Risk from Having Five or More Drinks of an Alcoholic State:  Midwest\n",
            "TOBACCO PRODUCTS State:  Midwest\n",
            "MENTAL HEALTH MEASURES IN THE PAST YEAR State:  Midwest\n",
            "SUBSTANCE USE DISORDER AND TREATMENT State:  Midwest\n",
            "ILLICIT DRUGS State:  Minnesota\n",
            "First Use of Marijuana in the Past Year among Those at Risk for Initiation of Marijuana State:  Minnesota\n",
            "ALCOHOL State:  Minnesota\n",
            "Perceptions of Great Risk from Having Five or More Drinks of an Alcoholic State:  Minnesota\n",
            "TOBACCO PRODUCTS State:  Minnesota\n",
            "MENTAL HEALTH MEASURES IN THE PAST YEAR State:  Minnesota\n",
            "SUBSTANCE USE DISORDER AND TREATMENT State:  Minnesota\n",
            "ILLICIT DRUGS State:  Mississippi\n",
            "First Use of Marijuana in the Past Year among Those at Risk for Initiation of Marijuana State:  Mississippi\n",
            "ALCOHOL State:  Mississippi\n",
            "Perceptions of Great Risk from Having Five or More Drinks of an Alcoholic State:  Mississippi\n",
            "TOBACCO PRODUCTS State:  Mississippi\n",
            "MENTAL HEALTH MEASURES IN THE PAST YEAR State:  Mississippi\n",
            "SUBSTANCE USE DISORDER AND TREATMENT State:  Mississippi\n",
            "ILLICIT DRUGS State:  Missouri\n",
            "First Use of Marijuana in the Past Year among Those at Risk for Initiation of Marijuana State:  Missouri\n",
            "ALCOHOL State:  Missouri\n",
            "Perceptions of Great Risk from Having Five or More Drinks of an Alcoholic State:  Missouri\n",
            "TOBACCO PRODUCTS State:  Missouri\n",
            "MENTAL HEALTH MEASURES IN THE PAST YEAR State:  Missouri\n",
            "SUBSTANCE USE DISORDER AND TREATMENT State:  Missouri\n",
            "ILLICIT DRUGS State:  Montana\n",
            "First Use of Marijuana in the Past Year among Those at Risk for Initiation of Marijuana State:  Montana\n",
            "ALCOHOL State:  Montana\n",
            "Perceptions of Great Risk from Having Five or More Drinks of an Alcoholic State:  Montana\n",
            "TOBACCO PRODUCTS State:  Montana\n",
            "MENTAL HEALTH MEASURES IN THE PAST YEAR State:  Montana\n",
            "SUBSTANCE USE DISORDER AND TREATMENT State:  Montana\n",
            "ILLICIT DRUGS State:  National\n",
            "First Use of Marijuana in the Past Year among Those at Risk for Initiation of Marijuana State:  National\n",
            "ALCOHOL State:  National\n",
            "Perceptions of Great Risk from Having Five or More Drinks of an Alcoholic State:  National\n",
            "TOBACCO PRODUCTS State:  National\n",
            "MENTAL HEALTH MEASURES IN THE PAST YEAR State:  National\n",
            "SUBSTANCE USE DISORDER AND TREATMENT State:  National\n",
            "ILLICIT DRUGS State:  Nebraska\n",
            "First Use of Marijuana in the Past Year among Those at Risk for Initiation of Marijuana State:  Nebraska\n",
            "ALCOHOL State:  Nebraska\n",
            "Perceptions of Great Risk from Having Five or More Drinks of an Alcoholic State:  Nebraska\n",
            "TOBACCO PRODUCTS State:  Nebraska\n",
            "MENTAL HEALTH MEASURES IN THE PAST YEAR State:  Nebraska\n",
            "SUBSTANCE USE DISORDER AND TREATMENT State:  Nebraska\n",
            "ILLICIT DRUGS State:  Nevada\n",
            "First Use of Marijuana in the Past Year among Those at Risk for Initiation of Marijuana State:  Nevada\n",
            "ALCOHOL State:  Nevada\n",
            "Perceptions of Great Risk from Having Five or More Drinks of an Alcoholic State:  Nevada\n",
            "TOBACCO PRODUCTS State:  Nevada\n",
            "MENTAL HEALTH MEASURES IN THE PAST YEAR State:  Nevada\n",
            "SUBSTANCE USE DISORDER AND TREATMENT State:  Nevada\n",
            "ILLICIT DRUGS State:  NewHampshire\n",
            "First Use of Marijuana in the Past Year among Those at Risk for Initiation of Marijuana State:  NewHampshire\n",
            "ALCOHOL State:  NewHampshire\n",
            "Perceptions of Great Risk from Having Five or More Drinks of an Alcoholic State:  NewHampshire\n",
            "TOBACCO PRODUCTS State:  NewHampshire\n",
            "MENTAL HEALTH MEASURES IN THE PAST YEAR State:  NewHampshire\n",
            "SUBSTANCE USE DISORDER AND TREATMENT State:  NewHampshire\n",
            "ILLICIT DRUGS State:  NewJersey\n",
            "First Use of Marijuana in the Past Year among Those at Risk for Initiation of Marijuana State:  NewJersey\n",
            "ALCOHOL State:  NewJersey\n",
            "Perceptions of Great Risk from Having Five or More Drinks of an Alcoholic State:  NewJersey\n",
            "TOBACCO PRODUCTS State:  NewJersey\n",
            "MENTAL HEALTH MEASURES IN THE PAST YEAR State:  NewJersey\n",
            "SUBSTANCE USE DISORDER AND TREATMENT State:  NewJersey\n",
            "ILLICIT DRUGS State:  NewMexico\n",
            "First Use of Marijuana in the Past Year among Those at Risk for Initiation of Marijuana State:  NewMexico\n",
            "ALCOHOL State:  NewMexico\n",
            "Perceptions of Great Risk from Having Five or More Drinks of an Alcoholic State:  NewMexico\n",
            "TOBACCO PRODUCTS State:  NewMexico\n",
            "MENTAL HEALTH MEASURES IN THE PAST YEAR State:  NewMexico\n",
            "SUBSTANCE USE DISORDER AND TREATMENT State:  NewMexico\n",
            "ILLICIT DRUGS State:  NewYork\n",
            "First Use of Marijuana in the Past Year among Those at Risk for Initiation of Marijuana State:  NewYork\n",
            "ALCOHOL State:  NewYork\n",
            "Perceptions of Great Risk from Having Five or More Drinks of an Alcoholic State:  NewYork\n",
            "TOBACCO PRODUCTS State:  NewYork\n",
            "MENTAL HEALTH MEASURES IN THE PAST YEAR State:  NewYork\n",
            "SUBSTANCE USE DISORDER AND TREATMENT State:  NewYork\n",
            "ILLICIT DRUGS State:  NorthCarolina\n",
            "First Use of Marijuana in the Past Year among Those at Risk for Initiation of Marijuana State:  NorthCarolina\n",
            "ALCOHOL State:  NorthCarolina\n",
            "Perceptions of Great Risk from Having Five or More Drinks of an Alcoholic State:  NorthCarolina\n",
            "TOBACCO PRODUCTS State:  NorthCarolina\n",
            "MENTAL HEALTH MEASURES IN THE PAST YEAR State:  NorthCarolina\n",
            "SUBSTANCE USE DISORDER AND TREATMENT State:  NorthCarolina\n",
            "ILLICIT DRUGS State:  NorthDakota\n",
            "First Use of Marijuana in the Past Year among Those at Risk for Initiation of Marijuana State:  NorthDakota\n",
            "ALCOHOL State:  NorthDakota\n",
            "Perceptions of Great Risk from Having Five or More Drinks of an Alcoholic State:  NorthDakota\n",
            "TOBACCO PRODUCTS State:  NorthDakota\n",
            "MENTAL HEALTH MEASURES IN THE PAST YEAR State:  NorthDakota\n",
            "SUBSTANCE USE DISORDER AND TREATMENT State:  NorthDakota\n",
            "ILLICIT DRUGS State:  Northeast\n",
            "First Use of Marijuana in the Past Year among Those at Risk for Initiation of Marijuana State:  Northeast\n",
            "ALCOHOL State:  Northeast\n",
            "Perceptions of Great Risk from Having Five or More Drinks of an Alcoholic State:  Northeast\n",
            "TOBACCO PRODUCTS State:  Northeast\n",
            "MENTAL HEALTH MEASURES IN THE PAST YEAR State:  Northeast\n",
            "SUBSTANCE USE DISORDER AND TREATMENT State:  Northeast\n",
            "ILLICIT DRUGS State:  Ohio\n",
            "First Use of Marijuana in the Past Year among Those at Risk for Initiation of Marijuana State:  Ohio\n",
            "ALCOHOL State:  Ohio\n",
            "Perceptions of Great Risk from Having Five or More Drinks of an Alcoholic State:  Ohio\n",
            "TOBACCO PRODUCTS State:  Ohio\n",
            "MENTAL HEALTH MEASURES IN THE PAST YEAR State:  Ohio\n",
            "SUBSTANCE USE DISORDER AND TREATMENT State:  Ohio\n",
            "ILLICIT DRUGS State:  Oklahoma\n",
            "First Use of Marijuana in the Past Year among Those at Risk for Initiation of Marijuana State:  Oklahoma\n",
            "ALCOHOL State:  Oklahoma\n",
            "Perceptions of Great Risk from Having Five or More Drinks of an Alcoholic State:  Oklahoma\n",
            "TOBACCO PRODUCTS State:  Oklahoma\n",
            "MENTAL HEALTH MEASURES IN THE PAST YEAR State:  Oklahoma\n",
            "SUBSTANCE USE DISORDER AND TREATMENT State:  Oklahoma\n",
            "ILLICIT DRUGS State:  Oregon\n",
            "First Use of Marijuana in the Past Year among Those at Risk for Initiation of Marijuana State:  Oregon\n",
            "ALCOHOL State:  Oregon\n",
            "Perceptions of Great Risk from Having Five or More Drinks of an Alcoholic State:  Oregon\n",
            "TOBACCO PRODUCTS State:  Oregon\n",
            "MENTAL HEALTH MEASURES IN THE PAST YEAR State:  Oregon\n",
            "SUBSTANCE USE DISORDER AND TREATMENT State:  Oregon\n",
            "ILLICIT DRUGS State:  Pennsylvania\n",
            "First Use of Marijuana in the Past Year among Those at Risk for Initiation of Marijuana State:  Pennsylvania\n",
            "ALCOHOL State:  Pennsylvania\n",
            "Perceptions of Great Risk from Having Five or More Drinks of an Alcoholic State:  Pennsylvania\n",
            "TOBACCO PRODUCTS State:  Pennsylvania\n",
            "MENTAL HEALTH MEASURES IN THE PAST YEAR State:  Pennsylvania\n",
            "SUBSTANCE USE DISORDER AND TREATMENT State:  Pennsylvania\n",
            "ILLICIT DRUGS State:  RhodeIsland\n",
            "First Use of Marijuana in the Past Year among Those at Risk for Initiation of Marijuana State:  RhodeIsland\n",
            "ALCOHOL State:  RhodeIsland\n",
            "Perceptions of Great Risk from Having Five or More Drinks of an Alcoholic State:  RhodeIsland\n",
            "TOBACCO PRODUCTS State:  RhodeIsland\n",
            "MENTAL HEALTH MEASURES IN THE PAST YEAR State:  RhodeIsland\n",
            "SUBSTANCE USE DISORDER AND TREATMENT State:  RhodeIsland\n",
            "ILLICIT DRUGS State:  South\n",
            "First Use of Marijuana in the Past Year among Those at Risk for Initiation of Marijuana State:  South\n",
            "ALCOHOL State:  South\n",
            "Perceptions of Great Risk from Having Five or More Drinks of an Alcoholic State:  South\n",
            "TOBACCO PRODUCTS State:  South\n",
            "MENTAL HEALTH MEASURES IN THE PAST YEAR State:  South\n",
            "SUBSTANCE USE DISORDER AND TREATMENT State:  South\n",
            "ILLICIT DRUGS State:  SouthCarolina\n",
            "First Use of Marijuana in the Past Year among Those at Risk for Initiation of Marijuana State:  SouthCarolina\n",
            "ALCOHOL State:  SouthCarolina\n",
            "Perceptions of Great Risk from Having Five or More Drinks of an Alcoholic State:  SouthCarolina\n",
            "TOBACCO PRODUCTS State:  SouthCarolina\n",
            "MENTAL HEALTH MEASURES IN THE PAST YEAR State:  SouthCarolina\n",
            "SUBSTANCE USE DISORDER AND TREATMENT State:  SouthCarolina\n",
            "ILLICIT DRUGS State:  SouthDakota\n",
            "First Use of Marijuana in the Past Year among Those at Risk for Initiation of Marijuana State:  SouthDakota\n",
            "ALCOHOL State:  SouthDakota\n",
            "Perceptions of Great Risk from Having Five or More Drinks of an Alcoholic State:  SouthDakota\n",
            "TOBACCO PRODUCTS State:  SouthDakota\n",
            "MENTAL HEALTH MEASURES IN THE PAST YEAR State:  SouthDakota\n",
            "SUBSTANCE USE DISORDER AND TREATMENT State:  SouthDakota\n",
            "ILLICIT DRUGS State:  Tennessee\n",
            "First Use of Marijuana in the Past Year among Those at Risk for Initiation of Marijuana State:  Tennessee\n",
            "ALCOHOL State:  Tennessee\n",
            "Perceptions of Great Risk from Having Five or More Drinks of an Alcoholic State:  Tennessee\n",
            "TOBACCO PRODUCTS State:  Tennessee\n",
            "MENTAL HEALTH MEASURES IN THE PAST YEAR State:  Tennessee\n",
            "SUBSTANCE USE DISORDER AND TREATMENT State:  Tennessee\n",
            "ILLICIT DRUGS State:  Texas\n",
            "First Use of Marijuana in the Past Year among Those at Risk for Initiation of Marijuana State:  Texas\n",
            "ALCOHOL State:  Texas\n",
            "Perceptions of Great Risk from Having Five or More Drinks of an Alcoholic State:  Texas\n",
            "TOBACCO PRODUCTS State:  Texas\n",
            "MENTAL HEALTH MEASURES IN THE PAST YEAR State:  Texas\n",
            "SUBSTANCE USE DISORDER AND TREATMENT State:  Texas\n",
            "ILLICIT DRUGS State:  Utah\n",
            "First Use of Marijuana in the Past Year among Those at Risk for Initiation of Marijuana State:  Utah\n",
            "ALCOHOL State:  Utah\n",
            "Perceptions of Great Risk from Having Five or More Drinks of an Alcoholic State:  Utah\n",
            "TOBACCO PRODUCTS State:  Utah\n",
            "MENTAL HEALTH MEASURES IN THE PAST YEAR State:  Utah\n",
            "SUBSTANCE USE DISORDER AND TREATMENT State:  Utah\n",
            "ILLICIT DRUGS State:  Vermont\n",
            "First Use of Marijuana in the Past Year among Those at Risk for Initiation of Marijuana State:  Vermont\n",
            "ALCOHOL State:  Vermont\n",
            "Perceptions of Great Risk from Having Five or More Drinks of an Alcoholic State:  Vermont\n",
            "TOBACCO PRODUCTS State:  Vermont\n",
            "MENTAL HEALTH MEASURES IN THE PAST YEAR State:  Vermont\n",
            "SUBSTANCE USE DISORDER AND TREATMENT State:  Vermont\n",
            "ILLICIT DRUGS State:  Virginia\n",
            "First Use of Marijuana in the Past Year among Those at Risk for Initiation of Marijuana State:  Virginia\n",
            "ALCOHOL State:  Virginia\n",
            "Perceptions of Great Risk from Having Five or More Drinks of an Alcoholic State:  Virginia\n",
            "TOBACCO PRODUCTS State:  Virginia\n",
            "MENTAL HEALTH MEASURES IN THE PAST YEAR State:  Virginia\n",
            "SUBSTANCE USE DISORDER AND TREATMENT State:  Virginia\n",
            "ILLICIT DRUGS State:  Washington\n",
            "First Use of Marijuana in the Past Year among Those at Risk for Initiation of Marijuana State:  Washington\n",
            "ALCOHOL State:  Washington\n",
            "Perceptions of Great Risk from Having Five or More Drinks of an Alcoholic State:  Washington\n",
            "TOBACCO PRODUCTS State:  Washington\n",
            "MENTAL HEALTH MEASURES IN THE PAST YEAR State:  Washington\n",
            "SUBSTANCE USE DISORDER AND TREATMENT State:  Washington\n",
            "ILLICIT DRUGS State:  West\n",
            "First Use of Marijuana in the Past Year among Those at Risk for Initiation of Marijuana State:  West\n",
            "ALCOHOL State:  West\n",
            "Perceptions of Great Risk from Having Five or More Drinks of an Alcoholic State:  West\n",
            "TOBACCO PRODUCTS State:  West\n",
            "MENTAL HEALTH MEASURES IN THE PAST YEAR State:  West\n",
            "SUBSTANCE USE DISORDER AND TREATMENT State:  West\n",
            "ILLICIT DRUGS State:  WestVirginia\n",
            "First Use of Marijuana in the Past Year among Those at Risk for Initiation of Marijuana State:  WestVirginia\n",
            "ALCOHOL State:  WestVirginia\n",
            "Perceptions of Great Risk from Having Five or More Drinks of an Alcoholic State:  WestVirginia\n",
            "TOBACCO PRODUCTS State:  WestVirginia\n",
            "MENTAL HEALTH MEASURES IN THE PAST YEAR State:  WestVirginia\n",
            "SUBSTANCE USE DISORDER AND TREATMENT State:  WestVirginia\n",
            "ILLICIT DRUGS State:  Wisconsin\n",
            "First Use of Marijuana in the Past Year among Those at Risk for Initiation of Marijuana State:  Wisconsin\n",
            "ALCOHOL State:  Wisconsin\n",
            "Perceptions of Great Risk from Having Five or More Drinks of an Alcoholic State:  Wisconsin\n",
            "TOBACCO PRODUCTS State:  Wisconsin\n",
            "MENTAL HEALTH MEASURES IN THE PAST YEAR State:  Wisconsin\n",
            "SUBSTANCE USE DISORDER AND TREATMENT State:  Wisconsin\n",
            "ILLICIT DRUGS State:  Wyoming\n",
            "First Use of Marijuana in the Past Year among Those at Risk for Initiation of Marijuana State:  Wyoming\n",
            "ALCOHOL State:  Wyoming\n",
            "Perceptions of Great Risk from Having Five or More Drinks of an Alcoholic State:  Wyoming\n",
            "TOBACCO PRODUCTS State:  Wyoming\n",
            "MENTAL HEALTH MEASURES IN THE PAST YEAR State:  Wyoming\n",
            "SUBSTANCE USE DISORDER AND TREATMENT State:  Wyoming\n"
          ]
        }
      ]
    },
    {
      "cell_type": "code",
      "source": [
        "final_dataset.to_csv(os.path.join(dir + \"//\" + folder_name, \"state_dataset_2.csv\"), index=False)"
      ],
      "metadata": {
        "id": "3KUW-vk7O2ev"
      },
      "execution_count": 36,
      "outputs": []
    },
    {
      "cell_type": "code",
      "source": [],
      "metadata": {
        "id": "ttyRcjPYV1BG"
      },
      "execution_count": null,
      "outputs": []
    }
  ]
}